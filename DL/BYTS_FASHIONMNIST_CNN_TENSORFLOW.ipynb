{
  "nbformat": 4,
  "nbformat_minor": 0,
  "metadata": {
    "colab": {
      "provenance": []
    },
    "kernelspec": {
      "name": "python3",
      "display_name": "Python 3"
    },
    "language_info": {
      "name": "python"
    },
    "accelerator": "TPU"
  },
  "cells": [
    {
      "cell_type": "code",
      "execution_count": null,
      "metadata": {
        "id": "LyX-kVck7Qym"
      },
      "outputs": [],
      "source": [
        "import tensorflow as tf\n",
        "from keras import layers,models\n",
        "from keras.datasets import fashion_mnist\n",
        "from keras.utils import to_categorical"
      ]
    },
    {
      "cell_type": "code",
      "source": [
        "(train_images,train_labels),(test_images,test_labels)=fashion_mnist.load_data()"
      ],
      "metadata": {
        "id": "K2BdAGd17d0E"
      },
      "execution_count": null,
      "outputs": []
    },
    {
      "cell_type": "code",
      "source": [
        "train_images=train_images/255.0\n",
        "test_images = test_images/255.0"
      ],
      "metadata": {
        "id": "bf1u0Snm74SA"
      },
      "execution_count": null,
      "outputs": []
    },
    {
      "cell_type": "code",
      "source": [
        "train_images = train_images.reshape((60000, 28, 28, 1))\n",
        "test_images = test_images.reshape((10000, 28, 28, 1))\n",
        "\n",
        "train_labels = to_categorical(train_labels)\n",
        "test_labels = to_categorical(test_labels)"
      ],
      "metadata": {
        "id": "ADoCzYnmB8m1"
      },
      "execution_count": null,
      "outputs": []
    },
    {
      "cell_type": "code",
      "source": [
        "model=models.Sequential()\n",
        "model.add(layers.Conv2D(32,(3,3),activation = 'relu',input_shape=(28,28,1))) #32 is the number of kernel\n",
        "model.add(layers.MaxPooling2D((2,2)))\n",
        "model.add(layers.Conv2D(64,(3,3),activation='relu'))\n",
        "model.add(layers.MaxPooling2D((2,2)))\n",
        "model.add(layers.Conv2D(64,(3,3),activation='relu'))"
      ],
      "metadata": {
        "id": "VvYBCSxj8K1H"
      },
      "execution_count": null,
      "outputs": []
    },
    {
      "cell_type": "code",
      "source": [
        "model.add(layers.Flatten())\n",
        "model.add(layers.Dense(256,activation='relu'))\n",
        "model.add(layers.Dense(128,activation='relu'))\n",
        "model.add(layers.Dense(10,activation='softmax'))"
      ],
      "metadata": {
        "id": "iMU1QnzpAa6_"
      },
      "execution_count": null,
      "outputs": []
    },
    {
      "cell_type": "code",
      "source": [
        "model.compile(optimizer='adam',loss='categorical_crossentropy',metrics=['accuracy'])"
      ],
      "metadata": {
        "id": "maM6cQu0AzDE"
      },
      "execution_count": null,
      "outputs": []
    },
    {
      "cell_type": "code",
      "source": [
        "model.fit(train_images,train_labels,epochs=10,validation_data=(test_images,test_labels))"
      ],
      "metadata": {
        "colab": {
          "base_uri": "https://localhost:8080/"
        },
        "id": "Jh7wJISOBAOl",
        "outputId": "fa8ac0a0-f213-4147-f5b5-f3f1582f5a4c"
      },
      "execution_count": null,
      "outputs": [
        {
          "output_type": "stream",
          "name": "stdout",
          "text": [
            "Epoch 1/10\n",
            "1875/1875 [==============================] - 80s 43ms/step - loss: 0.2865 - accuracy: 0.8935 - val_loss: 0.3146 - val_accuracy: 0.8867\n",
            "Epoch 2/10\n",
            "1875/1875 [==============================] - 76s 41ms/step - loss: 0.2496 - accuracy: 0.9077 - val_loss: 0.2968 - val_accuracy: 0.8913\n",
            "Epoch 3/10\n",
            "1875/1875 [==============================] - 78s 41ms/step - loss: 0.2231 - accuracy: 0.9166 - val_loss: 0.2595 - val_accuracy: 0.9045\n",
            "Epoch 4/10\n",
            "1875/1875 [==============================] - 80s 43ms/step - loss: 0.2010 - accuracy: 0.9240 - val_loss: 0.2677 - val_accuracy: 0.9040\n",
            "Epoch 5/10\n",
            "1875/1875 [==============================] - 79s 42ms/step - loss: 0.1822 - accuracy: 0.9308 - val_loss: 0.2585 - val_accuracy: 0.9101\n",
            "Epoch 6/10\n",
            "1875/1875 [==============================] - 77s 41ms/step - loss: 0.1636 - accuracy: 0.9374 - val_loss: 0.2929 - val_accuracy: 0.9006\n",
            "Epoch 7/10\n",
            "1875/1875 [==============================] - 83s 44ms/step - loss: 0.1523 - accuracy: 0.9417 - val_loss: 0.2814 - val_accuracy: 0.9037\n",
            "Epoch 8/10\n",
            "1875/1875 [==============================] - 76s 41ms/step - loss: 0.1363 - accuracy: 0.9482 - val_loss: 0.2938 - val_accuracy: 0.9046\n",
            "Epoch 9/10\n",
            "1875/1875 [==============================] - 78s 42ms/step - loss: 0.1265 - accuracy: 0.9512 - val_loss: 0.2944 - val_accuracy: 0.9104\n",
            "Epoch 10/10\n",
            "1875/1875 [==============================] - 80s 42ms/step - loss: 0.1146 - accuracy: 0.9558 - val_loss: 0.3346 - val_accuracy: 0.9042\n"
          ]
        },
        {
          "output_type": "execute_result",
          "data": {
            "text/plain": [
              "<keras.callbacks.History at 0x7bfec8cce470>"
            ]
          },
          "metadata": {},
          "execution_count": 17
        }
      ]
    },
    {
      "cell_type": "code",
      "source": [
        "test_loss,test_acc =  model.evaluate(test_images,test_labels)\n",
        "print(f\"Test accuracy: {test_acc}\")"
      ],
      "metadata": {
        "colab": {
          "base_uri": "https://localhost:8080/"
        },
        "id": "--gETOTwD-vc",
        "outputId": "296ac3f4-855d-40b2-8401-910e6d9bfb79"
      },
      "execution_count": null,
      "outputs": [
        {
          "output_type": "stream",
          "name": "stdout",
          "text": [
            "313/313 [==============================] - 4s 11ms/step - loss: 0.3346 - accuracy: 0.9042\n",
            "Test accuracy: 0.90420001745224\n"
          ]
        }
      ]
    },
    {
      "cell_type": "code",
      "source": [
        "import os\n",
        "\n",
        "# Set a temporary directory accessible on Windows\n",
        "os.environ['TMPDIR'] = 'C:\\\\path\\\\to\\\\your\\\\temp\\\\directory'\n",
        "\n",
        "import tensorflow as tf\n",
        "from keras import layers,models\n",
        "from keras.datasets import fashion_mnist\n",
        "from keras.utils import to_categorical\n",
        "(train_images,train_labels),(test_images,test_labels)=fashion_mnist.load_data()\n",
        "train_images=train_images/255.0\n",
        "test_images = test_images/255.0\n",
        "train_images = train_images.reshape((60000, 28, 28, 1))\n",
        "test_images = test_images.reshape((10000, 28, 28, 1))\n",
        "\n",
        "train_labels = to_categorical(train_labels)\n",
        "test_labels = to_categorical(test_labels)\n",
        "model=models.Sequential()\n",
        "model.add(layers.Conv2D(32,(3,3),activation = 'relu',input_shape=(28,28,1))) #32 is the number of kernel\n",
        "model.add(layers.MaxPooling2D((2,2)))\n",
        "model.add(layers.Conv2D(64,(3,3),activation='relu'))\n",
        "model.add(layers.MaxPooling2D((2,2)))\n",
        "model.add(layers.Conv2D(64,(3,3),activation='relu'))\n",
        "model.add(layers.Flatten())\n",
        "model.add(layers.Dense(256,activation='relu'))\n",
        "model.add(layers.Dense(128,activation='relu'))\n",
        "model.add(layers.Dense(10,activation='softmax'))\n",
        "model.compile(optimizer='adam',loss='categorical_crossentropy',metrics=['accuracy'])\n",
        "model.fit(train_images,train_labels,epochs=10,validation_data=(test_images,test_labels))\n",
        "test_loss,test_acc =  model.evaluate(test_images,test_labels)\n",
        "print(f\"Test accuracy: {test_acc}\")\n",
        "model.save(\"Fashion_Mnist_Model_cnn\")\n",
        "\n",
        "\n",
        "#python model.py"
      ],
      "metadata": {
        "id": "K0Ko1ZB3EmVl"
      },
      "execution_count": null,
      "outputs": []
    }
  ]
}