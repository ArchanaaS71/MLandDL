{
  "nbformat": 4,
  "nbformat_minor": 0,
  "metadata": {
    "colab": {
      "provenance": []
    },
    "kernelspec": {
      "name": "python3",
      "display_name": "Python 3"
    },
    "language_info": {
      "name": "python"
    }
  },
  "cells": [
    {
      "cell_type": "code",
      "execution_count": null,
      "metadata": {
        "id": "mq2zOiyjbCHh"
      },
      "outputs": [],
      "source": [
        "import numpy as np\n",
        "import pandas as pd"
      ]
    },
    {
      "cell_type": "code",
      "source": [
        "data=pd.read_csv('/content/indian-state-level-election.csv')\n",
        "data"
      ],
      "metadata": {
        "colab": {
          "base_uri": "https://localhost:8080/",
          "height": 423
        },
        "id": "ggQo4V05bm_f",
        "outputId": "a84f9de1-41af-453b-ad4b-5dca45896792"
      },
      "execution_count": null,
      "outputs": [
        {
          "output_type": "execute_result",
          "data": {
            "text/plain": [
              "               st_name    year  ac_no    ac_name ac_type  \\\n",
              "0       Andhra Pradesh  1978.0      1  Ichapuram     GEN   \n",
              "1       Andhra Pradesh  1978.0      1  Ichapuram     GEN   \n",
              "2       Andhra Pradesh  1978.0      1  Ichapuram     GEN   \n",
              "3       Andhra Pradesh  1978.0      1  Ichapuram     GEN   \n",
              "4       Andhra Pradesh  1978.0      1  Ichapuram     GEN   \n",
              "...                ...     ...    ...        ...     ...   \n",
              "327289     West Bengal  2011.0    294    Murarai     GEN   \n",
              "327290     West Bengal  2011.0    294    Murarai     GEN   \n",
              "327291     West Bengal  2011.0    294    Murarai     GEN   \n",
              "327292     West Bengal  2011.0    294    Murarai     GEN   \n",
              "327293     West Bengal  2011.0    294    Murarai     GEN   \n",
              "\n",
              "                        cand_name cand_sex                     partyname  \\\n",
              "0                Manabala Ramarao        M                   Independent   \n",
              "1                     Appadu Sahu        M                   Independent   \n",
              "2                Uppada Rangababu        M      Indian National Congress   \n",
              "3            Kalla Balarama Swamy        M  Indian National Congress (I)   \n",
              "4       Bendalam Venkatesam Sarma        M                  Janata Party   \n",
              "...                           ...      ...                           ...   \n",
              "327289                  Ajrail Md        M                           IND   \n",
              "327290             Shiblal Sardar        M                           BSP   \n",
              "327291    Sudhiranjan Das Goswami        M                           BJP   \n",
              "327292             Elahi Kamre Dr        M                           CPM   \n",
              "327293        Nure Alam Chowdhury        M                          AITC   \n",
              "\n",
              "       partyabbre  totvotpoll  electors  \n",
              "0             IND       813.0     83247  \n",
              "1             IND      1743.0     83247  \n",
              "2             INC      4427.0     83247  \n",
              "3          INC(I)     19805.0     83247  \n",
              "4             JNP     34251.0     83247  \n",
              "...           ...         ...       ...  \n",
              "327289        IND      2471.0    189320  \n",
              "327290        BSP      3074.0    189320  \n",
              "327291        BJP      4961.0    189320  \n",
              "327292        CPM     73414.0    189320  \n",
              "327293       AITC     77817.0    189320  \n",
              "\n",
              "[327294 rows x 11 columns]"
            ],
            "text/html": [
              "\n",
              "  <div id=\"df-e0d6ff55-357d-44bc-8d9a-677637c07797\" class=\"colab-df-container\">\n",
              "    <div>\n",
              "<style scoped>\n",
              "    .dataframe tbody tr th:only-of-type {\n",
              "        vertical-align: middle;\n",
              "    }\n",
              "\n",
              "    .dataframe tbody tr th {\n",
              "        vertical-align: top;\n",
              "    }\n",
              "\n",
              "    .dataframe thead th {\n",
              "        text-align: right;\n",
              "    }\n",
              "</style>\n",
              "<table border=\"1\" class=\"dataframe\">\n",
              "  <thead>\n",
              "    <tr style=\"text-align: right;\">\n",
              "      <th></th>\n",
              "      <th>st_name</th>\n",
              "      <th>year</th>\n",
              "      <th>ac_no</th>\n",
              "      <th>ac_name</th>\n",
              "      <th>ac_type</th>\n",
              "      <th>cand_name</th>\n",
              "      <th>cand_sex</th>\n",
              "      <th>partyname</th>\n",
              "      <th>partyabbre</th>\n",
              "      <th>totvotpoll</th>\n",
              "      <th>electors</th>\n",
              "    </tr>\n",
              "  </thead>\n",
              "  <tbody>\n",
              "    <tr>\n",
              "      <th>0</th>\n",
              "      <td>Andhra Pradesh</td>\n",
              "      <td>1978.0</td>\n",
              "      <td>1</td>\n",
              "      <td>Ichapuram</td>\n",
              "      <td>GEN</td>\n",
              "      <td>Manabala Ramarao</td>\n",
              "      <td>M</td>\n",
              "      <td>Independent</td>\n",
              "      <td>IND</td>\n",
              "      <td>813.0</td>\n",
              "      <td>83247</td>\n",
              "    </tr>\n",
              "    <tr>\n",
              "      <th>1</th>\n",
              "      <td>Andhra Pradesh</td>\n",
              "      <td>1978.0</td>\n",
              "      <td>1</td>\n",
              "      <td>Ichapuram</td>\n",
              "      <td>GEN</td>\n",
              "      <td>Appadu Sahu</td>\n",
              "      <td>M</td>\n",
              "      <td>Independent</td>\n",
              "      <td>IND</td>\n",
              "      <td>1743.0</td>\n",
              "      <td>83247</td>\n",
              "    </tr>\n",
              "    <tr>\n",
              "      <th>2</th>\n",
              "      <td>Andhra Pradesh</td>\n",
              "      <td>1978.0</td>\n",
              "      <td>1</td>\n",
              "      <td>Ichapuram</td>\n",
              "      <td>GEN</td>\n",
              "      <td>Uppada Rangababu</td>\n",
              "      <td>M</td>\n",
              "      <td>Indian National Congress</td>\n",
              "      <td>INC</td>\n",
              "      <td>4427.0</td>\n",
              "      <td>83247</td>\n",
              "    </tr>\n",
              "    <tr>\n",
              "      <th>3</th>\n",
              "      <td>Andhra Pradesh</td>\n",
              "      <td>1978.0</td>\n",
              "      <td>1</td>\n",
              "      <td>Ichapuram</td>\n",
              "      <td>GEN</td>\n",
              "      <td>Kalla Balarama Swamy</td>\n",
              "      <td>M</td>\n",
              "      <td>Indian National Congress (I)</td>\n",
              "      <td>INC(I)</td>\n",
              "      <td>19805.0</td>\n",
              "      <td>83247</td>\n",
              "    </tr>\n",
              "    <tr>\n",
              "      <th>4</th>\n",
              "      <td>Andhra Pradesh</td>\n",
              "      <td>1978.0</td>\n",
              "      <td>1</td>\n",
              "      <td>Ichapuram</td>\n",
              "      <td>GEN</td>\n",
              "      <td>Bendalam Venkatesam Sarma</td>\n",
              "      <td>M</td>\n",
              "      <td>Janata Party</td>\n",
              "      <td>JNP</td>\n",
              "      <td>34251.0</td>\n",
              "      <td>83247</td>\n",
              "    </tr>\n",
              "    <tr>\n",
              "      <th>...</th>\n",
              "      <td>...</td>\n",
              "      <td>...</td>\n",
              "      <td>...</td>\n",
              "      <td>...</td>\n",
              "      <td>...</td>\n",
              "      <td>...</td>\n",
              "      <td>...</td>\n",
              "      <td>...</td>\n",
              "      <td>...</td>\n",
              "      <td>...</td>\n",
              "      <td>...</td>\n",
              "    </tr>\n",
              "    <tr>\n",
              "      <th>327289</th>\n",
              "      <td>West Bengal</td>\n",
              "      <td>2011.0</td>\n",
              "      <td>294</td>\n",
              "      <td>Murarai</td>\n",
              "      <td>GEN</td>\n",
              "      <td>Ajrail Md</td>\n",
              "      <td>M</td>\n",
              "      <td>IND</td>\n",
              "      <td>IND</td>\n",
              "      <td>2471.0</td>\n",
              "      <td>189320</td>\n",
              "    </tr>\n",
              "    <tr>\n",
              "      <th>327290</th>\n",
              "      <td>West Bengal</td>\n",
              "      <td>2011.0</td>\n",
              "      <td>294</td>\n",
              "      <td>Murarai</td>\n",
              "      <td>GEN</td>\n",
              "      <td>Shiblal Sardar</td>\n",
              "      <td>M</td>\n",
              "      <td>BSP</td>\n",
              "      <td>BSP</td>\n",
              "      <td>3074.0</td>\n",
              "      <td>189320</td>\n",
              "    </tr>\n",
              "    <tr>\n",
              "      <th>327291</th>\n",
              "      <td>West Bengal</td>\n",
              "      <td>2011.0</td>\n",
              "      <td>294</td>\n",
              "      <td>Murarai</td>\n",
              "      <td>GEN</td>\n",
              "      <td>Sudhiranjan Das Goswami</td>\n",
              "      <td>M</td>\n",
              "      <td>BJP</td>\n",
              "      <td>BJP</td>\n",
              "      <td>4961.0</td>\n",
              "      <td>189320</td>\n",
              "    </tr>\n",
              "    <tr>\n",
              "      <th>327292</th>\n",
              "      <td>West Bengal</td>\n",
              "      <td>2011.0</td>\n",
              "      <td>294</td>\n",
              "      <td>Murarai</td>\n",
              "      <td>GEN</td>\n",
              "      <td>Elahi Kamre Dr</td>\n",
              "      <td>M</td>\n",
              "      <td>CPM</td>\n",
              "      <td>CPM</td>\n",
              "      <td>73414.0</td>\n",
              "      <td>189320</td>\n",
              "    </tr>\n",
              "    <tr>\n",
              "      <th>327293</th>\n",
              "      <td>West Bengal</td>\n",
              "      <td>2011.0</td>\n",
              "      <td>294</td>\n",
              "      <td>Murarai</td>\n",
              "      <td>GEN</td>\n",
              "      <td>Nure Alam Chowdhury</td>\n",
              "      <td>M</td>\n",
              "      <td>AITC</td>\n",
              "      <td>AITC</td>\n",
              "      <td>77817.0</td>\n",
              "      <td>189320</td>\n",
              "    </tr>\n",
              "  </tbody>\n",
              "</table>\n",
              "<p>327294 rows × 11 columns</p>\n",
              "</div>\n",
              "    <div class=\"colab-df-buttons\">\n",
              "\n",
              "  <div class=\"colab-df-container\">\n",
              "    <button class=\"colab-df-convert\" onclick=\"convertToInteractive('df-e0d6ff55-357d-44bc-8d9a-677637c07797')\"\n",
              "            title=\"Convert this dataframe to an interactive table.\"\n",
              "            style=\"display:none;\">\n",
              "\n",
              "  <svg xmlns=\"http://www.w3.org/2000/svg\" height=\"24px\" viewBox=\"0 -960 960 960\">\n",
              "    <path d=\"M120-120v-720h720v720H120Zm60-500h600v-160H180v160Zm220 220h160v-160H400v160Zm0 220h160v-160H400v160ZM180-400h160v-160H180v160Zm440 0h160v-160H620v160ZM180-180h160v-160H180v160Zm440 0h160v-160H620v160Z\"/>\n",
              "  </svg>\n",
              "    </button>\n",
              "\n",
              "  <style>\n",
              "    .colab-df-container {\n",
              "      display:flex;\n",
              "      gap: 12px;\n",
              "    }\n",
              "\n",
              "    .colab-df-convert {\n",
              "      background-color: #E8F0FE;\n",
              "      border: none;\n",
              "      border-radius: 50%;\n",
              "      cursor: pointer;\n",
              "      display: none;\n",
              "      fill: #1967D2;\n",
              "      height: 32px;\n",
              "      padding: 0 0 0 0;\n",
              "      width: 32px;\n",
              "    }\n",
              "\n",
              "    .colab-df-convert:hover {\n",
              "      background-color: #E2EBFA;\n",
              "      box-shadow: 0px 1px 2px rgba(60, 64, 67, 0.3), 0px 1px 3px 1px rgba(60, 64, 67, 0.15);\n",
              "      fill: #174EA6;\n",
              "    }\n",
              "\n",
              "    .colab-df-buttons div {\n",
              "      margin-bottom: 4px;\n",
              "    }\n",
              "\n",
              "    [theme=dark] .colab-df-convert {\n",
              "      background-color: #3B4455;\n",
              "      fill: #D2E3FC;\n",
              "    }\n",
              "\n",
              "    [theme=dark] .colab-df-convert:hover {\n",
              "      background-color: #434B5C;\n",
              "      box-shadow: 0px 1px 3px 1px rgba(0, 0, 0, 0.15);\n",
              "      filter: drop-shadow(0px 1px 2px rgba(0, 0, 0, 0.3));\n",
              "      fill: #FFFFFF;\n",
              "    }\n",
              "  </style>\n",
              "\n",
              "    <script>\n",
              "      const buttonEl =\n",
              "        document.querySelector('#df-e0d6ff55-357d-44bc-8d9a-677637c07797 button.colab-df-convert');\n",
              "      buttonEl.style.display =\n",
              "        google.colab.kernel.accessAllowed ? 'block' : 'none';\n",
              "\n",
              "      async function convertToInteractive(key) {\n",
              "        const element = document.querySelector('#df-e0d6ff55-357d-44bc-8d9a-677637c07797');\n",
              "        const dataTable =\n",
              "          await google.colab.kernel.invokeFunction('convertToInteractive',\n",
              "                                                    [key], {});\n",
              "        if (!dataTable) return;\n",
              "\n",
              "        const docLinkHtml = 'Like what you see? Visit the ' +\n",
              "          '<a target=\"_blank\" href=https://colab.research.google.com/notebooks/data_table.ipynb>data table notebook</a>'\n",
              "          + ' to learn more about interactive tables.';\n",
              "        element.innerHTML = '';\n",
              "        dataTable['output_type'] = 'display_data';\n",
              "        await google.colab.output.renderOutput(dataTable, element);\n",
              "        const docLink = document.createElement('div');\n",
              "        docLink.innerHTML = docLinkHtml;\n",
              "        element.appendChild(docLink);\n",
              "      }\n",
              "    </script>\n",
              "  </div>\n",
              "\n",
              "\n",
              "<div id=\"df-055e6f11-ea81-4002-aa0a-82b8845474c6\">\n",
              "  <button class=\"colab-df-quickchart\" onclick=\"quickchart('df-055e6f11-ea81-4002-aa0a-82b8845474c6')\"\n",
              "            title=\"Suggest charts.\"\n",
              "            style=\"display:none;\">\n",
              "\n",
              "<svg xmlns=\"http://www.w3.org/2000/svg\" height=\"24px\"viewBox=\"0 0 24 24\"\n",
              "     width=\"24px\">\n",
              "    <g>\n",
              "        <path d=\"M19 3H5c-1.1 0-2 .9-2 2v14c0 1.1.9 2 2 2h14c1.1 0 2-.9 2-2V5c0-1.1-.9-2-2-2zM9 17H7v-7h2v7zm4 0h-2V7h2v10zm4 0h-2v-4h2v4z\"/>\n",
              "    </g>\n",
              "</svg>\n",
              "  </button>\n",
              "\n",
              "<style>\n",
              "  .colab-df-quickchart {\n",
              "      --bg-color: #E8F0FE;\n",
              "      --fill-color: #1967D2;\n",
              "      --hover-bg-color: #E2EBFA;\n",
              "      --hover-fill-color: #174EA6;\n",
              "      --disabled-fill-color: #AAA;\n",
              "      --disabled-bg-color: #DDD;\n",
              "  }\n",
              "\n",
              "  [theme=dark] .colab-df-quickchart {\n",
              "      --bg-color: #3B4455;\n",
              "      --fill-color: #D2E3FC;\n",
              "      --hover-bg-color: #434B5C;\n",
              "      --hover-fill-color: #FFFFFF;\n",
              "      --disabled-bg-color: #3B4455;\n",
              "      --disabled-fill-color: #666;\n",
              "  }\n",
              "\n",
              "  .colab-df-quickchart {\n",
              "    background-color: var(--bg-color);\n",
              "    border: none;\n",
              "    border-radius: 50%;\n",
              "    cursor: pointer;\n",
              "    display: none;\n",
              "    fill: var(--fill-color);\n",
              "    height: 32px;\n",
              "    padding: 0;\n",
              "    width: 32px;\n",
              "  }\n",
              "\n",
              "  .colab-df-quickchart:hover {\n",
              "    background-color: var(--hover-bg-color);\n",
              "    box-shadow: 0 1px 2px rgba(60, 64, 67, 0.3), 0 1px 3px 1px rgba(60, 64, 67, 0.15);\n",
              "    fill: var(--button-hover-fill-color);\n",
              "  }\n",
              "\n",
              "  .colab-df-quickchart-complete:disabled,\n",
              "  .colab-df-quickchart-complete:disabled:hover {\n",
              "    background-color: var(--disabled-bg-color);\n",
              "    fill: var(--disabled-fill-color);\n",
              "    box-shadow: none;\n",
              "  }\n",
              "\n",
              "  .colab-df-spinner {\n",
              "    border: 2px solid var(--fill-color);\n",
              "    border-color: transparent;\n",
              "    border-bottom-color: var(--fill-color);\n",
              "    animation:\n",
              "      spin 1s steps(1) infinite;\n",
              "  }\n",
              "\n",
              "  @keyframes spin {\n",
              "    0% {\n",
              "      border-color: transparent;\n",
              "      border-bottom-color: var(--fill-color);\n",
              "      border-left-color: var(--fill-color);\n",
              "    }\n",
              "    20% {\n",
              "      border-color: transparent;\n",
              "      border-left-color: var(--fill-color);\n",
              "      border-top-color: var(--fill-color);\n",
              "    }\n",
              "    30% {\n",
              "      border-color: transparent;\n",
              "      border-left-color: var(--fill-color);\n",
              "      border-top-color: var(--fill-color);\n",
              "      border-right-color: var(--fill-color);\n",
              "    }\n",
              "    40% {\n",
              "      border-color: transparent;\n",
              "      border-right-color: var(--fill-color);\n",
              "      border-top-color: var(--fill-color);\n",
              "    }\n",
              "    60% {\n",
              "      border-color: transparent;\n",
              "      border-right-color: var(--fill-color);\n",
              "    }\n",
              "    80% {\n",
              "      border-color: transparent;\n",
              "      border-right-color: var(--fill-color);\n",
              "      border-bottom-color: var(--fill-color);\n",
              "    }\n",
              "    90% {\n",
              "      border-color: transparent;\n",
              "      border-bottom-color: var(--fill-color);\n",
              "    }\n",
              "  }\n",
              "</style>\n",
              "\n",
              "  <script>\n",
              "    async function quickchart(key) {\n",
              "      const quickchartButtonEl =\n",
              "        document.querySelector('#' + key + ' button');\n",
              "      quickchartButtonEl.disabled = true;  // To prevent multiple clicks.\n",
              "      quickchartButtonEl.classList.add('colab-df-spinner');\n",
              "      try {\n",
              "        const charts = await google.colab.kernel.invokeFunction(\n",
              "            'suggestCharts', [key], {});\n",
              "      } catch (error) {\n",
              "        console.error('Error during call to suggestCharts:', error);\n",
              "      }\n",
              "      quickchartButtonEl.classList.remove('colab-df-spinner');\n",
              "      quickchartButtonEl.classList.add('colab-df-quickchart-complete');\n",
              "    }\n",
              "    (() => {\n",
              "      let quickchartButtonEl =\n",
              "        document.querySelector('#df-055e6f11-ea81-4002-aa0a-82b8845474c6 button');\n",
              "      quickchartButtonEl.style.display =\n",
              "        google.colab.kernel.accessAllowed ? 'block' : 'none';\n",
              "    })();\n",
              "  </script>\n",
              "</div>\n",
              "    </div>\n",
              "  </div>\n"
            ]
          },
          "metadata": {},
          "execution_count": 95
        }
      ]
    },
    {
      "cell_type": "code",
      "source": [
        "data.shape"
      ],
      "metadata": {
        "id": "gQ247XQ1cGig",
        "colab": {
          "base_uri": "https://localhost:8080/"
        },
        "outputId": "7e9a31e8-38f0-41d5-97f7-61c6d250b93e"
      },
      "execution_count": null,
      "outputs": [
        {
          "output_type": "execute_result",
          "data": {
            "text/plain": [
              "(327294, 11)"
            ]
          },
          "metadata": {},
          "execution_count": 96
        }
      ]
    },
    {
      "cell_type": "code",
      "source": [
        "data.describe()"
      ],
      "metadata": {
        "id": "_qUnyY0VrwhD",
        "colab": {
          "base_uri": "https://localhost:8080/",
          "height": 300
        },
        "outputId": "83110535-b358-43a9-c2d4-9a3dee2b37f6"
      },
      "execution_count": null,
      "outputs": [
        {
          "output_type": "execute_result",
          "data": {
            "text/plain": [
              "                year          ac_no     totvotpoll      electors\n",
              "count  327294.000000  327294.000000  327287.000000  3.272940e+05\n",
              "mean     1996.143765     127.910918    9299.673421  1.684289e+05\n",
              "std        10.993383      96.626260   17025.780928  8.316493e+04\n",
              "min      1977.000000       1.000000       0.000000  0.000000e+00\n",
              "25%      1989.000000      49.000000     289.000000  1.186640e+05\n",
              "50%      1995.000000     106.000000    1022.000000  1.578260e+05\n",
              "75%      2006.000000     193.000000    9182.000000  2.010310e+05\n",
              "max      2015.000000     425.000000  584098.000000  1.593907e+06"
            ],
            "text/html": [
              "\n",
              "  <div id=\"df-74601459-9562-41c1-816a-9f40d087b5bb\" class=\"colab-df-container\">\n",
              "    <div>\n",
              "<style scoped>\n",
              "    .dataframe tbody tr th:only-of-type {\n",
              "        vertical-align: middle;\n",
              "    }\n",
              "\n",
              "    .dataframe tbody tr th {\n",
              "        vertical-align: top;\n",
              "    }\n",
              "\n",
              "    .dataframe thead th {\n",
              "        text-align: right;\n",
              "    }\n",
              "</style>\n",
              "<table border=\"1\" class=\"dataframe\">\n",
              "  <thead>\n",
              "    <tr style=\"text-align: right;\">\n",
              "      <th></th>\n",
              "      <th>year</th>\n",
              "      <th>ac_no</th>\n",
              "      <th>totvotpoll</th>\n",
              "      <th>electors</th>\n",
              "    </tr>\n",
              "  </thead>\n",
              "  <tbody>\n",
              "    <tr>\n",
              "      <th>count</th>\n",
              "      <td>327294.000000</td>\n",
              "      <td>327294.000000</td>\n",
              "      <td>327287.000000</td>\n",
              "      <td>3.272940e+05</td>\n",
              "    </tr>\n",
              "    <tr>\n",
              "      <th>mean</th>\n",
              "      <td>1996.143765</td>\n",
              "      <td>127.910918</td>\n",
              "      <td>9299.673421</td>\n",
              "      <td>1.684289e+05</td>\n",
              "    </tr>\n",
              "    <tr>\n",
              "      <th>std</th>\n",
              "      <td>10.993383</td>\n",
              "      <td>96.626260</td>\n",
              "      <td>17025.780928</td>\n",
              "      <td>8.316493e+04</td>\n",
              "    </tr>\n",
              "    <tr>\n",
              "      <th>min</th>\n",
              "      <td>1977.000000</td>\n",
              "      <td>1.000000</td>\n",
              "      <td>0.000000</td>\n",
              "      <td>0.000000e+00</td>\n",
              "    </tr>\n",
              "    <tr>\n",
              "      <th>25%</th>\n",
              "      <td>1989.000000</td>\n",
              "      <td>49.000000</td>\n",
              "      <td>289.000000</td>\n",
              "      <td>1.186640e+05</td>\n",
              "    </tr>\n",
              "    <tr>\n",
              "      <th>50%</th>\n",
              "      <td>1995.000000</td>\n",
              "      <td>106.000000</td>\n",
              "      <td>1022.000000</td>\n",
              "      <td>1.578260e+05</td>\n",
              "    </tr>\n",
              "    <tr>\n",
              "      <th>75%</th>\n",
              "      <td>2006.000000</td>\n",
              "      <td>193.000000</td>\n",
              "      <td>9182.000000</td>\n",
              "      <td>2.010310e+05</td>\n",
              "    </tr>\n",
              "    <tr>\n",
              "      <th>max</th>\n",
              "      <td>2015.000000</td>\n",
              "      <td>425.000000</td>\n",
              "      <td>584098.000000</td>\n",
              "      <td>1.593907e+06</td>\n",
              "    </tr>\n",
              "  </tbody>\n",
              "</table>\n",
              "</div>\n",
              "    <div class=\"colab-df-buttons\">\n",
              "\n",
              "  <div class=\"colab-df-container\">\n",
              "    <button class=\"colab-df-convert\" onclick=\"convertToInteractive('df-74601459-9562-41c1-816a-9f40d087b5bb')\"\n",
              "            title=\"Convert this dataframe to an interactive table.\"\n",
              "            style=\"display:none;\">\n",
              "\n",
              "  <svg xmlns=\"http://www.w3.org/2000/svg\" height=\"24px\" viewBox=\"0 -960 960 960\">\n",
              "    <path d=\"M120-120v-720h720v720H120Zm60-500h600v-160H180v160Zm220 220h160v-160H400v160Zm0 220h160v-160H400v160ZM180-400h160v-160H180v160Zm440 0h160v-160H620v160ZM180-180h160v-160H180v160Zm440 0h160v-160H620v160Z\"/>\n",
              "  </svg>\n",
              "    </button>\n",
              "\n",
              "  <style>\n",
              "    .colab-df-container {\n",
              "      display:flex;\n",
              "      gap: 12px;\n",
              "    }\n",
              "\n",
              "    .colab-df-convert {\n",
              "      background-color: #E8F0FE;\n",
              "      border: none;\n",
              "      border-radius: 50%;\n",
              "      cursor: pointer;\n",
              "      display: none;\n",
              "      fill: #1967D2;\n",
              "      height: 32px;\n",
              "      padding: 0 0 0 0;\n",
              "      width: 32px;\n",
              "    }\n",
              "\n",
              "    .colab-df-convert:hover {\n",
              "      background-color: #E2EBFA;\n",
              "      box-shadow: 0px 1px 2px rgba(60, 64, 67, 0.3), 0px 1px 3px 1px rgba(60, 64, 67, 0.15);\n",
              "      fill: #174EA6;\n",
              "    }\n",
              "\n",
              "    .colab-df-buttons div {\n",
              "      margin-bottom: 4px;\n",
              "    }\n",
              "\n",
              "    [theme=dark] .colab-df-convert {\n",
              "      background-color: #3B4455;\n",
              "      fill: #D2E3FC;\n",
              "    }\n",
              "\n",
              "    [theme=dark] .colab-df-convert:hover {\n",
              "      background-color: #434B5C;\n",
              "      box-shadow: 0px 1px 3px 1px rgba(0, 0, 0, 0.15);\n",
              "      filter: drop-shadow(0px 1px 2px rgba(0, 0, 0, 0.3));\n",
              "      fill: #FFFFFF;\n",
              "    }\n",
              "  </style>\n",
              "\n",
              "    <script>\n",
              "      const buttonEl =\n",
              "        document.querySelector('#df-74601459-9562-41c1-816a-9f40d087b5bb button.colab-df-convert');\n",
              "      buttonEl.style.display =\n",
              "        google.colab.kernel.accessAllowed ? 'block' : 'none';\n",
              "\n",
              "      async function convertToInteractive(key) {\n",
              "        const element = document.querySelector('#df-74601459-9562-41c1-816a-9f40d087b5bb');\n",
              "        const dataTable =\n",
              "          await google.colab.kernel.invokeFunction('convertToInteractive',\n",
              "                                                    [key], {});\n",
              "        if (!dataTable) return;\n",
              "\n",
              "        const docLinkHtml = 'Like what you see? Visit the ' +\n",
              "          '<a target=\"_blank\" href=https://colab.research.google.com/notebooks/data_table.ipynb>data table notebook</a>'\n",
              "          + ' to learn more about interactive tables.';\n",
              "        element.innerHTML = '';\n",
              "        dataTable['output_type'] = 'display_data';\n",
              "        await google.colab.output.renderOutput(dataTable, element);\n",
              "        const docLink = document.createElement('div');\n",
              "        docLink.innerHTML = docLinkHtml;\n",
              "        element.appendChild(docLink);\n",
              "      }\n",
              "    </script>\n",
              "  </div>\n",
              "\n",
              "\n",
              "<div id=\"df-73d9a93a-b17e-45a3-b592-20ed92b70fcd\">\n",
              "  <button class=\"colab-df-quickchart\" onclick=\"quickchart('df-73d9a93a-b17e-45a3-b592-20ed92b70fcd')\"\n",
              "            title=\"Suggest charts.\"\n",
              "            style=\"display:none;\">\n",
              "\n",
              "<svg xmlns=\"http://www.w3.org/2000/svg\" height=\"24px\"viewBox=\"0 0 24 24\"\n",
              "     width=\"24px\">\n",
              "    <g>\n",
              "        <path d=\"M19 3H5c-1.1 0-2 .9-2 2v14c0 1.1.9 2 2 2h14c1.1 0 2-.9 2-2V5c0-1.1-.9-2-2-2zM9 17H7v-7h2v7zm4 0h-2V7h2v10zm4 0h-2v-4h2v4z\"/>\n",
              "    </g>\n",
              "</svg>\n",
              "  </button>\n",
              "\n",
              "<style>\n",
              "  .colab-df-quickchart {\n",
              "      --bg-color: #E8F0FE;\n",
              "      --fill-color: #1967D2;\n",
              "      --hover-bg-color: #E2EBFA;\n",
              "      --hover-fill-color: #174EA6;\n",
              "      --disabled-fill-color: #AAA;\n",
              "      --disabled-bg-color: #DDD;\n",
              "  }\n",
              "\n",
              "  [theme=dark] .colab-df-quickchart {\n",
              "      --bg-color: #3B4455;\n",
              "      --fill-color: #D2E3FC;\n",
              "      --hover-bg-color: #434B5C;\n",
              "      --hover-fill-color: #FFFFFF;\n",
              "      --disabled-bg-color: #3B4455;\n",
              "      --disabled-fill-color: #666;\n",
              "  }\n",
              "\n",
              "  .colab-df-quickchart {\n",
              "    background-color: var(--bg-color);\n",
              "    border: none;\n",
              "    border-radius: 50%;\n",
              "    cursor: pointer;\n",
              "    display: none;\n",
              "    fill: var(--fill-color);\n",
              "    height: 32px;\n",
              "    padding: 0;\n",
              "    width: 32px;\n",
              "  }\n",
              "\n",
              "  .colab-df-quickchart:hover {\n",
              "    background-color: var(--hover-bg-color);\n",
              "    box-shadow: 0 1px 2px rgba(60, 64, 67, 0.3), 0 1px 3px 1px rgba(60, 64, 67, 0.15);\n",
              "    fill: var(--button-hover-fill-color);\n",
              "  }\n",
              "\n",
              "  .colab-df-quickchart-complete:disabled,\n",
              "  .colab-df-quickchart-complete:disabled:hover {\n",
              "    background-color: var(--disabled-bg-color);\n",
              "    fill: var(--disabled-fill-color);\n",
              "    box-shadow: none;\n",
              "  }\n",
              "\n",
              "  .colab-df-spinner {\n",
              "    border: 2px solid var(--fill-color);\n",
              "    border-color: transparent;\n",
              "    border-bottom-color: var(--fill-color);\n",
              "    animation:\n",
              "      spin 1s steps(1) infinite;\n",
              "  }\n",
              "\n",
              "  @keyframes spin {\n",
              "    0% {\n",
              "      border-color: transparent;\n",
              "      border-bottom-color: var(--fill-color);\n",
              "      border-left-color: var(--fill-color);\n",
              "    }\n",
              "    20% {\n",
              "      border-color: transparent;\n",
              "      border-left-color: var(--fill-color);\n",
              "      border-top-color: var(--fill-color);\n",
              "    }\n",
              "    30% {\n",
              "      border-color: transparent;\n",
              "      border-left-color: var(--fill-color);\n",
              "      border-top-color: var(--fill-color);\n",
              "      border-right-color: var(--fill-color);\n",
              "    }\n",
              "    40% {\n",
              "      border-color: transparent;\n",
              "      border-right-color: var(--fill-color);\n",
              "      border-top-color: var(--fill-color);\n",
              "    }\n",
              "    60% {\n",
              "      border-color: transparent;\n",
              "      border-right-color: var(--fill-color);\n",
              "    }\n",
              "    80% {\n",
              "      border-color: transparent;\n",
              "      border-right-color: var(--fill-color);\n",
              "      border-bottom-color: var(--fill-color);\n",
              "    }\n",
              "    90% {\n",
              "      border-color: transparent;\n",
              "      border-bottom-color: var(--fill-color);\n",
              "    }\n",
              "  }\n",
              "</style>\n",
              "\n",
              "  <script>\n",
              "    async function quickchart(key) {\n",
              "      const quickchartButtonEl =\n",
              "        document.querySelector('#' + key + ' button');\n",
              "      quickchartButtonEl.disabled = true;  // To prevent multiple clicks.\n",
              "      quickchartButtonEl.classList.add('colab-df-spinner');\n",
              "      try {\n",
              "        const charts = await google.colab.kernel.invokeFunction(\n",
              "            'suggestCharts', [key], {});\n",
              "      } catch (error) {\n",
              "        console.error('Error during call to suggestCharts:', error);\n",
              "      }\n",
              "      quickchartButtonEl.classList.remove('colab-df-spinner');\n",
              "      quickchartButtonEl.classList.add('colab-df-quickchart-complete');\n",
              "    }\n",
              "    (() => {\n",
              "      let quickchartButtonEl =\n",
              "        document.querySelector('#df-73d9a93a-b17e-45a3-b592-20ed92b70fcd button');\n",
              "      quickchartButtonEl.style.display =\n",
              "        google.colab.kernel.accessAllowed ? 'block' : 'none';\n",
              "    })();\n",
              "  </script>\n",
              "</div>\n",
              "    </div>\n",
              "  </div>\n"
            ]
          },
          "metadata": {},
          "execution_count": 97
        }
      ]
    },
    {
      "cell_type": "code",
      "source": [
        "data.describe(include=['object'])"
      ],
      "metadata": {
        "colab": {
          "base_uri": "https://localhost:8080/",
          "height": 175
        },
        "id": "WxIM5M4o6UbV",
        "outputId": "f3d62b28-d954-4887-fdf4-46be4630ce29"
      },
      "execution_count": null,
      "outputs": [
        {
          "output_type": "execute_result",
          "data": {
            "text/plain": [
              "              st_name      ac_name ac_type          cand_name cand_sex  \\\n",
              "count          327294       311211  327294             327294   321992   \n",
              "unique             30         6247       5             220531        3   \n",
              "top     Uttar Pradesh  Modakurichi     GEN  None Of The Above        M   \n",
              "freq            60206         1116  264812               1779   307098   \n",
              "\n",
              "          partyname partyabbre  \n",
              "count        327294     324588  \n",
              "unique         1663       1285  \n",
              "top     Independent        IND  \n",
              "freq          84448     161929  "
            ],
            "text/html": [
              "\n",
              "  <div id=\"df-b3f3707f-b1ae-4a7d-8ea9-1468b06aa263\" class=\"colab-df-container\">\n",
              "    <div>\n",
              "<style scoped>\n",
              "    .dataframe tbody tr th:only-of-type {\n",
              "        vertical-align: middle;\n",
              "    }\n",
              "\n",
              "    .dataframe tbody tr th {\n",
              "        vertical-align: top;\n",
              "    }\n",
              "\n",
              "    .dataframe thead th {\n",
              "        text-align: right;\n",
              "    }\n",
              "</style>\n",
              "<table border=\"1\" class=\"dataframe\">\n",
              "  <thead>\n",
              "    <tr style=\"text-align: right;\">\n",
              "      <th></th>\n",
              "      <th>st_name</th>\n",
              "      <th>ac_name</th>\n",
              "      <th>ac_type</th>\n",
              "      <th>cand_name</th>\n",
              "      <th>cand_sex</th>\n",
              "      <th>partyname</th>\n",
              "      <th>partyabbre</th>\n",
              "    </tr>\n",
              "  </thead>\n",
              "  <tbody>\n",
              "    <tr>\n",
              "      <th>count</th>\n",
              "      <td>327294</td>\n",
              "      <td>311211</td>\n",
              "      <td>327294</td>\n",
              "      <td>327294</td>\n",
              "      <td>321992</td>\n",
              "      <td>327294</td>\n",
              "      <td>324588</td>\n",
              "    </tr>\n",
              "    <tr>\n",
              "      <th>unique</th>\n",
              "      <td>30</td>\n",
              "      <td>6247</td>\n",
              "      <td>5</td>\n",
              "      <td>220531</td>\n",
              "      <td>3</td>\n",
              "      <td>1663</td>\n",
              "      <td>1285</td>\n",
              "    </tr>\n",
              "    <tr>\n",
              "      <th>top</th>\n",
              "      <td>Uttar Pradesh</td>\n",
              "      <td>Modakurichi</td>\n",
              "      <td>GEN</td>\n",
              "      <td>None Of The Above</td>\n",
              "      <td>M</td>\n",
              "      <td>Independent</td>\n",
              "      <td>IND</td>\n",
              "    </tr>\n",
              "    <tr>\n",
              "      <th>freq</th>\n",
              "      <td>60206</td>\n",
              "      <td>1116</td>\n",
              "      <td>264812</td>\n",
              "      <td>1779</td>\n",
              "      <td>307098</td>\n",
              "      <td>84448</td>\n",
              "      <td>161929</td>\n",
              "    </tr>\n",
              "  </tbody>\n",
              "</table>\n",
              "</div>\n",
              "    <div class=\"colab-df-buttons\">\n",
              "\n",
              "  <div class=\"colab-df-container\">\n",
              "    <button class=\"colab-df-convert\" onclick=\"convertToInteractive('df-b3f3707f-b1ae-4a7d-8ea9-1468b06aa263')\"\n",
              "            title=\"Convert this dataframe to an interactive table.\"\n",
              "            style=\"display:none;\">\n",
              "\n",
              "  <svg xmlns=\"http://www.w3.org/2000/svg\" height=\"24px\" viewBox=\"0 -960 960 960\">\n",
              "    <path d=\"M120-120v-720h720v720H120Zm60-500h600v-160H180v160Zm220 220h160v-160H400v160Zm0 220h160v-160H400v160ZM180-400h160v-160H180v160Zm440 0h160v-160H620v160ZM180-180h160v-160H180v160Zm440 0h160v-160H620v160Z\"/>\n",
              "  </svg>\n",
              "    </button>\n",
              "\n",
              "  <style>\n",
              "    .colab-df-container {\n",
              "      display:flex;\n",
              "      gap: 12px;\n",
              "    }\n",
              "\n",
              "    .colab-df-convert {\n",
              "      background-color: #E8F0FE;\n",
              "      border: none;\n",
              "      border-radius: 50%;\n",
              "      cursor: pointer;\n",
              "      display: none;\n",
              "      fill: #1967D2;\n",
              "      height: 32px;\n",
              "      padding: 0 0 0 0;\n",
              "      width: 32px;\n",
              "    }\n",
              "\n",
              "    .colab-df-convert:hover {\n",
              "      background-color: #E2EBFA;\n",
              "      box-shadow: 0px 1px 2px rgba(60, 64, 67, 0.3), 0px 1px 3px 1px rgba(60, 64, 67, 0.15);\n",
              "      fill: #174EA6;\n",
              "    }\n",
              "\n",
              "    .colab-df-buttons div {\n",
              "      margin-bottom: 4px;\n",
              "    }\n",
              "\n",
              "    [theme=dark] .colab-df-convert {\n",
              "      background-color: #3B4455;\n",
              "      fill: #D2E3FC;\n",
              "    }\n",
              "\n",
              "    [theme=dark] .colab-df-convert:hover {\n",
              "      background-color: #434B5C;\n",
              "      box-shadow: 0px 1px 3px 1px rgba(0, 0, 0, 0.15);\n",
              "      filter: drop-shadow(0px 1px 2px rgba(0, 0, 0, 0.3));\n",
              "      fill: #FFFFFF;\n",
              "    }\n",
              "  </style>\n",
              "\n",
              "    <script>\n",
              "      const buttonEl =\n",
              "        document.querySelector('#df-b3f3707f-b1ae-4a7d-8ea9-1468b06aa263 button.colab-df-convert');\n",
              "      buttonEl.style.display =\n",
              "        google.colab.kernel.accessAllowed ? 'block' : 'none';\n",
              "\n",
              "      async function convertToInteractive(key) {\n",
              "        const element = document.querySelector('#df-b3f3707f-b1ae-4a7d-8ea9-1468b06aa263');\n",
              "        const dataTable =\n",
              "          await google.colab.kernel.invokeFunction('convertToInteractive',\n",
              "                                                    [key], {});\n",
              "        if (!dataTable) return;\n",
              "\n",
              "        const docLinkHtml = 'Like what you see? Visit the ' +\n",
              "          '<a target=\"_blank\" href=https://colab.research.google.com/notebooks/data_table.ipynb>data table notebook</a>'\n",
              "          + ' to learn more about interactive tables.';\n",
              "        element.innerHTML = '';\n",
              "        dataTable['output_type'] = 'display_data';\n",
              "        await google.colab.output.renderOutput(dataTable, element);\n",
              "        const docLink = document.createElement('div');\n",
              "        docLink.innerHTML = docLinkHtml;\n",
              "        element.appendChild(docLink);\n",
              "      }\n",
              "    </script>\n",
              "  </div>\n",
              "\n",
              "\n",
              "<div id=\"df-b8683182-2fee-4026-a5fa-7790fed31b13\">\n",
              "  <button class=\"colab-df-quickchart\" onclick=\"quickchart('df-b8683182-2fee-4026-a5fa-7790fed31b13')\"\n",
              "            title=\"Suggest charts.\"\n",
              "            style=\"display:none;\">\n",
              "\n",
              "<svg xmlns=\"http://www.w3.org/2000/svg\" height=\"24px\"viewBox=\"0 0 24 24\"\n",
              "     width=\"24px\">\n",
              "    <g>\n",
              "        <path d=\"M19 3H5c-1.1 0-2 .9-2 2v14c0 1.1.9 2 2 2h14c1.1 0 2-.9 2-2V5c0-1.1-.9-2-2-2zM9 17H7v-7h2v7zm4 0h-2V7h2v10zm4 0h-2v-4h2v4z\"/>\n",
              "    </g>\n",
              "</svg>\n",
              "  </button>\n",
              "\n",
              "<style>\n",
              "  .colab-df-quickchart {\n",
              "      --bg-color: #E8F0FE;\n",
              "      --fill-color: #1967D2;\n",
              "      --hover-bg-color: #E2EBFA;\n",
              "      --hover-fill-color: #174EA6;\n",
              "      --disabled-fill-color: #AAA;\n",
              "      --disabled-bg-color: #DDD;\n",
              "  }\n",
              "\n",
              "  [theme=dark] .colab-df-quickchart {\n",
              "      --bg-color: #3B4455;\n",
              "      --fill-color: #D2E3FC;\n",
              "      --hover-bg-color: #434B5C;\n",
              "      --hover-fill-color: #FFFFFF;\n",
              "      --disabled-bg-color: #3B4455;\n",
              "      --disabled-fill-color: #666;\n",
              "  }\n",
              "\n",
              "  .colab-df-quickchart {\n",
              "    background-color: var(--bg-color);\n",
              "    border: none;\n",
              "    border-radius: 50%;\n",
              "    cursor: pointer;\n",
              "    display: none;\n",
              "    fill: var(--fill-color);\n",
              "    height: 32px;\n",
              "    padding: 0;\n",
              "    width: 32px;\n",
              "  }\n",
              "\n",
              "  .colab-df-quickchart:hover {\n",
              "    background-color: var(--hover-bg-color);\n",
              "    box-shadow: 0 1px 2px rgba(60, 64, 67, 0.3), 0 1px 3px 1px rgba(60, 64, 67, 0.15);\n",
              "    fill: var(--button-hover-fill-color);\n",
              "  }\n",
              "\n",
              "  .colab-df-quickchart-complete:disabled,\n",
              "  .colab-df-quickchart-complete:disabled:hover {\n",
              "    background-color: var(--disabled-bg-color);\n",
              "    fill: var(--disabled-fill-color);\n",
              "    box-shadow: none;\n",
              "  }\n",
              "\n",
              "  .colab-df-spinner {\n",
              "    border: 2px solid var(--fill-color);\n",
              "    border-color: transparent;\n",
              "    border-bottom-color: var(--fill-color);\n",
              "    animation:\n",
              "      spin 1s steps(1) infinite;\n",
              "  }\n",
              "\n",
              "  @keyframes spin {\n",
              "    0% {\n",
              "      border-color: transparent;\n",
              "      border-bottom-color: var(--fill-color);\n",
              "      border-left-color: var(--fill-color);\n",
              "    }\n",
              "    20% {\n",
              "      border-color: transparent;\n",
              "      border-left-color: var(--fill-color);\n",
              "      border-top-color: var(--fill-color);\n",
              "    }\n",
              "    30% {\n",
              "      border-color: transparent;\n",
              "      border-left-color: var(--fill-color);\n",
              "      border-top-color: var(--fill-color);\n",
              "      border-right-color: var(--fill-color);\n",
              "    }\n",
              "    40% {\n",
              "      border-color: transparent;\n",
              "      border-right-color: var(--fill-color);\n",
              "      border-top-color: var(--fill-color);\n",
              "    }\n",
              "    60% {\n",
              "      border-color: transparent;\n",
              "      border-right-color: var(--fill-color);\n",
              "    }\n",
              "    80% {\n",
              "      border-color: transparent;\n",
              "      border-right-color: var(--fill-color);\n",
              "      border-bottom-color: var(--fill-color);\n",
              "    }\n",
              "    90% {\n",
              "      border-color: transparent;\n",
              "      border-bottom-color: var(--fill-color);\n",
              "    }\n",
              "  }\n",
              "</style>\n",
              "\n",
              "  <script>\n",
              "    async function quickchart(key) {\n",
              "      const quickchartButtonEl =\n",
              "        document.querySelector('#' + key + ' button');\n",
              "      quickchartButtonEl.disabled = true;  // To prevent multiple clicks.\n",
              "      quickchartButtonEl.classList.add('colab-df-spinner');\n",
              "      try {\n",
              "        const charts = await google.colab.kernel.invokeFunction(\n",
              "            'suggestCharts', [key], {});\n",
              "      } catch (error) {\n",
              "        console.error('Error during call to suggestCharts:', error);\n",
              "      }\n",
              "      quickchartButtonEl.classList.remove('colab-df-spinner');\n",
              "      quickchartButtonEl.classList.add('colab-df-quickchart-complete');\n",
              "    }\n",
              "    (() => {\n",
              "      let quickchartButtonEl =\n",
              "        document.querySelector('#df-b8683182-2fee-4026-a5fa-7790fed31b13 button');\n",
              "      quickchartButtonEl.style.display =\n",
              "        google.colab.kernel.accessAllowed ? 'block' : 'none';\n",
              "    })();\n",
              "  </script>\n",
              "</div>\n",
              "    </div>\n",
              "  </div>\n"
            ]
          },
          "metadata": {},
          "execution_count": 98
        }
      ]
    },
    {
      "cell_type": "code",
      "source": [
        "data.info()"
      ],
      "metadata": {
        "colab": {
          "base_uri": "https://localhost:8080/"
        },
        "id": "orusJkrb6Xti",
        "outputId": "e44875ce-7a32-4289-93fa-6eaf628194e8"
      },
      "execution_count": null,
      "outputs": [
        {
          "output_type": "stream",
          "name": "stdout",
          "text": [
            "<class 'pandas.core.frame.DataFrame'>\n",
            "RangeIndex: 327294 entries, 0 to 327293\n",
            "Data columns (total 11 columns):\n",
            " #   Column      Non-Null Count   Dtype  \n",
            "---  ------      --------------   -----  \n",
            " 0   st_name     327294 non-null  object \n",
            " 1   year        327294 non-null  float64\n",
            " 2   ac_no       327294 non-null  int64  \n",
            " 3   ac_name     311211 non-null  object \n",
            " 4   ac_type     327294 non-null  object \n",
            " 5   cand_name   327294 non-null  object \n",
            " 6   cand_sex    321992 non-null  object \n",
            " 7   partyname   327294 non-null  object \n",
            " 8   partyabbre  324588 non-null  object \n",
            " 9   totvotpoll  327287 non-null  float64\n",
            " 10  electors    327294 non-null  int64  \n",
            "dtypes: float64(2), int64(2), object(7)\n",
            "memory usage: 27.5+ MB\n"
          ]
        }
      ]
    },
    {
      "cell_type": "code",
      "source": [
        "data['st_name'].value_counts()"
      ],
      "metadata": {
        "colab": {
          "base_uri": "https://localhost:8080/"
        },
        "id": "KFRYz7be6c9Y",
        "outputId": "9a8ebbfe-548a-4cfc-aa13-d18b6d535f6a"
      },
      "execution_count": null,
      "outputs": [
        {
          "output_type": "execute_result",
          "data": {
            "text/plain": [
              "Uttar Pradesh                          60206\n",
              "Bihar                                  38064\n",
              "Maharashtra                            26727\n",
              "Madhya Pradesh                         25062\n",
              "Andhra Pradesh                         22012\n",
              "Tamil Nadu                             22009\n",
              "Karnataka                              17111\n",
              "Rajasthan                              17051\n",
              "West Bengal                            13334\n",
              "Haryana                                12190\n",
              "Gujarat                                11604\n",
              "Odisha                                  8991\n",
              "Assam                                   8321\n",
              "Kerala                                  7712\n",
              "Punjab                                  6589\n",
              "National Capital Territory Of Delhi     6083\n",
              "Jammu & Kashmir                         4978\n",
              "Jharkhand                               4098\n",
              "Himachal Pradesh                        3507\n",
              "Chhattisgarh                            2961\n",
              "Mizoram                                 1667\n",
              "Uttarakhand                             1573\n",
              "Arunachal Pradesh                       1351\n",
              "Sikkim                                  1259\n",
              "Meghalaya                                676\n",
              "Manipur                                  587\n",
              "Tripura                                  562\n",
              "Goa                                      417\n",
              "Nagaland                                 405\n",
              "Puducherry                               187\n",
              "Name: st_name, dtype: int64"
            ]
          },
          "metadata": {},
          "execution_count": 100
        }
      ]
    },
    {
      "cell_type": "code",
      "source": [
        "data['year'].value_counts()"
      ],
      "metadata": {
        "colab": {
          "base_uri": "https://localhost:8080/"
        },
        "id": "w-9rRNq66mQ9",
        "outputId": "9041d412-07a9-48a6-eedd-1f17f814b3d0"
      },
      "execution_count": null,
      "outputs": [
        {
          "output_type": "execute_result",
          "data": {
            "text/plain": [
              "1985.0    24622\n",
              "1990.0    21123\n",
              "1993.0    17735\n",
              "1995.0    17268\n",
              "1996.0    17064\n",
              "1991.0    16939\n",
              "1980.0    16722\n",
              "1977.0    15626\n",
              "2014.0    14122\n",
              "1989.0    13175\n",
              "2008.0    11966\n",
              "2009.0    11539\n",
              "2012.0    11324\n",
              "2013.0    10976\n",
              "2007.0    10040\n",
              "2002.0     8165\n",
              "2004.0     7350\n",
              "2011.0     6679\n",
              "1998.0     6476\n",
              "2006.0     6168\n",
              "2003.0     5948\n",
              "1994.0     5902\n",
              "2000.0     5774\n",
              "1999.0     5728\n",
              "1978.0     5700\n",
              "2005.0     5566\n",
              "2001.0     5128\n",
              "1987.0     4745\n",
              "1983.0     4469\n",
              "2010.0     3523\n",
              "1982.0     3440\n",
              "2005.1     2135\n",
              "1984.0     1748\n",
              "2015.0      743\n",
              "1997.0      693\n",
              "1992.0      579\n",
              "1979.0      394\n",
              "Name: year, dtype: int64"
            ]
          },
          "metadata": {},
          "execution_count": 101
        }
      ]
    },
    {
      "cell_type": "code",
      "source": [
        "data['ac_name'].value_counts()"
      ],
      "metadata": {
        "colab": {
          "base_uri": "https://localhost:8080/"
        },
        "id": "IdQjhXt16wOz",
        "outputId": "0e01c7f1-6cec-4a36-ebc4-a3d7b904a05f"
      },
      "execution_count": null,
      "outputs": [
        {
          "output_type": "execute_result",
          "data": {
            "text/plain": [
              "Modakurichi         1116\n",
              "Ramnagar             524\n",
              "Nawabganj            491\n",
              "Fatehpur             471\n",
              "Shahabad             386\n",
              "                    ... \n",
              "Suruhoto               2\n",
              "Yingkiong-Pangin       2\n",
              "Meriang-Mebo           2\n",
              "Kakching               2\n",
              "N.Vanlaiphai           1\n",
              "Name: ac_name, Length: 6247, dtype: int64"
            ]
          },
          "metadata": {},
          "execution_count": 102
        }
      ]
    },
    {
      "cell_type": "code",
      "source": [
        "data['ac_type'].value_counts()"
      ],
      "metadata": {
        "colab": {
          "base_uri": "https://localhost:8080/"
        },
        "id": "TTBpnmjz62Qj",
        "outputId": "9bc8416b-9b05-4729-abb2-3e8427e30141"
      },
      "execution_count": null,
      "outputs": [
        {
          "output_type": "execute_result",
          "data": {
            "text/plain": [
              "GEN      264812\n",
              "SC        41821\n",
              "ST        20625\n",
              "BL           30\n",
              "SANGH         6\n",
              "Name: ac_type, dtype: int64"
            ]
          },
          "metadata": {},
          "execution_count": 103
        }
      ]
    },
    {
      "cell_type": "code",
      "source": [
        "data['cand_name'].value_counts()"
      ],
      "metadata": {
        "colab": {
          "base_uri": "https://localhost:8080/"
        },
        "id": "QUShqo1E7Ft4",
        "outputId": "be8fa1e3-ac50-42f1-8435-3bf464c45c45"
      },
      "execution_count": null,
      "outputs": [
        {
          "output_type": "execute_result",
          "data": {
            "text/plain": [
              "None Of The Above         1779\n",
              "Om Prakash                 428\n",
              "Ashok Kumar                414\n",
              "Raj Kumar                  293\n",
              "Anil Kumar                 283\n",
              "                          ... \n",
              "Raffi                        1\n",
              "Chandrashekara Hampali       1\n",
              "Mehtar M. Azzam              1\n",
              "Muniswamy Gowda              1\n",
              "Nure Alam Chowdhury          1\n",
              "Name: cand_name, Length: 220531, dtype: int64"
            ]
          },
          "metadata": {},
          "execution_count": 104
        }
      ]
    },
    {
      "cell_type": "code",
      "source": [
        "data['cand_sex'].value_counts()"
      ],
      "metadata": {
        "colab": {
          "base_uri": "https://localhost:8080/"
        },
        "id": "mAomD7UU7Rdj",
        "outputId": "07d50269-db32-497e-d391-cd7bf254a80d"
      },
      "execution_count": null,
      "outputs": [
        {
          "output_type": "execute_result",
          "data": {
            "text/plain": [
              "M    307098\n",
              "F     14883\n",
              "O        11\n",
              "Name: cand_sex, dtype: int64"
            ]
          },
          "metadata": {},
          "execution_count": 105
        }
      ]
    },
    {
      "cell_type": "code",
      "source": [
        "data['partyname'].value_counts()"
      ],
      "metadata": {
        "colab": {
          "base_uri": "https://localhost:8080/"
        },
        "id": "YXOq4dGh7bQr",
        "outputId": "29b38187-97d0-47f3-ba92-744fb50c7630"
      },
      "execution_count": null,
      "outputs": [
        {
          "output_type": "execute_result",
          "data": {
            "text/plain": [
              "Independent                 84448\n",
              "Independents                53452\n",
              "IND                         25180\n",
              "Indian National Congress    21848\n",
              "Bahujan Samaj Party          8251\n",
              "                            ...  \n",
              "LJSP                            1\n",
              "RAPPRP                          1\n",
              "BJJD                            1\n",
              "RSWD                            1\n",
              "BIP                             1\n",
              "Name: partyname, Length: 1663, dtype: int64"
            ]
          },
          "metadata": {},
          "execution_count": 106
        }
      ]
    },
    {
      "cell_type": "code",
      "source": [
        "data['partyabbre'].value_counts()"
      ],
      "metadata": {
        "colab": {
          "base_uri": "https://localhost:8080/"
        },
        "id": "hV02G9oM7jXa",
        "outputId": "22305d42-32e9-43d6-c7c4-b34183d27844"
      },
      "execution_count": null,
      "outputs": [
        {
          "output_type": "execute_result",
          "data": {
            "text/plain": [
              "IND       161929\n",
              "INC        27036\n",
              "BJP        19886\n",
              "BSP        13014\n",
              "SP          5137\n",
              "           ...  \n",
              "UMSK           1\n",
              "IFTP           1\n",
              "KDP            1\n",
              "BPNSNP         1\n",
              "KRSP           1\n",
              "Name: partyabbre, Length: 1285, dtype: int64"
            ]
          },
          "metadata": {},
          "execution_count": 107
        }
      ]
    },
    {
      "cell_type": "code",
      "source": [
        "data.isnull().sum()"
      ],
      "metadata": {
        "colab": {
          "base_uri": "https://localhost:8080/"
        },
        "id": "QIE38MYB7tHN",
        "outputId": "2208b81e-bfb8-4297-f931-31ad07144aaf"
      },
      "execution_count": null,
      "outputs": [
        {
          "output_type": "execute_result",
          "data": {
            "text/plain": [
              "st_name           0\n",
              "year              0\n",
              "ac_no             0\n",
              "ac_name       16083\n",
              "ac_type           0\n",
              "cand_name         0\n",
              "cand_sex       5302\n",
              "partyname         0\n",
              "partyabbre     2706\n",
              "totvotpoll        7\n",
              "electors          0\n",
              "dtype: int64"
            ]
          },
          "metadata": {},
          "execution_count": 108
        }
      ]
    },
    {
      "cell_type": "code",
      "source": [
        "%matplotlib inline\n",
        "import matplotlib as plt\n",
        "from matplotlib import pyplot\n",
        "plt.pyplot.hist(data[\"st_name\"],bins = 30)\n",
        "\n",
        "# set x/y labels and plot title\n",
        "plt.pyplot.xlabel(\"st_name\")\n",
        "plt.pyplot.ylabel(\"count\")\n",
        "plt.pyplot.title(\"st_name bins\")"
      ],
      "metadata": {
        "colab": {
          "base_uri": "https://localhost:8080/",
          "height": 489
        },
        "id": "V5SfODJPGzUv",
        "outputId": "df3232cb-939d-4e94-ee2a-5e219a5a0b8f"
      },
      "execution_count": null,
      "outputs": [
        {
          "output_type": "execute_result",
          "data": {
            "text/plain": [
              "Text(0.5, 1.0, 'st_name bins')"
            ]
          },
          "metadata": {},
          "execution_count": 109
        },
        {
          "output_type": "display_data",
          "data": {
            "text/plain": [
              "<Figure size 640x480 with 1 Axes>"
            ],
            "image/png": "[encoded data removed]"
          },
          "metadata": {}
        }
      ]
    },
    {
      "cell_type": "code",
      "source": [
        "\n",
        "from sklearn import preprocessing\n",
        "label_encoder = preprocessing.LabelEncoder()\n",
        "data['st_name']= label_encoder.fit_transform(data['st_name'])\n",
        "data['ac_name']= label_encoder.fit_transform(data['ac_name'])\n",
        "data['ac_type']= label_encoder.fit_transform(data['ac_type'])\n",
        "data['cand_name']= label_encoder.fit_transform(data['cand_name'])\n",
        "data['cand_sex']= label_encoder.fit_transform(data['cand_sex'])\n",
        "data['partyname']= label_encoder.fit_transform(data['partyname'])\n",
        "data['partyabbre']= label_encoder.fit_transform(data['partyabbre'])"
      ],
      "metadata": {
        "id": "Q-UOjL647yDh"
      },
      "execution_count": null,
      "outputs": []
    },
    {
      "cell_type": "code",
      "source": [
        "data.head"
      ],
      "metadata": {
        "colab": {
          "base_uri": "https://localhost:8080/"
        },
        "id": "DlNN88B58UeD",
        "outputId": "a8a9fa1f-d8f3-43f0-88e3-135e5c2dfd1a"
      },
      "execution_count": null,
      "outputs": [
        {
          "output_type": "execute_result",
          "data": {
            "text/plain": [
              "<bound method NDFrame.head of         st_name    year  ac_no  ac_name  ac_type  cand_name  cand_sex  \\\n",
              "0             0  1978.0      1     2244        1     110726         1   \n",
              "1             0  1978.0      1     2244        1      12336         1   \n",
              "2             0  1978.0      1     2244        1     209115         1   \n",
              "3             0  1978.0      1     2244        1      86828         1   \n",
              "4             0  1978.0      1     2244        1      25207         1   \n",
              "...         ...     ...    ...      ...      ...        ...       ...   \n",
              "327289       29  2011.0    294     3869        1       6377         1   \n",
              "327290       29  2011.0    294     3869        1     186024         1   \n",
              "327291       29  2011.0    294     3869        1     195799         1   \n",
              "327292       29  2011.0    294     3869        1      54456         1   \n",
              "327293       29  2011.0    294     3869        1     132994         1   \n",
              "\n",
              "        partyname  partyabbre  totvotpoll  electors  \n",
              "0             649         489       813.0     83247  \n",
              "1             649         489      1743.0     83247  \n",
              "2             671         485      4427.0     83247  \n",
              "3             672         486     19805.0     83247  \n",
              "4             789         571     34251.0     83247  \n",
              "...           ...         ...         ...       ...  \n",
              "327289        634         489      2471.0    189320  \n",
              "327290        323         306      3074.0    189320  \n",
              "327291        277         219      4961.0    189320  \n",
              "327292        471         350     73414.0    189320  \n",
              "327293         51          91     77817.0    189320  \n",
              "\n",
              "[327294 rows x 11 columns]>"
            ]
          },
          "metadata": {},
          "execution_count": 111
        }
      ]
    },
    {
      "cell_type": "code",
      "source": [
        "df = data.groupby('partyname')\n",
        "df.head()"
      ],
      "metadata": {
        "colab": {
          "base_uri": "https://localhost:8080/",
          "height": 423
        },
        "id": "6sjXRK7J9QgH",
        "outputId": "08677438-fa40-42a0-eab7-35bfb45b6c40"
      },
      "execution_count": null,
      "outputs": [
        {
          "output_type": "execute_result",
          "data": {
            "text/plain": [
              "        st_name    year  ac_no  ac_name  ac_type  cand_name  cand_sex  \\\n",
              "0             0  1978.0      1     2244        1     110726         1   \n",
              "1             0  1978.0      1     2244        1      12336         1   \n",
              "2             0  1978.0      1     2244        1     209115         1   \n",
              "3             0  1978.0      1     2244        1      86828         1   \n",
              "4             0  1978.0      1     2244        1      25207         1   \n",
              "...         ...     ...    ...      ...      ...        ...       ...   \n",
              "326884       29  2011.0    222     2461        1      28592         1   \n",
              "326914       29  2011.0    227     4547        1     145535         1   \n",
              "327055       29  2011.0    249     4850        4       4013         1   \n",
              "327068       29  2011.0    251     5629        1     209529         1   \n",
              "327278       29  2011.0    292     2086        1      87351         1   \n",
              "\n",
              "        partyname  partyabbre  totvotpoll  electors  \n",
              "0             649         489       813.0     83247  \n",
              "1             649         489      1743.0     83247  \n",
              "2             671         485      4427.0     83247  \n",
              "3             672         486     19805.0     83247  \n",
              "4             789         571     34251.0     83247  \n",
              "...           ...         ...         ...       ...  \n",
              "326884        708         529      5452.0    184398  \n",
              "326914        520         387     84738.0    194839  \n",
              "327055        708         529     10950.0    200986  \n",
              "327068        708         529      1810.0    179758  \n",
              "327278       1220         943     46918.0    181069  \n",
              "\n",
              "[5881 rows x 11 columns]"
            ],
            "text/html": [
              "\n",
              "  <div id=\"df-f01cb0fd-bf31-4708-a6fa-a048f062d441\" class=\"colab-df-container\">\n",
              "    <div>\n",
              "<style scoped>\n",
              "    .dataframe tbody tr th:only-of-type {\n",
              "        vertical-align: middle;\n",
              "    }\n",
              "\n",
              "    .dataframe tbody tr th {\n",
              "        vertical-align: top;\n",
              "    }\n",
              "\n",
              "    .dataframe thead th {\n",
              "        text-align: right;\n",
              "    }\n",
              "</style>\n",
              "<table border=\"1\" class=\"dataframe\">\n",
              "  <thead>\n",
              "    <tr style=\"text-align: right;\">\n",
              "      <th></th>\n",
              "      <th>st_name</th>\n",
              "      <th>year</th>\n",
              "      <th>ac_no</th>\n",
              "      <th>ac_name</th>\n",
              "      <th>ac_type</th>\n",
              "      <th>cand_name</th>\n",
              "      <th>cand_sex</th>\n",
              "      <th>partyname</th>\n",
              "      <th>partyabbre</th>\n",
              "      <th>totvotpoll</th>\n",
              "      <th>electors</th>\n",
              "    </tr>\n",
              "  </thead>\n",
              "  <tbody>\n",
              "    <tr>\n",
              "      <th>0</th>\n",
              "      <td>0</td>\n",
              "      <td>1978.0</td>\n",
              "      <td>1</td>\n",
              "      <td>2244</td>\n",
              "      <td>1</td>\n",
              "      <td>110726</td>\n",
              "      <td>1</td>\n",
              "      <td>649</td>\n",
              "      <td>489</td>\n",
              "      <td>813.0</td>\n",
              "      <td>83247</td>\n",
              "    </tr>\n",
              "    <tr>\n",
              "      <th>1</th>\n",
              "      <td>0</td>\n",
              "      <td>1978.0</td>\n",
              "      <td>1</td>\n",
              "      <td>2244</td>\n",
              "      <td>1</td>\n",
              "      <td>12336</td>\n",
              "      <td>1</td>\n",
              "      <td>649</td>\n",
              "      <td>489</td>\n",
              "      <td>1743.0</td>\n",
              "      <td>83247</td>\n",
              "    </tr>\n",
              "    <tr>\n",
              "      <th>2</th>\n",
              "      <td>0</td>\n",
              "      <td>1978.0</td>\n",
              "      <td>1</td>\n",
              "      <td>2244</td>\n",
              "      <td>1</td>\n",
              "      <td>209115</td>\n",
              "      <td>1</td>\n",
              "      <td>671</td>\n",
              "      <td>485</td>\n",
              "      <td>4427.0</td>\n",
              "      <td>83247</td>\n",
              "    </tr>\n",
              "    <tr>\n",
              "      <th>3</th>\n",
              "      <td>0</td>\n",
              "      <td>1978.0</td>\n",
              "      <td>1</td>\n",
              "      <td>2244</td>\n",
              "      <td>1</td>\n",
              "      <td>86828</td>\n",
              "      <td>1</td>\n",
              "      <td>672</td>\n",
              "      <td>486</td>\n",
              "      <td>19805.0</td>\n",
              "      <td>83247</td>\n",
              "    </tr>\n",
              "    <tr>\n",
              "      <th>4</th>\n",
              "      <td>0</td>\n",
              "      <td>1978.0</td>\n",
              "      <td>1</td>\n",
              "      <td>2244</td>\n",
              "      <td>1</td>\n",
              "      <td>25207</td>\n",
              "      <td>1</td>\n",
              "      <td>789</td>\n",
              "      <td>571</td>\n",
              "      <td>34251.0</td>\n",
              "      <td>83247</td>\n",
              "    </tr>\n",
              "    <tr>\n",
              "      <th>...</th>\n",
              "      <td>...</td>\n",
              "      <td>...</td>\n",
              "      <td>...</td>\n",
              "      <td>...</td>\n",
              "      <td>...</td>\n",
              "      <td>...</td>\n",
              "      <td>...</td>\n",
              "      <td>...</td>\n",
              "      <td>...</td>\n",
              "      <td>...</td>\n",
              "      <td>...</td>\n",
              "    </tr>\n",
              "    <tr>\n",
              "      <th>326884</th>\n",
              "      <td>29</td>\n",
              "      <td>2011.0</td>\n",
              "      <td>222</td>\n",
              "      <td>2461</td>\n",
              "      <td>1</td>\n",
              "      <td>28592</td>\n",
              "      <td>1</td>\n",
              "      <td>708</td>\n",
              "      <td>529</td>\n",
              "      <td>5452.0</td>\n",
              "      <td>184398</td>\n",
              "    </tr>\n",
              "    <tr>\n",
              "      <th>326914</th>\n",
              "      <td>29</td>\n",
              "      <td>2011.0</td>\n",
              "      <td>227</td>\n",
              "      <td>4547</td>\n",
              "      <td>1</td>\n",
              "      <td>145535</td>\n",
              "      <td>1</td>\n",
              "      <td>520</td>\n",
              "      <td>387</td>\n",
              "      <td>84738.0</td>\n",
              "      <td>194839</td>\n",
              "    </tr>\n",
              "    <tr>\n",
              "      <th>327055</th>\n",
              "      <td>29</td>\n",
              "      <td>2011.0</td>\n",
              "      <td>249</td>\n",
              "      <td>4850</td>\n",
              "      <td>4</td>\n",
              "      <td>4013</td>\n",
              "      <td>1</td>\n",
              "      <td>708</td>\n",
              "      <td>529</td>\n",
              "      <td>10950.0</td>\n",
              "      <td>200986</td>\n",
              "    </tr>\n",
              "    <tr>\n",
              "      <th>327068</th>\n",
              "      <td>29</td>\n",
              "      <td>2011.0</td>\n",
              "      <td>251</td>\n",
              "      <td>5629</td>\n",
              "      <td>1</td>\n",
              "      <td>209529</td>\n",
              "      <td>1</td>\n",
              "      <td>708</td>\n",
              "      <td>529</td>\n",
              "      <td>1810.0</td>\n",
              "      <td>179758</td>\n",
              "    </tr>\n",
              "    <tr>\n",
              "      <th>327278</th>\n",
              "      <td>29</td>\n",
              "      <td>2011.0</td>\n",
              "      <td>292</td>\n",
              "      <td>2086</td>\n",
              "      <td>1</td>\n",
              "      <td>87351</td>\n",
              "      <td>1</td>\n",
              "      <td>1220</td>\n",
              "      <td>943</td>\n",
              "      <td>46918.0</td>\n",
              "      <td>181069</td>\n",
              "    </tr>\n",
              "  </tbody>\n",
              "</table>\n",
              "<p>5881 rows × 11 columns</p>\n",
              "</div>\n",
              "    <div class=\"colab-df-buttons\">\n",
              "\n",
              "  <div class=\"colab-df-container\">\n",
              "    <button class=\"colab-df-convert\" onclick=\"convertToInteractive('df-f01cb0fd-bf31-4708-a6fa-a048f062d441')\"\n",
              "            title=\"Convert this dataframe to an interactive table.\"\n",
              "            style=\"display:none;\">\n",
              "\n",
              "  <svg xmlns=\"http://www.w3.org/2000/svg\" height=\"24px\" viewBox=\"0 -960 960 960\">\n",
              "    <path d=\"M120-120v-720h720v720H120Zm60-500h600v-160H180v160Zm220 220h160v-160H400v160Zm0 220h160v-160H400v160ZM180-400h160v-160H180v160Zm440 0h160v-160H620v160ZM180-180h160v-160H180v160Zm440 0h160v-160H620v160Z\"/>\n",
              "  </svg>\n",
              "    </button>\n",
              "\n",
              "  <style>\n",
              "    .colab-df-container {\n",
              "      display:flex;\n",
              "      gap: 12px;\n",
              "    }\n",
              "\n",
              "    .colab-df-convert {\n",
              "      background-color: #E8F0FE;\n",
              "      border: none;\n",
              "      border-radius: 50%;\n",
              "      cursor: pointer;\n",
              "      display: none;\n",
              "      fill: #1967D2;\n",
              "      height: 32px;\n",
              "      padding: 0 0 0 0;\n",
              "      width: 32px;\n",
              "    }\n",
              "\n",
              "    .colab-df-convert:hover {\n",
              "      background-color: #E2EBFA;\n",
              "      box-shadow: 0px 1px 2px rgba(60, 64, 67, 0.3), 0px 1px 3px 1px rgba(60, 64, 67, 0.15);\n",
              "      fill: #174EA6;\n",
              "    }\n",
              "\n",
              "    .colab-df-buttons div {\n",
              "      margin-bottom: 4px;\n",
              "    }\n",
              "\n",
              "    [theme=dark] .colab-df-convert {\n",
              "      background-color: #3B4455;\n",
              "      fill: #D2E3FC;\n",
              "    }\n",
              "\n",
              "    [theme=dark] .colab-df-convert:hover {\n",
              "      background-color: #434B5C;\n",
              "      box-shadow: 0px 1px 3px 1px rgba(0, 0, 0, 0.15);\n",
              "      filter: drop-shadow(0px 1px 2px rgba(0, 0, 0, 0.3));\n",
              "      fill: #FFFFFF;\n",
              "    }\n",
              "  </style>\n",
              "\n",
              "    <script>\n",
              "      const buttonEl =\n",
              "        document.querySelector('#df-f01cb0fd-bf31-4708-a6fa-a048f062d441 button.colab-df-convert');\n",
              "      buttonEl.style.display =\n",
              "        google.colab.kernel.accessAllowed ? 'block' : 'none';\n",
              "\n",
              "      async function convertToInteractive(key) {\n",
              "        const element = document.querySelector('#df-f01cb0fd-bf31-4708-a6fa-a048f062d441');\n",
              "        const dataTable =\n",
              "          await google.colab.kernel.invokeFunction('convertToInteractive',\n",
              "                                                    [key], {});\n",
              "        if (!dataTable) return;\n",
              "\n",
              "        const docLinkHtml = 'Like what you see? Visit the ' +\n",
              "          '<a target=\"_blank\" href=https://colab.research.google.com/notebooks/data_table.ipynb>data table notebook</a>'\n",
              "          + ' to learn more about interactive tables.';\n",
              "        element.innerHTML = '';\n",
              "        dataTable['output_type'] = 'display_data';\n",
              "        await google.colab.output.renderOutput(dataTable, element);\n",
              "        const docLink = document.createElement('div');\n",
              "        docLink.innerHTML = docLinkHtml;\n",
              "        element.appendChild(docLink);\n",
              "      }\n",
              "    </script>\n",
              "  </div>\n",
              "\n",
              "\n",
              "<div id=\"df-7ac2589f-5876-4e66-9bdf-797ae7395362\">\n",
              "  <button class=\"colab-df-quickchart\" onclick=\"quickchart('df-7ac2589f-5876-4e66-9bdf-797ae7395362')\"\n",
              "            title=\"Suggest charts.\"\n",
              "            style=\"display:none;\">\n",
              "\n",
              "<svg xmlns=\"http://www.w3.org/2000/svg\" height=\"24px\"viewBox=\"0 0 24 24\"\n",
              "     width=\"24px\">\n",
              "    <g>\n",
              "        <path d=\"M19 3H5c-1.1 0-2 .9-2 2v14c0 1.1.9 2 2 2h14c1.1 0 2-.9 2-2V5c0-1.1-.9-2-2-2zM9 17H7v-7h2v7zm4 0h-2V7h2v10zm4 0h-2v-4h2v4z\"/>\n",
              "    </g>\n",
              "</svg>\n",
              "  </button>\n",
              "\n",
              "<style>\n",
              "  .colab-df-quickchart {\n",
              "      --bg-color: #E8F0FE;\n",
              "      --fill-color: #1967D2;\n",
              "      --hover-bg-color: #E2EBFA;\n",
              "      --hover-fill-color: #174EA6;\n",
              "      --disabled-fill-color: #AAA;\n",
              "      --disabled-bg-color: #DDD;\n",
              "  }\n",
              "\n",
              "  [theme=dark] .colab-df-quickchart {\n",
              "      --bg-color: #3B4455;\n",
              "      --fill-color: #D2E3FC;\n",
              "      --hover-bg-color: #434B5C;\n",
              "      --hover-fill-color: #FFFFFF;\n",
              "      --disabled-bg-color: #3B4455;\n",
              "      --disabled-fill-color: #666;\n",
              "  }\n",
              "\n",
              "  .colab-df-quickchart {\n",
              "    background-color: var(--bg-color);\n",
              "    border: none;\n",
              "    border-radius: 50%;\n",
              "    cursor: pointer;\n",
              "    display: none;\n",
              "    fill: var(--fill-color);\n",
              "    height: 32px;\n",
              "    padding: 0;\n",
              "    width: 32px;\n",
              "  }\n",
              "\n",
              "  .colab-df-quickchart:hover {\n",
              "    background-color: var(--hover-bg-color);\n",
              "    box-shadow: 0 1px 2px rgba(60, 64, 67, 0.3), 0 1px 3px 1px rgba(60, 64, 67, 0.15);\n",
              "    fill: var(--button-hover-fill-color);\n",
              "  }\n",
              "\n",
              "  .colab-df-quickchart-complete:disabled,\n",
              "  .colab-df-quickchart-complete:disabled:hover {\n",
              "    background-color: var(--disabled-bg-color);\n",
              "    fill: var(--disabled-fill-color);\n",
              "    box-shadow: none;\n",
              "  }\n",
              "\n",
              "  .colab-df-spinner {\n",
              "    border: 2px solid var(--fill-color);\n",
              "    border-color: transparent;\n",
              "    border-bottom-color: var(--fill-color);\n",
              "    animation:\n",
              "      spin 1s steps(1) infinite;\n",
              "  }\n",
              "\n",
              "  @keyframes spin {\n",
              "    0% {\n",
              "      border-color: transparent;\n",
              "      border-bottom-color: var(--fill-color);\n",
              "      border-left-color: var(--fill-color);\n",
              "    }\n",
              "    20% {\n",
              "      border-color: transparent;\n",
              "      border-left-color: var(--fill-color);\n",
              "      border-top-color: var(--fill-color);\n",
              "    }\n",
              "    30% {\n",
              "      border-color: transparent;\n",
              "      border-left-color: var(--fill-color);\n",
              "      border-top-color: var(--fill-color);\n",
              "      border-right-color: var(--fill-color);\n",
              "    }\n",
              "    40% {\n",
              "      border-color: transparent;\n",
              "      border-right-color: var(--fill-color);\n",
              "      border-top-color: var(--fill-color);\n",
              "    }\n",
              "    60% {\n",
              "      border-color: transparent;\n",
              "      border-right-color: var(--fill-color);\n",
              "    }\n",
              "    80% {\n",
              "      border-color: transparent;\n",
              "      border-right-color: var(--fill-color);\n",
              "      border-bottom-color: var(--fill-color);\n",
              "    }\n",
              "    90% {\n",
              "      border-color: transparent;\n",
              "      border-bottom-color: var(--fill-color);\n",
              "    }\n",
              "  }\n",
              "</style>\n",
              "\n",
              "  <script>\n",
              "    async function quickchart(key) {\n",
              "      const quickchartButtonEl =\n",
              "        document.querySelector('#' + key + ' button');\n",
              "      quickchartButtonEl.disabled = true;  // To prevent multiple clicks.\n",
              "      quickchartButtonEl.classList.add('colab-df-spinner');\n",
              "      try {\n",
              "        const charts = await google.colab.kernel.invokeFunction(\n",
              "            'suggestCharts', [key], {});\n",
              "      } catch (error) {\n",
              "        console.error('Error during call to suggestCharts:', error);\n",
              "      }\n",
              "      quickchartButtonEl.classList.remove('colab-df-spinner');\n",
              "      quickchartButtonEl.classList.add('colab-df-quickchart-complete');\n",
              "    }\n",
              "    (() => {\n",
              "      let quickchartButtonEl =\n",
              "        document.querySelector('#df-7ac2589f-5876-4e66-9bdf-797ae7395362 button');\n",
              "      quickchartButtonEl.style.display =\n",
              "        google.colab.kernel.accessAllowed ? 'block' : 'none';\n",
              "    })();\n",
              "  </script>\n",
              "</div>\n",
              "    </div>\n",
              "  </div>\n"
            ]
          },
          "metadata": {},
          "execution_count": 112
        }
      ]
    },
    {
      "cell_type": "code",
      "source": [
        "data['ac_name'].mode()"
      ],
      "metadata": {
        "colab": {
          "base_uri": "https://localhost:8080/"
        },
        "id": "gFr6xuwA-eT_",
        "outputId": "7c0af8ab-52be-4688-f065-4e13e1351e31"
      },
      "execution_count": null,
      "outputs": [
        {
          "output_type": "execute_result",
          "data": {
            "text/plain": [
              "0    6247\n",
              "Name: ac_name, dtype: int64"
            ]
          },
          "metadata": {},
          "execution_count": 113
        }
      ]
    },
    {
      "cell_type": "code",
      "source": [
        "data['ac_name'] = data['ac_name'].fillna(data['ac_name'].mode())"
      ],
      "metadata": {
        "id": "SBJKLLrv_u3r"
      },
      "execution_count": null,
      "outputs": []
    },
    {
      "cell_type": "code",
      "source": [
        "data.dropna(inplace=True)"
      ],
      "metadata": {
        "id": "zYu-TiSX_7G2"
      },
      "execution_count": null,
      "outputs": []
    },
    {
      "cell_type": "code",
      "source": [
        "data.isnull().sum()"
      ],
      "metadata": {
        "colab": {
          "base_uri": "https://localhost:8080/"
        },
        "id": "_5HnGqisAW3u",
        "outputId": "23634740-268d-4f9a-e358-956f0950da89"
      },
      "execution_count": null,
      "outputs": [
        {
          "output_type": "execute_result",
          "data": {
            "text/plain": [
              "st_name       0\n",
              "year          0\n",
              "ac_no         0\n",
              "ac_name       0\n",
              "ac_type       0\n",
              "cand_name     0\n",
              "cand_sex      0\n",
              "partyname     0\n",
              "partyabbre    0\n",
              "totvotpoll    0\n",
              "electors      0\n",
              "dtype: int64"
            ]
          },
          "metadata": {},
          "execution_count": 116
        }
      ]
    },
    {
      "cell_type": "code",
      "source": [
        "data.info()"
      ],
      "metadata": {
        "colab": {
          "base_uri": "https://localhost:8080/"
        },
        "id": "m4FxngbPAecN",
        "outputId": "623f81b4-c3cf-4ede-bb45-d8d756195491"
      },
      "execution_count": null,
      "outputs": [
        {
          "output_type": "stream",
          "name": "stdout",
          "text": [
            "<class 'pandas.core.frame.DataFrame'>\n",
            "Int64Index: 327287 entries, 0 to 327293\n",
            "Data columns (total 11 columns):\n",
            " #   Column      Non-Null Count   Dtype  \n",
            "---  ------      --------------   -----  \n",
            " 0   st_name     327287 non-null  int64  \n",
            " 1   year        327287 non-null  float64\n",
            " 2   ac_no       327287 non-null  int64  \n",
            " 3   ac_name     327287 non-null  int64  \n",
            " 4   ac_type     327287 non-null  int64  \n",
            " 5   cand_name   327287 non-null  int64  \n",
            " 6   cand_sex    327287 non-null  int64  \n",
            " 7   partyname   327287 non-null  int64  \n",
            " 8   partyabbre  327287 non-null  int64  \n",
            " 9   totvotpoll  327287 non-null  float64\n",
            " 10  electors    327287 non-null  int64  \n",
            "dtypes: float64(2), int64(9)\n",
            "memory usage: 30.0 MB\n"
          ]
        }
      ]
    },
    {
      "cell_type": "code",
      "source": [
        "data['year']=data['year'].astype(int)"
      ],
      "metadata": {
        "id": "haasYm-zBLjg"
      },
      "execution_count": null,
      "outputs": []
    },
    {
      "cell_type": "code",
      "source": [
        "data['totvotpoll']=data['totvotpoll'].astype(int)"
      ],
      "metadata": {
        "id": "ZUEsI99JBWnC"
      },
      "execution_count": null,
      "outputs": []
    },
    {
      "cell_type": "code",
      "source": [
        "print(data.shape)\n",
        "data.drop_duplicates(inplace=True)\n",
        "print(data.shape)\n",
        "#49 duplicate values present"
      ],
      "metadata": {
        "colab": {
          "base_uri": "https://localhost:8080/"
        },
        "id": "cH1h5m-kBegl",
        "outputId": "029ab84e-bfa8-46ba-84da-6d65f4cbb3fb"
      },
      "execution_count": null,
      "outputs": [
        {
          "output_type": "stream",
          "name": "stdout",
          "text": [
            "(327287, 11)\n",
            "(327238, 11)\n"
          ]
        }
      ]
    },
    {
      "cell_type": "code",
      "source": [
        "data.corr"
      ],
      "metadata": {
        "colab": {
          "base_uri": "https://localhost:8080/"
        },
        "id": "Ts1OJ_xzB8i-",
        "outputId": "a0f8a706-fdc4-4350-a699-866074a1bef6"
      },
      "execution_count": null,
      "outputs": [
        {
          "output_type": "execute_result",
          "data": {
            "text/plain": [
              "<bound method DataFrame.corr of         st_name  year  ac_no  ac_name  ac_type  cand_name  cand_sex  \\\n",
              "0             0  1978      1     2244        1     110726         1   \n",
              "1             0  1978      1     2244        1      12336         1   \n",
              "2             0  1978      1     2244        1     209115         1   \n",
              "3             0  1978      1     2244        1      86828         1   \n",
              "4             0  1978      1     2244        1      25207         1   \n",
              "...         ...   ...    ...      ...      ...        ...       ...   \n",
              "327289       29  2011    294     3869        1       6377         1   \n",
              "327290       29  2011    294     3869        1     186024         1   \n",
              "327291       29  2011    294     3869        1     195799         1   \n",
              "327292       29  2011    294     3869        1      54456         1   \n",
              "327293       29  2011    294     3869        1     132994         1   \n",
              "\n",
              "        partyname  partyabbre  totvotpoll  electors  \n",
              "0             649         489         813     83247  \n",
              "1             649         489        1743     83247  \n",
              "2             671         485        4427     83247  \n",
              "3             672         486       19805     83247  \n",
              "4             789         571       34251     83247  \n",
              "...           ...         ...         ...       ...  \n",
              "327289        634         489        2471    189320  \n",
              "327290        323         306        3074    189320  \n",
              "327291        277         219        4961    189320  \n",
              "327292        471         350       73414    189320  \n",
              "327293         51          91       77817    189320  \n",
              "\n",
              "[327238 rows x 11 columns]>"
            ]
          },
          "metadata": {},
          "execution_count": 121
        }
      ]
    },
    {
      "cell_type": "code",
      "source": [
        "import seaborn as sns\n",
        "sns.heatmap(data.corr())"
      ],
      "metadata": {
        "colab": {
          "base_uri": "https://localhost:8080/",
          "height": 519
        },
        "id": "Dr9unPLZCClj",
        "outputId": "beae726b-0586-42fc-839c-fe9c868ab7b4"
      },
      "execution_count": null,
      "outputs": [
        {
          "output_type": "execute_result",
          "data": {
            "text/plain": [
              "<Axes: >"
            ]
          },
          "metadata": {},
          "execution_count": 122
        },
        {
          "output_type": "display_data",
          "data": {
            "text/plain": [
              "<Figure size 640x480 with 2 Axes>"
            ],
            "image/png": "[encoded data removed]"
          },
          "metadata": {}
        }
      ]
    },
    {
      "cell_type": "code",
      "source": [
        "import matplotlib.pyplot as plt\n",
        "%matplotlib inline"
      ],
      "metadata": {
        "id": "iE3dBDPoCJEc"
      },
      "execution_count": null,
      "outputs": []
    },
    {
      "cell_type": "code",
      "source": [
        "sns.boxplot(x=\"partyname\",data=data)"
      ],
      "metadata": {
        "colab": {
          "base_uri": "https://localhost:8080/",
          "height": 466
        },
        "id": "XPH0NrRsD-fI",
        "outputId": "8b93168f-0cee-4e20-ba50-8b64cc983180"
      },
      "execution_count": null,
      "outputs": [
        {
          "output_type": "execute_result",
          "data": {
            "text/plain": [
              "<Axes: xlabel='partyname'>"
            ]
          },
          "metadata": {},
          "execution_count": 124
        },
        {
          "output_type": "display_data",
          "data": {
            "text/plain": [
              "<Figure size 640x480 with 1 Axes>"
            ],
            "image/png": "[encoded data removed]"
          },
          "metadata": {}
        }
      ]
    },
    {
      "cell_type": "code",
      "source": [
        "sns.boxplot(x=\"st_name\", data=data)"
      ],
      "metadata": {
        "colab": {
          "base_uri": "https://localhost:8080/",
          "height": 466
        },
        "id": "7oJNn_ykEedm",
        "outputId": "1c4c8899-8d93-45cb-831c-34b56e815ac3"
      },
      "execution_count": null,
      "outputs": [
        {
          "output_type": "execute_result",
          "data": {
            "text/plain": [
              "<Axes: xlabel='st_name'>"
            ]
          },
          "metadata": {},
          "execution_count": 125
        },
        {
          "output_type": "display_data",
          "data": {
            "text/plain": [
              "<Figure size 640x480 with 1 Axes>"
            ],
            "image/png": "[encoded data removed]"
          },
          "metadata": {}
        }
      ]
    },
    {
      "cell_type": "code",
      "source": [
        "sns.boxplot(x=\"ac_name\", data=data)"
      ],
      "metadata": {
        "colab": {
          "base_uri": "https://localhost:8080/",
          "height": 466
        },
        "id": "yI01g3KcFBt9",
        "outputId": "e6e24c9f-f9e6-4ed7-e1fa-aed293dde36e"
      },
      "execution_count": null,
      "outputs": [
        {
          "output_type": "execute_result",
          "data": {
            "text/plain": [
              "<Axes: xlabel='ac_name'>"
            ]
          },
          "metadata": {},
          "execution_count": 126
        },
        {
          "output_type": "display_data",
          "data": {
            "text/plain": [
              "<Figure size 640x480 with 1 Axes>"
            ],
            "image/png": "[encoded data removed]"
          },
          "metadata": {}
        }
      ]
    },
    {
      "cell_type": "code",
      "source": [
        "sns.boxplot(x=\"cand_name\", data=data)"
      ],
      "metadata": {
        "colab": {
          "base_uri": "https://localhost:8080/",
          "height": 467
        },
        "id": "dAHZEE2uFLLg",
        "outputId": "ec4298d6-1f6a-4833-c618-9bac65749188"
      },
      "execution_count": null,
      "outputs": [
        {
          "output_type": "execute_result",
          "data": {
            "text/plain": [
              "<Axes: xlabel='cand_name'>"
            ]
          },
          "metadata": {},
          "execution_count": 127
        },
        {
          "output_type": "display_data",
          "data": {
            "text/plain": [
              "<Figure size 640x480 with 1 Axes>"
            ],
            "image/png": "[encoded data removed]"
          },
          "metadata": {}
        }
      ]
    },
    {
      "cell_type": "code",
      "source": [
        "%matplotlib inline\n",
        "import matplotlib as plt\n",
        "from matplotlib import pyplot\n",
        "plt.pyplot.hist(data[\"st_name\"],bins = 30)\n",
        "\n",
        "# set x/y labels and plot title\n",
        "plt.pyplot.xlabel(\"st_name\")\n",
        "plt.pyplot.ylabel(\"count\")\n",
        "plt.pyplot.title(\"st_name bins\")"
      ],
      "metadata": {
        "colab": {
          "base_uri": "https://localhost:8080/",
          "height": 489
        },
        "id": "Ok_lvpszFPv-",
        "outputId": "8f26a51a-c929-436e-8187-e28eda15071e"
      },
      "execution_count": null,
      "outputs": [
        {
          "output_type": "execute_result",
          "data": {
            "text/plain": [
              "Text(0.5, 1.0, 'st_name bins')"
            ]
          },
          "metadata": {},
          "execution_count": 128
        },
        {
          "output_type": "display_data",
          "data": {
            "text/plain": [
              "<Figure size 640x480 with 1 Axes>"
            ],
            "image/png": "[encoded data removed]"
          },
          "metadata": {}
        }
      ]
    },
    {
      "cell_type": "code",
      "source": [
        "sns.set(style = 'whitegrid')\n",
        "sns.violinplot(x =\"st_name\",\n",
        "             y =\"electors\",\n",
        "             data = data)"
      ],
      "metadata": {
        "colab": {
          "base_uri": "https://localhost:8080/",
          "height": 491
        },
        "id": "i5f1Iq0FGbZn",
        "outputId": "e3d37f91-85e8-4488-f067-dec21c852270"
      },
      "execution_count": null,
      "outputs": [
        {
          "output_type": "execute_result",
          "data": {
            "text/plain": [
              "<Axes: xlabel='st_name', ylabel='electors'>"
            ]
          },
          "metadata": {},
          "execution_count": 129
        },
        {
          "output_type": "display_data",
          "data": {
            "text/plain": [
              "<Figure size 640x480 with 1 Axes>"
            ],
            "image/png": "[encoded data removed]"
          },
          "metadata": {}
        }
      ]
    }
  ]
}