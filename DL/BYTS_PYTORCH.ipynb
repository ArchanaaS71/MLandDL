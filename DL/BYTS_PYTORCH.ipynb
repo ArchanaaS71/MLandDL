{
  "nbformat": 4,
  "nbformat_minor": 0,
  "metadata": {
    "colab": {
      "provenance": [],
      "gpuType": "T4"
    },
    "kernelspec": {
      "name": "python3",
      "display_name": "Python 3"
    },
    "language_info": {
      "name": "python"
    },
    "accelerator": "GPU"
  },
  "cells": [
    {
      "cell_type": "code",
      "execution_count": null,
      "metadata": {
        "id": "6OPsCWGioY60"
      },
      "outputs": [],
      "source": [
        "import torch\n",
        "import torchvision.datasets as datasets\n",
        "import torchvision.transforms as transforms\n",
        "import torch.nn as nn\n",
        "import torch.optim as optim"
      ]
    },
    {
      "cell_type": "code",
      "source": [
        "transform = transforms.Compose([transforms.ToTensor(),transforms.Normalize((0.1307,),(0.3081,))])"
      ],
      "metadata": {
        "id": "pLCOKQxRp-1k"
      },
      "execution_count": null,
      "outputs": []
    },
    {
      "cell_type": "code",
      "source": [
        "train_datasets=datasets.MNIST('data',train=True,download=True,transform=transform)"
      ],
      "metadata": {
        "colab": {
          "base_uri": "https://localhost:8080/"
        },
        "id": "PsCuN00yp_lf",
        "outputId": "7f714fff-9695-4430-d08a-a065fbf201f7"
      },
      "execution_count": null,
      "outputs": [
        {
          "output_type": "stream",
          "name": "stdout",
          "text": [
            "Downloading http://yann.lecun.com/exdb/mnist/train-images-idx3-ubyte.gz\n",
            "Downloading http://yann.lecun.com/exdb/mnist/train-images-idx3-ubyte.gz to data/MNIST/raw/train-images-idx3-ubyte.gz\n"
          ]
        },
        {
          "output_type": "stream",
          "name": "stderr",
          "text": [
            "100%|██████████| 9912422/9912422 [00:00<00:00, 116087225.86it/s]\n"
          ]
        },
        {
          "output_type": "stream",
          "name": "stdout",
          "text": [
            "Extracting data/MNIST/raw/train-images-idx3-ubyte.gz to data/MNIST/raw\n",
            "\n",
            "Downloading http://yann.lecun.com/exdb/mnist/train-labels-idx1-ubyte.gz\n",
            "Downloading http://yann.lecun.com/exdb/mnist/train-labels-idx1-ubyte.gz to data/MNIST/raw/train-labels-idx1-ubyte.gz\n"
          ]
        },
        {
          "output_type": "stream",
          "name": "stderr",
          "text": [
            "100%|██████████| 28881/28881 [00:00<00:00, 117951016.38it/s]\n"
          ]
        },
        {
          "output_type": "stream",
          "name": "stdout",
          "text": [
            "Extracting data/MNIST/raw/train-labels-idx1-ubyte.gz to data/MNIST/raw\n",
            "\n",
            "Downloading http://yann.lecun.com/exdb/mnist/t10k-images-idx3-ubyte.gz\n",
            "Downloading http://yann.lecun.com/exdb/mnist/t10k-images-idx3-ubyte.gz to data/MNIST/raw/t10k-images-idx3-ubyte.gz\n"
          ]
        },
        {
          "output_type": "stream",
          "name": "stderr",
          "text": [
            "100%|██████████| 1648877/1648877 [00:00<00:00, 38948724.95it/s]"
          ]
        },
        {
          "output_type": "stream",
          "name": "stdout",
          "text": [
            "Extracting data/MNIST/raw/t10k-images-idx3-ubyte.gz to data/MNIST/raw\n"
          ]
        },
        {
          "output_type": "stream",
          "name": "stderr",
          "text": [
            "\n"
          ]
        },
        {
          "output_type": "stream",
          "name": "stdout",
          "text": [
            "\n",
            "Downloading http://yann.lecun.com/exdb/mnist/t10k-labels-idx1-ubyte.gz\n",
            "Downloading http://yann.lecun.com/exdb/mnist/t10k-labels-idx1-ubyte.gz to data/MNIST/raw/t10k-labels-idx1-ubyte.gz\n"
          ]
        },
        {
          "output_type": "stream",
          "name": "stderr",
          "text": [
            "100%|██████████| 4542/4542 [00:00<00:00, 3933621.47it/s]\n"
          ]
        },
        {
          "output_type": "stream",
          "name": "stdout",
          "text": [
            "Extracting data/MNIST/raw/t10k-labels-idx1-ubyte.gz to data/MNIST/raw\n",
            "\n"
          ]
        }
      ]
    },
    {
      "cell_type": "code",
      "source": [
        "train_loader=torch.utils.data.DataLoader(train_datasets,batch_size=64,shuffle=True)"
      ],
      "metadata": {
        "id": "4sXrIMunqgd6"
      },
      "execution_count": null,
      "outputs": []
    },
    {
      "cell_type": "code",
      "source": [
        "class Neural(nn.Module):\n",
        "  def __init__(self):\n",
        "    super(Neural,self).__init__()\n",
        "    self.fc1=nn.Linear(28*28,128) #fc1 = Fully connectted layer 1\n",
        "    self.fc2=nn.Linear(128,64)\n",
        "    self.fc3=nn.Linear(64,10)\n",
        "  def forward(self,x):\n",
        "    x=x.view(-1,28*28)\n",
        "    x=torch.relu(self.fc1(x))\n",
        "    x=torch.relu(self.fc2(x))\n",
        "    x=self.fc3(x)\n",
        "    return x\n",
        "net = Neural()\n"
      ],
      "metadata": {
        "id": "zmpyyCWFqxTu"
      },
      "execution_count": null,
      "outputs": []
    },
    {
      "cell_type": "code",
      "source": [
        "criterion = nn.CrossEntropyLoss()\n",
        "optimizer=optim.SGD(net.parameters(),lr=0.01,momentum=0.5)"
      ],
      "metadata": {
        "id": "rvUv5qtv1J5B"
      },
      "execution_count": null,
      "outputs": []
    },
    {
      "cell_type": "code",
      "source": [
        "num_epochs=10\n",
        "for epoch in range(num_epochs):\n",
        "  for batch_idx,(data,target) in enumerate (train_loader):\n",
        "    optimizer.zero_grad()\n",
        "    output=net(data)\n",
        "    loss = criterion(output,target)\n",
        "    loss.backward()\n",
        "    optimizer.step()\n",
        "    if batch_idx %100 ==0:\n",
        "      print('Train Epoch: {} [{}/{} ({:.0f}%)]\\tLoss: {:.6f}'.format(\n",
        "          epoch, batch_idx *len(data),len(train_loader.dataset),\n",
        "          100. *batch_idx /len(train_loader),loss.item()\n",
        "      ))"
      ],
      "metadata": {
        "colab": {
          "base_uri": "https://localhost:8080/"
        },
        "id": "P5l3BLbR1zhv",
        "outputId": "f2692a27-9790-4039-82b3-10dad36975a2"
      },
      "execution_count": null,
      "outputs": [
        {
          "output_type": "stream",
          "name": "stdout",
          "text": [
            "Train Epoch: 0 [0/60000 (0%)]\tLoss: 2.310036\n",
            "Train Epoch: 0 [6400/60000 (11%)]\tLoss: 1.287384\n",
            "Train Epoch: 0 [12800/60000 (21%)]\tLoss: 0.524794\n",
            "Train Epoch: 0 [19200/60000 (32%)]\tLoss: 0.409875\n",
            "Train Epoch: 0 [25600/60000 (43%)]\tLoss: 0.264768\n",
            "Train Epoch: 0 [32000/60000 (53%)]\tLoss: 0.327073\n",
            "Train Epoch: 0 [38400/60000 (64%)]\tLoss: 0.367350\n",
            "Train Epoch: 0 [44800/60000 (75%)]\tLoss: 0.324509\n",
            "Train Epoch: 0 [51200/60000 (85%)]\tLoss: 0.295119\n",
            "Train Epoch: 0 [57600/60000 (96%)]\tLoss: 0.208841\n",
            "Train Epoch: 1 [0/60000 (0%)]\tLoss: 0.274719\n",
            "Train Epoch: 1 [6400/60000 (11%)]\tLoss: 0.093999\n",
            "Train Epoch: 1 [12800/60000 (21%)]\tLoss: 0.260197\n",
            "Train Epoch: 1 [19200/60000 (32%)]\tLoss: 0.217169\n",
            "Train Epoch: 1 [25600/60000 (43%)]\tLoss: 0.326678\n",
            "Train Epoch: 1 [32000/60000 (53%)]\tLoss: 0.382795\n",
            "Train Epoch: 1 [38400/60000 (64%)]\tLoss: 0.187338\n",
            "Train Epoch: 1 [44800/60000 (75%)]\tLoss: 0.223292\n",
            "Train Epoch: 1 [51200/60000 (85%)]\tLoss: 0.132104\n",
            "Train Epoch: 1 [57600/60000 (96%)]\tLoss: 0.203306\n",
            "Train Epoch: 2 [0/60000 (0%)]\tLoss: 0.153373\n",
            "Train Epoch: 2 [6400/60000 (11%)]\tLoss: 0.133287\n",
            "Train Epoch: 2 [12800/60000 (21%)]\tLoss: 0.276017\n",
            "Train Epoch: 2 [19200/60000 (32%)]\tLoss: 0.214601\n",
            "Train Epoch: 2 [25600/60000 (43%)]\tLoss: 0.217848\n",
            "Train Epoch: 2 [32000/60000 (53%)]\tLoss: 0.198121\n",
            "Train Epoch: 2 [38400/60000 (64%)]\tLoss: 0.330002\n",
            "Train Epoch: 2 [44800/60000 (75%)]\tLoss: 0.262959\n",
            "Train Epoch: 2 [51200/60000 (85%)]\tLoss: 0.176865\n",
            "Train Epoch: 2 [57600/60000 (96%)]\tLoss: 0.210810\n",
            "Train Epoch: 3 [0/60000 (0%)]\tLoss: 0.060715\n",
            "Train Epoch: 3 [6400/60000 (11%)]\tLoss: 0.066110\n",
            "Train Epoch: 3 [12800/60000 (21%)]\tLoss: 0.116307\n",
            "Train Epoch: 3 [19200/60000 (32%)]\tLoss: 0.204143\n",
            "Train Epoch: 3 [25600/60000 (43%)]\tLoss: 0.227443\n",
            "Train Epoch: 3 [32000/60000 (53%)]\tLoss: 0.167967\n",
            "Train Epoch: 3 [38400/60000 (64%)]\tLoss: 0.094034\n",
            "Train Epoch: 3 [44800/60000 (75%)]\tLoss: 0.119492\n",
            "Train Epoch: 3 [51200/60000 (85%)]\tLoss: 0.189499\n",
            "Train Epoch: 3 [57600/60000 (96%)]\tLoss: 0.091975\n",
            "Train Epoch: 4 [0/60000 (0%)]\tLoss: 0.160913\n",
            "Train Epoch: 4 [6400/60000 (11%)]\tLoss: 0.189059\n",
            "Train Epoch: 4 [12800/60000 (21%)]\tLoss: 0.064272\n",
            "Train Epoch: 4 [19200/60000 (32%)]\tLoss: 0.098791\n",
            "Train Epoch: 4 [25600/60000 (43%)]\tLoss: 0.082633\n",
            "Train Epoch: 4 [32000/60000 (53%)]\tLoss: 0.330970\n",
            "Train Epoch: 4 [38400/60000 (64%)]\tLoss: 0.068892\n",
            "Train Epoch: 4 [44800/60000 (75%)]\tLoss: 0.344579\n",
            "Train Epoch: 4 [51200/60000 (85%)]\tLoss: 0.092671\n",
            "Train Epoch: 4 [57600/60000 (96%)]\tLoss: 0.031980\n",
            "Train Epoch: 5 [0/60000 (0%)]\tLoss: 0.124469\n",
            "Train Epoch: 5 [6400/60000 (11%)]\tLoss: 0.110390\n",
            "Train Epoch: 5 [12800/60000 (21%)]\tLoss: 0.104920\n",
            "Train Epoch: 5 [19200/60000 (32%)]\tLoss: 0.072046\n",
            "Train Epoch: 5 [25600/60000 (43%)]\tLoss: 0.235782\n",
            "Train Epoch: 5 [32000/60000 (53%)]\tLoss: 0.061640\n",
            "Train Epoch: 5 [38400/60000 (64%)]\tLoss: 0.129542\n",
            "Train Epoch: 5 [44800/60000 (75%)]\tLoss: 0.064202\n",
            "Train Epoch: 5 [51200/60000 (85%)]\tLoss: 0.143520\n",
            "Train Epoch: 5 [57600/60000 (96%)]\tLoss: 0.069130\n",
            "Train Epoch: 6 [0/60000 (0%)]\tLoss: 0.034790\n",
            "Train Epoch: 6 [6400/60000 (11%)]\tLoss: 0.089244\n",
            "Train Epoch: 6 [12800/60000 (21%)]\tLoss: 0.041275\n",
            "Train Epoch: 6 [19200/60000 (32%)]\tLoss: 0.039108\n",
            "Train Epoch: 6 [25600/60000 (43%)]\tLoss: 0.177055\n",
            "Train Epoch: 6 [32000/60000 (53%)]\tLoss: 0.071871\n",
            "Train Epoch: 6 [38400/60000 (64%)]\tLoss: 0.051486\n",
            "Train Epoch: 6 [44800/60000 (75%)]\tLoss: 0.026895\n",
            "Train Epoch: 6 [51200/60000 (85%)]\tLoss: 0.046171\n",
            "Train Epoch: 6 [57600/60000 (96%)]\tLoss: 0.135181\n",
            "Train Epoch: 7 [0/60000 (0%)]\tLoss: 0.065116\n",
            "Train Epoch: 7 [6400/60000 (11%)]\tLoss: 0.049066\n",
            "Train Epoch: 7 [12800/60000 (21%)]\tLoss: 0.088329\n",
            "Train Epoch: 7 [19200/60000 (32%)]\tLoss: 0.098645\n",
            "Train Epoch: 7 [25600/60000 (43%)]\tLoss: 0.097046\n",
            "Train Epoch: 7 [32000/60000 (53%)]\tLoss: 0.143995\n",
            "Train Epoch: 7 [38400/60000 (64%)]\tLoss: 0.111378\n",
            "Train Epoch: 7 [44800/60000 (75%)]\tLoss: 0.243373\n",
            "Train Epoch: 7 [51200/60000 (85%)]\tLoss: 0.014888\n",
            "Train Epoch: 7 [57600/60000 (96%)]\tLoss: 0.072802\n",
            "Train Epoch: 8 [0/60000 (0%)]\tLoss: 0.082207\n",
            "Train Epoch: 8 [6400/60000 (11%)]\tLoss: 0.067447\n",
            "Train Epoch: 8 [12800/60000 (21%)]\tLoss: 0.048082\n",
            "Train Epoch: 8 [19200/60000 (32%)]\tLoss: 0.013194\n",
            "Train Epoch: 8 [25600/60000 (43%)]\tLoss: 0.054271\n",
            "Train Epoch: 8 [32000/60000 (53%)]\tLoss: 0.098438\n",
            "Train Epoch: 8 [38400/60000 (64%)]\tLoss: 0.048671\n",
            "Train Epoch: 8 [44800/60000 (75%)]\tLoss: 0.103478\n",
            "Train Epoch: 8 [51200/60000 (85%)]\tLoss: 0.030025\n",
            "Train Epoch: 8 [57600/60000 (96%)]\tLoss: 0.021632\n",
            "Train Epoch: 9 [0/60000 (0%)]\tLoss: 0.116047\n",
            "Train Epoch: 9 [6400/60000 (11%)]\tLoss: 0.109959\n",
            "Train Epoch: 9 [12800/60000 (21%)]\tLoss: 0.026804\n",
            "Train Epoch: 9 [19200/60000 (32%)]\tLoss: 0.073156\n",
            "Train Epoch: 9 [25600/60000 (43%)]\tLoss: 0.014962\n",
            "Train Epoch: 9 [32000/60000 (53%)]\tLoss: 0.037354\n",
            "Train Epoch: 9 [38400/60000 (64%)]\tLoss: 0.125403\n",
            "Train Epoch: 9 [44800/60000 (75%)]\tLoss: 0.047278\n",
            "Train Epoch: 9 [51200/60000 (85%)]\tLoss: 0.023718\n",
            "Train Epoch: 9 [57600/60000 (96%)]\tLoss: 0.112068\n"
          ]
        }
      ]
    },
    {
      "cell_type": "code",
      "source": [
        "test_dataset = datasets.MNIST('data',train=False,download=True,transform=transform)\n",
        "test_loader=torch.utils.data.DataLoader(test_dataset,batch_size=1000,shuffle=True)\n",
        "correct = 0\n",
        "total = 0\n",
        "with torch.no_grad():\n",
        "  output=net(data)\n",
        "  _,predicted=torch.max(output.data,1)\n",
        "  total+=target.size(0)\n",
        "  correct+=(predicted==target).sum().item()"
      ],
      "metadata": {
        "id": "gQrzSe8b39hv"
      },
      "execution_count": null,
      "outputs": []
    },
    {
      "cell_type": "code",
      "source": [
        "print('Accuracy of the network on the 10000 test images: %d %%' % (100*correct/total))"
      ],
      "metadata": {
        "colab": {
          "base_uri": "https://localhost:8080/"
        },
        "id": "B2QhoLl246PO",
        "outputId": "1ba7d383-7004-424a-9ff0-3c6f0e666a42"
      },
      "execution_count": null,
      "outputs": [
        {
          "output_type": "stream",
          "name": "stdout",
          "text": [
            "Accuracy of the network on the 10000 test images: 100 %\n"
          ]
        }
      ]
    },
    {
      "cell_type": "markdown",
      "source": [
        "FASHION MNIST DATASET"
      ],
      "metadata": {
        "id": "Emeqtd0D9KYd"
      }
    },
    {
      "cell_type": "code",
      "source": [
        "transform1 = transforms.Compose([transforms.ToTensor(),transforms.Normalize((0.1307,),(0.3081,))])"
      ],
      "metadata": {
        "id": "7jhn8ZBR-GnU"
      },
      "execution_count": null,
      "outputs": []
    },
    {
      "cell_type": "code",
      "source": [
        "training_data=datasets.FashionMNIST(root=\"data\",train=True,download=True,transform=transform1)"
      ],
      "metadata": {
        "colab": {
          "base_uri": "https://localhost:8080/"
        },
        "id": "mm59QQ7H9KB0",
        "outputId": "0eea5816-18ae-4dee-8390-9e82d20b2fc6"
      },
      "execution_count": null,
      "outputs": [
        {
          "output_type": "stream",
          "name": "stdout",
          "text": [
            "Downloading http://fashion-mnist.s3-website.eu-central-1.amazonaws.com/train-images-idx3-ubyte.gz\n",
            "Downloading http://fashion-mnist.s3-website.eu-central-1.amazonaws.com/train-images-idx3-ubyte.gz to data/FashionMNIST/raw/train-images-idx3-ubyte.gz\n"
          ]
        },
        {
          "output_type": "stream",
          "name": "stderr",
          "text": [
            "100%|██████████| 26421880/26421880 [00:02<00:00, 11171753.92it/s]\n"
          ]
        },
        {
          "output_type": "stream",
          "name": "stdout",
          "text": [
            "Extracting data/FashionMNIST/raw/train-images-idx3-ubyte.gz to data/FashionMNIST/raw\n",
            "\n",
            "Downloading http://fashion-mnist.s3-website.eu-central-1.amazonaws.com/train-labels-idx1-ubyte.gz\n",
            "Downloading http://fashion-mnist.s3-website.eu-central-1.amazonaws.com/train-labels-idx1-ubyte.gz to data/FashionMNIST/raw/train-labels-idx1-ubyte.gz\n"
          ]
        },
        {
          "output_type": "stream",
          "name": "stderr",
          "text": [
            "100%|██████████| 29515/29515 [00:00<00:00, 198352.04it/s]\n"
          ]
        },
        {
          "output_type": "stream",
          "name": "stdout",
          "text": [
            "Extracting data/FashionMNIST/raw/train-labels-idx1-ubyte.gz to data/FashionMNIST/raw\n",
            "\n",
            "Downloading http://fashion-mnist.s3-website.eu-central-1.amazonaws.com/t10k-images-idx3-ubyte.gz\n",
            "Downloading http://fashion-mnist.s3-website.eu-central-1.amazonaws.com/t10k-images-idx3-ubyte.gz to data/FashionMNIST/raw/t10k-images-idx3-ubyte.gz\n"
          ]
        },
        {
          "output_type": "stream",
          "name": "stderr",
          "text": [
            "100%|██████████| 4422102/4422102 [00:01<00:00, 3738683.77it/s]\n"
          ]
        },
        {
          "output_type": "stream",
          "name": "stdout",
          "text": [
            "Extracting data/FashionMNIST/raw/t10k-images-idx3-ubyte.gz to data/FashionMNIST/raw\n",
            "\n",
            "Downloading http://fashion-mnist.s3-website.eu-central-1.amazonaws.com/t10k-labels-idx1-ubyte.gz\n",
            "Downloading http://fashion-mnist.s3-website.eu-central-1.amazonaws.com/t10k-labels-idx1-ubyte.gz to data/FashionMNIST/raw/t10k-labels-idx1-ubyte.gz\n"
          ]
        },
        {
          "output_type": "stream",
          "name": "stderr",
          "text": [
            "100%|██████████| 5148/5148 [00:00<00:00, 2691297.14it/s]"
          ]
        },
        {
          "output_type": "stream",
          "name": "stdout",
          "text": [
            "Extracting data/FashionMNIST/raw/t10k-labels-idx1-ubyte.gz to data/FashionMNIST/raw\n",
            "\n"
          ]
        },
        {
          "output_type": "stream",
          "name": "stderr",
          "text": [
            "\n"
          ]
        }
      ]
    },
    {
      "cell_type": "code",
      "source": [
        "train_loader=torch.utils.data.DataLoader(training_data,batch_size=64,shuffle=True)"
      ],
      "metadata": {
        "id": "v2Xyx_cc9aSY"
      },
      "execution_count": null,
      "outputs": []
    },
    {
      "cell_type": "code",
      "source": [
        "class Neural(nn.Module):\n",
        "  def __init__(self):\n",
        "    super(Neural,self).__init__()\n",
        "    self.fc1=nn.Linear(28*28,128) #fc1 = Fully connectted layer 1\n",
        "    self.fc2=nn.Linear(128,64)\n",
        "    self.fc3=nn.Linear(64,32)\n",
        "    self.fc4=nn.Linear(32,10)\n",
        "  def forward(self,x):\n",
        "    x=x.view(-1,28*28)\n",
        "    x=torch.relu(self.fc1(x))\n",
        "    x=torch.relu(self.fc2(x))\n",
        "    x=torch.relu(self.fc3(x))\n",
        "    x=self.fc4(x)\n",
        "    return x\n",
        "net = Neural()\n"
      ],
      "metadata": {
        "id": "JKUN7Y6W-nr8"
      },
      "execution_count": null,
      "outputs": []
    },
    {
      "cell_type": "code",
      "source": [
        "criterion = nn.CrossEntropyLoss()\n",
        "optimizer=optim.SGD(net.parameters(),lr=0.01,momentum=0.5)"
      ],
      "metadata": {
        "id": "SybxcCd6-zy2"
      },
      "execution_count": null,
      "outputs": []
    },
    {
      "cell_type": "code",
      "source": [
        "num_epochs=10\n",
        "for epoch in range(num_epochs):\n",
        "  for batch_idx,(data,target) in enumerate (train_loader):\n",
        "    optimizer.zero_grad()\n",
        "    output=net(data)\n",
        "    loss = criterion(output,target)\n",
        "    loss.backward()\n",
        "    optimizer.step()\n",
        "    if batch_idx %100 ==0:\n",
        "      print('Train Epoch: {} [{}/{} ({:.0f}%)]\\tLoss: {:.6f}'.format(\n",
        "          epoch, batch_idx *len(data),len(train_loader.dataset),\n",
        "          100. *batch_idx /len(train_loader),loss.item()\n",
        "      ))"
      ],
      "metadata": {
        "colab": {
          "base_uri": "https://localhost:8080/"
        },
        "id": "eUpKXhSa-5EI",
        "outputId": "e20c9923-b470-429f-f23c-a68fbfebebe0"
      },
      "execution_count": null,
      "outputs": [
        {
          "output_type": "stream",
          "name": "stdout",
          "text": [
            "Train Epoch: 0 [0/60000 (0%)]\tLoss: 2.309907\n",
            "Train Epoch: 0 [6400/60000 (11%)]\tLoss: 1.829347\n",
            "Train Epoch: 0 [12800/60000 (21%)]\tLoss: 1.042529\n",
            "Train Epoch: 0 [19200/60000 (32%)]\tLoss: 0.730204\n",
            "Train Epoch: 0 [25600/60000 (43%)]\tLoss: 0.719878\n",
            "Train Epoch: 0 [32000/60000 (53%)]\tLoss: 0.839969\n",
            "Train Epoch: 0 [38400/60000 (64%)]\tLoss: 0.837041\n",
            "Train Epoch: 0 [44800/60000 (75%)]\tLoss: 0.768243\n",
            "Train Epoch: 0 [51200/60000 (85%)]\tLoss: 0.481428\n",
            "Train Epoch: 0 [57600/60000 (96%)]\tLoss: 0.684833\n",
            "Train Epoch: 1 [0/60000 (0%)]\tLoss: 0.356027\n",
            "Train Epoch: 1 [6400/60000 (11%)]\tLoss: 0.478905\n",
            "Train Epoch: 1 [12800/60000 (21%)]\tLoss: 0.397455\n",
            "Train Epoch: 1 [19200/60000 (32%)]\tLoss: 0.619416\n",
            "Train Epoch: 1 [25600/60000 (43%)]\tLoss: 0.827903\n",
            "Train Epoch: 1 [32000/60000 (53%)]\tLoss: 0.358843\n",
            "Train Epoch: 1 [38400/60000 (64%)]\tLoss: 0.494821\n",
            "Train Epoch: 1 [44800/60000 (75%)]\tLoss: 0.462877\n",
            "Train Epoch: 1 [51200/60000 (85%)]\tLoss: 0.278949\n",
            "Train Epoch: 1 [57600/60000 (96%)]\tLoss: 0.601669\n",
            "Train Epoch: 2 [0/60000 (0%)]\tLoss: 0.422229\n",
            "Train Epoch: 2 [6400/60000 (11%)]\tLoss: 0.525585\n",
            "Train Epoch: 2 [12800/60000 (21%)]\tLoss: 0.334419\n",
            "Train Epoch: 2 [19200/60000 (32%)]\tLoss: 0.307375\n",
            "Train Epoch: 2 [25600/60000 (43%)]\tLoss: 0.517192\n",
            "Train Epoch: 2 [32000/60000 (53%)]\tLoss: 0.562400\n",
            "Train Epoch: 2 [38400/60000 (64%)]\tLoss: 0.353314\n",
            "Train Epoch: 2 [44800/60000 (75%)]\tLoss: 0.480458\n",
            "Train Epoch: 2 [51200/60000 (85%)]\tLoss: 0.363069\n",
            "Train Epoch: 2 [57600/60000 (96%)]\tLoss: 0.636316\n",
            "Train Epoch: 3 [0/60000 (0%)]\tLoss: 0.451174\n",
            "Train Epoch: 3 [6400/60000 (11%)]\tLoss: 0.466704\n",
            "Train Epoch: 3 [12800/60000 (21%)]\tLoss: 0.251217\n",
            "Train Epoch: 3 [19200/60000 (32%)]\tLoss: 0.386479\n",
            "Train Epoch: 3 [25600/60000 (43%)]\tLoss: 0.305160\n",
            "Train Epoch: 3 [32000/60000 (53%)]\tLoss: 0.410131\n",
            "Train Epoch: 3 [38400/60000 (64%)]\tLoss: 0.276638\n",
            "Train Epoch: 3 [44800/60000 (75%)]\tLoss: 0.431901\n",
            "Train Epoch: 3 [51200/60000 (85%)]\tLoss: 0.420091\n",
            "Train Epoch: 3 [57600/60000 (96%)]\tLoss: 0.533844\n",
            "Train Epoch: 4 [0/60000 (0%)]\tLoss: 0.192026\n",
            "Train Epoch: 4 [6400/60000 (11%)]\tLoss: 0.295927\n",
            "Train Epoch: 4 [12800/60000 (21%)]\tLoss: 0.349014\n",
            "Train Epoch: 4 [19200/60000 (32%)]\tLoss: 0.422142\n",
            "Train Epoch: 4 [25600/60000 (43%)]\tLoss: 0.263752\n",
            "Train Epoch: 4 [32000/60000 (53%)]\tLoss: 0.468585\n",
            "Train Epoch: 4 [38400/60000 (64%)]\tLoss: 0.366515\n",
            "Train Epoch: 4 [44800/60000 (75%)]\tLoss: 0.525095\n",
            "Train Epoch: 4 [51200/60000 (85%)]\tLoss: 0.340594\n",
            "Train Epoch: 4 [57600/60000 (96%)]\tLoss: 0.517532\n",
            "Train Epoch: 5 [0/60000 (0%)]\tLoss: 0.335461\n",
            "Train Epoch: 5 [6400/60000 (11%)]\tLoss: 0.332542\n",
            "Train Epoch: 5 [12800/60000 (21%)]\tLoss: 0.390741\n",
            "Train Epoch: 5 [19200/60000 (32%)]\tLoss: 0.266750\n",
            "Train Epoch: 5 [25600/60000 (43%)]\tLoss: 0.333326\n",
            "Train Epoch: 5 [32000/60000 (53%)]\tLoss: 0.387828\n",
            "Train Epoch: 5 [38400/60000 (64%)]\tLoss: 0.504441\n",
            "Train Epoch: 5 [44800/60000 (75%)]\tLoss: 0.422681\n",
            "Train Epoch: 5 [51200/60000 (85%)]\tLoss: 0.353781\n",
            "Train Epoch: 5 [57600/60000 (96%)]\tLoss: 0.203847\n",
            "Train Epoch: 6 [0/60000 (0%)]\tLoss: 0.334063\n",
            "Train Epoch: 6 [6400/60000 (11%)]\tLoss: 0.546811\n",
            "Train Epoch: 6 [12800/60000 (21%)]\tLoss: 0.342906\n",
            "Train Epoch: 6 [19200/60000 (32%)]\tLoss: 0.229320\n",
            "Train Epoch: 6 [25600/60000 (43%)]\tLoss: 0.305575\n",
            "Train Epoch: 6 [32000/60000 (53%)]\tLoss: 0.350325\n",
            "Train Epoch: 6 [38400/60000 (64%)]\tLoss: 0.447661\n",
            "Train Epoch: 6 [44800/60000 (75%)]\tLoss: 0.301645\n",
            "Train Epoch: 6 [51200/60000 (85%)]\tLoss: 0.332836\n",
            "Train Epoch: 6 [57600/60000 (96%)]\tLoss: 0.278264\n",
            "Train Epoch: 7 [0/60000 (0%)]\tLoss: 0.298296\n",
            "Train Epoch: 7 [6400/60000 (11%)]\tLoss: 0.447592\n",
            "Train Epoch: 7 [12800/60000 (21%)]\tLoss: 0.396016\n",
            "Train Epoch: 7 [19200/60000 (32%)]\tLoss: 0.330383\n",
            "Train Epoch: 7 [25600/60000 (43%)]\tLoss: 0.349687\n",
            "Train Epoch: 7 [32000/60000 (53%)]\tLoss: 0.269245\n",
            "Train Epoch: 7 [38400/60000 (64%)]\tLoss: 0.242362\n",
            "Train Epoch: 7 [44800/60000 (75%)]\tLoss: 0.227146\n",
            "Train Epoch: 7 [51200/60000 (85%)]\tLoss: 0.302407\n",
            "Train Epoch: 7 [57600/60000 (96%)]\tLoss: 0.291745\n",
            "Train Epoch: 8 [0/60000 (0%)]\tLoss: 0.337871\n",
            "Train Epoch: 8 [6400/60000 (11%)]\tLoss: 0.343558\n",
            "Train Epoch: 8 [12800/60000 (21%)]\tLoss: 0.279346\n",
            "Train Epoch: 8 [19200/60000 (32%)]\tLoss: 0.178550\n",
            "Train Epoch: 8 [25600/60000 (43%)]\tLoss: 0.298270\n",
            "Train Epoch: 8 [32000/60000 (53%)]\tLoss: 0.220992\n",
            "Train Epoch: 8 [38400/60000 (64%)]\tLoss: 0.405683\n",
            "Train Epoch: 8 [44800/60000 (75%)]\tLoss: 0.369829\n",
            "Train Epoch: 8 [51200/60000 (85%)]\tLoss: 0.357251\n",
            "Train Epoch: 8 [57600/60000 (96%)]\tLoss: 0.369913\n",
            "Train Epoch: 9 [0/60000 (0%)]\tLoss: 0.246223\n",
            "Train Epoch: 9 [6400/60000 (11%)]\tLoss: 0.274497\n",
            "Train Epoch: 9 [12800/60000 (21%)]\tLoss: 0.227355\n",
            "Train Epoch: 9 [19200/60000 (32%)]\tLoss: 0.158716\n",
            "Train Epoch: 9 [25600/60000 (43%)]\tLoss: 0.263970\n",
            "Train Epoch: 9 [32000/60000 (53%)]\tLoss: 0.437560\n",
            "Train Epoch: 9 [38400/60000 (64%)]\tLoss: 0.436406\n",
            "Train Epoch: 9 [44800/60000 (75%)]\tLoss: 0.248333\n",
            "Train Epoch: 9 [51200/60000 (85%)]\tLoss: 0.402915\n",
            "Train Epoch: 9 [57600/60000 (96%)]\tLoss: 0.443350\n"
          ]
        }
      ]
    },
    {
      "cell_type": "code",
      "source": [
        "test_dataset = datasets.FashionMNIST('data',train=False,download=True,transform=transform)\n",
        "test_loader=torch.utils.data.DataLoader(test_dataset,batch_size=1000,shuffle=True)\n",
        "correct = 0\n",
        "total = 0\n",
        "with torch.no_grad():\n",
        "  output=net(data)\n",
        "  _,predicted=torch.max(output.data,1)\n",
        "  total+=target.size(0)\n",
        "  correct+=(predicted==target).sum().item()"
      ],
      "metadata": {
        "id": "PZWmrELE--A5"
      },
      "execution_count": null,
      "outputs": []
    },
    {
      "cell_type": "code",
      "source": [
        "print('Accuracy of the network on the 10000 test images: %d %%' % (100*correct/total))"
      ],
      "metadata": {
        "colab": {
          "base_uri": "https://localhost:8080/"
        },
        "id": "tuXJnj9N_FqD",
        "outputId": "cebfca8b-5dc4-408f-f2c7-cb39046aaafd"
      },
      "execution_count": null,
      "outputs": [
        {
          "output_type": "stream",
          "name": "stdout",
          "text": [
            "Accuracy of the network on the 10000 test images: 100 %\n"
          ]
        }
      ]
    },
    {
      "cell_type": "markdown",
      "source": [
        "CelebA dataset"
      ],
      "metadata": {
        "id": "J3i6DH51DWWF"
      }
    },
    {
      "cell_type": "code",
      "source": [],
      "metadata": {
        "id": "oOTMPaEDEx4Z"
      },
      "execution_count": null,
      "outputs": []
    }
  ]
}