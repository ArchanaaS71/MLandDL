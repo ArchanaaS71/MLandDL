{
  "nbformat": 4,
  "nbformat_minor": 0,
  "metadata": {
    "colab": {
      "provenance": [],
      "gpuType": "T4"
    },
    "kernelspec": {
      "name": "python3",
      "display_name": "Python 3"
    },
    "language_info": {
      "name": "python"
    },
    "accelerator": "GPU"
  },
  "cells": [
    {
      "cell_type": "markdown",
      "source": [
        "CODE: https://colab.research.google.com/github/tensorflow/docs/blob/master/site/en/tutorials/quickstart/beginner.ipynb#scrollTo=zWSRnQ0WI5eq"
      ],
      "metadata": {
        "id": "LjUyXfzOpwhH"
      }
    },
    {
      "cell_type": "code",
      "execution_count": null,
      "metadata": {
        "colab": {
          "base_uri": "https://localhost:8080/"
        },
        "id": "_FnZG8DZpsCv",
        "outputId": "97bd75a9-cabc-41bf-d4d8-e686972da1c7"
      },
      "outputs": [
        {
          "output_type": "stream",
          "name": "stdout",
          "text": [
            "TensorFlow version: 2.15.0\n"
          ]
        }
      ],
      "source": [
        "import tensorflow as tf\n",
        "print(\"TensorFlow version:\", tf.__version__)"
      ]
    },
    {
      "cell_type": "code",
      "source": [
        "mnist = tf.keras.datasets.mnist\n",
        "\n",
        "(x_train, y_train), (x_test, y_test) = mnist.load_data()\n",
        "x_train, x_test = x_train / 255.0, x_test / 255.0"
      ],
      "metadata": {
        "id": "i7-hpg1tp4XZ"
      },
      "execution_count": null,
      "outputs": []
    },
    {
      "cell_type": "code",
      "source": [
        "model = tf.keras.models.Sequential([\n",
        "  tf.keras.layers.Flatten(input_shape=(28, 28)),\n",
        "  tf.keras.layers.Dense(128, activation='relu'),\n",
        "  tf.keras.layers.Dropout(0.2),\n",
        "  tf.keras.layers.Dense(10)\n",
        "])"
      ],
      "metadata": {
        "id": "BIOgJDMAp_45"
      },
      "execution_count": null,
      "outputs": []
    },
    {
      "cell_type": "code",
      "source": [
        "predictions = model(x_train[:1]).numpy()\n",
        "predictions"
      ],
      "metadata": {
        "colab": {
          "base_uri": "https://localhost:8080/"
        },
        "id": "0nrzDlJ4qGWM",
        "outputId": "4d34b71a-7ba5-4c65-c88b-7278fb9b70bc"
      },
      "execution_count": null,
      "outputs": [
        {
          "output_type": "execute_result",
          "data": {
            "text/plain": [
              "array([[ 0.37714645, -0.0846091 , -0.2774145 , -0.52990466,  0.16662246,\n",
              "        -0.08986625,  0.3686129 ,  0.05178931,  0.65212375,  0.23472162]],\n",
              "      dtype=float32)"
            ]
          },
          "metadata": {},
          "execution_count": 22
        }
      ]
    },
    {
      "cell_type": "code",
      "source": [
        "tf.nn.softmax(predictions).numpy()"
      ],
      "metadata": {
        "colab": {
          "base_uri": "https://localhost:8080/"
        },
        "id": "ZoBX4xFNqIFu",
        "outputId": "763398f6-745a-476f-b746-bd108e9f7106"
      },
      "execution_count": null,
      "outputs": [
        {
          "output_type": "execute_result",
          "data": {
            "text/plain": [
              "array([[0.12677297, 0.07988933, 0.06588013, 0.05117989, 0.10270634,\n",
              "        0.07947045, 0.12569575, 0.09156424, 0.16689672, 0.1099442 ]],\n",
              "      dtype=float32)"
            ]
          },
          "metadata": {},
          "execution_count": 23
        }
      ]
    },
    {
      "cell_type": "code",
      "source": [
        "loss_fn = tf.keras.losses.SparseCategoricalCrossentropy(from_logits=True)"
      ],
      "metadata": {
        "id": "dpC_0kCXqCf2"
      },
      "execution_count": null,
      "outputs": []
    },
    {
      "cell_type": "code",
      "source": [
        "loss_fn(y_train[:1], predictions).numpy()"
      ],
      "metadata": {
        "colab": {
          "base_uri": "https://localhost:8080/"
        },
        "id": "8Mo1OZZnqOP7",
        "outputId": "e2202791-d0b7-4554-fb7c-ed9519a4e41e"
      },
      "execution_count": null,
      "outputs": [
        {
          "output_type": "execute_result",
          "data": {
            "text/plain": [
              "2.53237"
            ]
          },
          "metadata": {},
          "execution_count": 25
        }
      ]
    },
    {
      "cell_type": "code",
      "source": [
        "model.compile(optimizer='adam',\n",
        "              loss=loss_fn,\n",
        "              metrics=['accuracy'])"
      ],
      "metadata": {
        "id": "1NgMaOjCqQRp"
      },
      "execution_count": null,
      "outputs": []
    },
    {
      "cell_type": "code",
      "source": [
        "model.fit(x_train, y_train, epochs=5)"
      ],
      "metadata": {
        "colab": {
          "base_uri": "https://localhost:8080/"
        },
        "id": "3yKusT15qS2l",
        "outputId": "7f5fb2d4-ccee-4d1e-b407-715036fc3492"
      },
      "execution_count": null,
      "outputs": [
        {
          "output_type": "stream",
          "name": "stdout",
          "text": [
            "Epoch 1/5\n",
            "1875/1875 [==============================] - 6s 3ms/step - loss: 0.2942 - accuracy: 0.9151\n",
            "Epoch 2/5\n",
            "1875/1875 [==============================] - 5s 2ms/step - loss: 0.1411 - accuracy: 0.9584\n",
            "Epoch 3/5\n",
            "1875/1875 [==============================] - 5s 3ms/step - loss: 0.1061 - accuracy: 0.9685\n",
            "Epoch 4/5\n",
            "1875/1875 [==============================] - 5s 3ms/step - loss: 0.0861 - accuracy: 0.9740\n",
            "Epoch 5/5\n",
            "1875/1875 [==============================] - 5s 2ms/step - loss: 0.0736 - accuracy: 0.9768\n"
          ]
        },
        {
          "output_type": "execute_result",
          "data": {
            "text/plain": [
              "<keras.src.callbacks.History at 0x78e219fa4d60>"
            ]
          },
          "metadata": {},
          "execution_count": 27
        }
      ]
    },
    {
      "cell_type": "code",
      "source": [
        "model.evaluate(x_test,  y_test, verbose=2)"
      ],
      "metadata": {
        "colab": {
          "base_uri": "https://localhost:8080/"
        },
        "id": "uVQIrJRHqV3B",
        "outputId": "a2dd2bcf-d079-44fe-c4b6-d92b5cac704d"
      },
      "execution_count": null,
      "outputs": [
        {
          "output_type": "stream",
          "name": "stdout",
          "text": [
            "313/313 - 1s - loss: 0.0757 - accuracy: 0.9758 - 634ms/epoch - 2ms/step\n"
          ]
        },
        {
          "output_type": "execute_result",
          "data": {
            "text/plain": [
              "[0.07570440322160721, 0.9757999777793884]"
            ]
          },
          "metadata": {},
          "execution_count": 28
        }
      ]
    },
    {
      "cell_type": "code",
      "source": [
        "probability_model = tf.keras.Sequential([\n",
        "  model,\n",
        "  tf.keras.layers.Softmax()\n",
        "])"
      ],
      "metadata": {
        "id": "undkaOQRqa4W"
      },
      "execution_count": null,
      "outputs": []
    },
    {
      "cell_type": "code",
      "source": [
        "probability_model(x_test[:5])"
      ],
      "metadata": {
        "colab": {
          "base_uri": "https://localhost:8080/"
        },
        "id": "dFr1hwPIqdCX",
        "outputId": "8f0d7c67-3cd4-4d17-f03c-67ec84cbac2f"
      },
      "execution_count": null,
      "outputs": [
        {
          "output_type": "execute_result",
          "data": {
            "text/plain": [
              "<tf.Tensor: shape=(5, 10), dtype=float32, numpy=\n",
              "array([[1.6253349e-09, 1.2337717e-08, 1.2386206e-06, 2.0071608e-05,\n",
              "        1.4645831e-13, 4.2316628e-08, 7.5085691e-16, 9.9997783e-01,\n",
              "        2.8832069e-08, 8.4333618e-07],\n",
              "       [4.3535304e-09, 2.4814252e-04, 9.9974698e-01, 7.4133357e-07,\n",
              "        5.4557041e-15, 4.0960422e-06, 7.0338819e-09, 2.8244741e-13,\n",
              "        8.7472031e-08, 5.4237680e-15],\n",
              "       [2.6369761e-07, 9.9903488e-01, 6.8022295e-05, 4.3989257e-05,\n",
              "        1.0132974e-04, 4.5278816e-06, 9.3566305e-06, 4.4682433e-04,\n",
              "        2.8951067e-04, 1.3734870e-06],\n",
              "       [9.9781704e-01, 5.5024358e-08, 1.8877226e-03, 8.6303589e-06,\n",
              "        4.0469723e-07, 7.5989439e-05, 1.6013706e-04, 4.1732997e-05,\n",
              "        2.5115276e-06, 5.8712890e-06],\n",
              "       [2.6501590e-05, 3.9222425e-09, 2.7994112e-05, 2.8472007e-08,\n",
              "        9.9506581e-01, 4.7331179e-07, 5.1425897e-05, 2.9807864e-04,\n",
              "        4.4388853e-06, 4.5252461e-03]], dtype=float32)>"
            ]
          },
          "metadata": {},
          "execution_count": 30
        }
      ]
    },
    {
      "cell_type": "code",
      "source": [
        "import keras\n",
        "import tensorflow as tf\n",
        "import matplotlib.pyplot as plt\n",
        "from tensorflow.keras.models import Sequential\n",
        "from tensorflow.keras.layers import Dense, Conv2D, MaxPool2D, Flatten, Dropout\n",
        "import numpy as np\n",
        "import pandas as pd\n",
        "from tensorflow.keras.utils import to_categorical\n",
        "from sklearn import linear_model\n",
        "from sklearn import metrics\n",
        "import seaborn as sns\n",
        "(train_images, train_labels), (test_images, test_labels) = tf.keras.datasets.cifar10.load_data()"
      ],
      "metadata": {
        "id": "klatERc6rQU-"
      },
      "execution_count": null,
      "outputs": []
    },
    {
      "cell_type": "code",
      "source": [
        "label_names = ['airplane', 'automobile', 'bird', 'cat', 'deer', 'dog', 'frog', 'horse', 'ship', 'truck']"
      ],
      "metadata": {
        "id": "_zyIzq_zraPK"
      },
      "execution_count": null,
      "outputs": []
    },
    {
      "cell_type": "code",
      "source": [
        "i = np.random.randint(len(train_images))\n",
        "plt.figure(figsize=(10,2))\n",
        "plt.imshow(train_images[i])\n",
        "plt.xlabel(label_names[int(train_labels[i])] + \"-\" + str(train_labels[i]))"
      ],
      "metadata": {
        "colab": {
          "base_uri": "https://localhost:8080/",
          "height": 254
        },
        "id": "7bRjwT2CrRHi",
        "outputId": "7fa39bf6-d721-4597-d277-549c03b00b77"
      },
      "execution_count": null,
      "outputs": [
        {
          "output_type": "execute_result",
          "data": {
            "text/plain": [
              "Text(0.5, 0, 'dog-[5]')"
            ]
          },
          "metadata": {},
          "execution_count": 33
        },
        {
          "output_type": "display_data",
          "data": {
            "text/plain": [
              "<Figure size 1000x200 with 1 Axes>"
            ],
            "image/png": "[encoded data removed]"
          },
          "metadata": {}
        }
      ]
    },
    {
      "cell_type": "code",
      "source": [
        "x_train = train_images/255\n",
        "x_test = test_images/255\n",
        "y_train_onehot = to_categorical(train_labels)\n",
        "y_test_onehot = to_categorical(test_labels)"
      ],
      "metadata": {
        "id": "5Yd2L8wXrXK7"
      },
      "execution_count": null,
      "outputs": []
    },
    {
      "cell_type": "code",
      "source": [
        "lin = Sequential()\n",
        "lin.add(Flatten(input_shape=(32,32,3)))\n",
        "lin.add(Dense(1000))\n",
        "lin.add(Dense(10, activation='softmax'))\n",
        "lin.compile(optimizer='adam', \\\n",
        "                  loss='categorical_crossentropy', \\\n",
        "                  metrics=['accuracy'])\n",
        "run_lin = lin.fit(x_train, y_train_onehot, epochs=20, validation_data=(x_test, y_test_onehot))\n",
        "\n",
        "#returns the probability of 10 labels for each of 10,000 test samples:\n",
        "y_pred_lin = lin.predict(x_test)\n",
        "\n",
        "#picking the largest probability as the final predicted class:\n",
        "y_pred_lin = np.argmax(y_pred_lin, axis=1)\n"
      ],
      "metadata": {
        "colab": {
          "base_uri": "https://localhost:8080/"
        },
        "id": "73nc90AWrp_E",
        "outputId": "8f87b8cc-541d-4fff-ce3a-f14168897968"
      },
      "execution_count": null,
      "outputs": [
        {
          "output_type": "stream",
          "name": "stdout",
          "text": [
            "Epoch 1/20\n",
            "1563/1563 [==============================] - 7s 4ms/step - loss: 2.4627 - accuracy: 0.3014 - val_loss: 1.8101 - val_accuracy: 0.3586\n",
            "Epoch 2/20\n",
            "1563/1563 [==============================] - 7s 4ms/step - loss: 1.8857 - accuracy: 0.3338 - val_loss: 1.8769 - val_accuracy: 0.3332\n",
            "Epoch 3/20\n",
            "1563/1563 [==============================] - 6s 4ms/step - loss: 1.8964 - accuracy: 0.3334 - val_loss: 1.8525 - val_accuracy: 0.3544\n",
            "Epoch 4/20\n",
            "1563/1563 [==============================] - 7s 4ms/step - loss: 1.8753 - accuracy: 0.3443 - val_loss: 1.9469 - val_accuracy: 0.3194\n",
            "Epoch 5/20\n",
            "1563/1563 [==============================] - 7s 4ms/step - loss: 1.8796 - accuracy: 0.3453 - val_loss: 1.8043 - val_accuracy: 0.3648\n",
            "Epoch 6/20\n",
            "1563/1563 [==============================] - 6s 4ms/step - loss: 1.8667 - accuracy: 0.3483 - val_loss: 1.8902 - val_accuracy: 0.3380\n",
            "Epoch 7/20\n",
            "1563/1563 [==============================] - 6s 4ms/step - loss: 1.8517 - accuracy: 0.3575 - val_loss: 2.1627 - val_accuracy: 0.2705\n",
            "Epoch 8/20\n",
            "1563/1563 [==============================] - 6s 4ms/step - loss: 1.8523 - accuracy: 0.3584 - val_loss: 1.7916 - val_accuracy: 0.3682\n",
            "Epoch 9/20\n",
            "1563/1563 [==============================] - 6s 4ms/step - loss: 1.8313 - accuracy: 0.3686 - val_loss: 1.9663 - val_accuracy: 0.3069\n",
            "Epoch 10/20\n",
            "1563/1563 [==============================] - 7s 5ms/step - loss: 1.8408 - accuracy: 0.3666 - val_loss: 1.8258 - val_accuracy: 0.3561\n",
            "Epoch 11/20\n",
            "1563/1563 [==============================] - 6s 4ms/step - loss: 1.8365 - accuracy: 0.3657 - val_loss: 1.8743 - val_accuracy: 0.3334\n",
            "Epoch 12/20\n",
            "1563/1563 [==============================] - 7s 4ms/step - loss: 1.8211 - accuracy: 0.3732 - val_loss: 1.8803 - val_accuracy: 0.3532\n",
            "Epoch 13/20\n",
            "1563/1563 [==============================] - 7s 4ms/step - loss: 1.8147 - accuracy: 0.3733 - val_loss: 1.8967 - val_accuracy: 0.3416\n",
            "Epoch 14/20\n",
            "1563/1563 [==============================] - 7s 5ms/step - loss: 1.8219 - accuracy: 0.3720 - val_loss: 1.9209 - val_accuracy: 0.3448\n",
            "Epoch 15/20\n",
            "1563/1563 [==============================] - 6s 4ms/step - loss: 1.8232 - accuracy: 0.3721 - val_loss: 1.7809 - val_accuracy: 0.3851\n",
            "Epoch 16/20\n",
            "1563/1563 [==============================] - 7s 4ms/step - loss: 1.8146 - accuracy: 0.3763 - val_loss: 1.8364 - val_accuracy: 0.3606\n",
            "Epoch 17/20\n",
            "1563/1563 [==============================] - 7s 4ms/step - loss: 1.8163 - accuracy: 0.3769 - val_loss: 1.7713 - val_accuracy: 0.3832\n",
            "Epoch 18/20\n",
            "1563/1563 [==============================] - 7s 5ms/step - loss: 1.8058 - accuracy: 0.3774 - val_loss: 1.7918 - val_accuracy: 0.3764\n",
            "Epoch 19/20\n",
            "1563/1563 [==============================] - 6s 4ms/step - loss: 1.8106 - accuracy: 0.3748 - val_loss: 1.8093 - val_accuracy: 0.3755\n",
            "Epoch 20/20\n",
            "1563/1563 [==============================] - 7s 4ms/step - loss: 1.8240 - accuracy: 0.3738 - val_loss: 1.8085 - val_accuracy: 0.3796\n",
            "313/313 [==============================] - 1s 1ms/step\n"
          ]
        }
      ]
    },
    {
      "cell_type": "code",
      "source": [
        "print(metrics.classification_report(y_test, y_pred_lin))"
      ],
      "metadata": {
        "colab": {
          "base_uri": "https://localhost:8080/"
        },
        "id": "On9OlUknr2sK",
        "outputId": "d42b0119-af1f-49e6-c0ac-3e2f7b6a8f8e"
      },
      "execution_count": null,
      "outputs": [
        {
          "output_type": "stream",
          "name": "stdout",
          "text": [
            "              precision    recall  f1-score   support\n",
            "\n",
            "           0       0.09      0.05      0.07       980\n",
            "           1       0.11      0.14      0.12      1135\n",
            "           2       0.11      0.01      0.02      1032\n",
            "           3       0.08      0.09      0.09      1010\n",
            "           4       0.10      0.18      0.13       982\n",
            "           5       0.08      0.10      0.09       892\n",
            "           6       0.10      0.14      0.11       958\n",
            "           7       0.10      0.09      0.10      1028\n",
            "           8       0.10      0.09      0.10       974\n",
            "           9       0.08      0.05      0.06      1009\n",
            "\n",
            "    accuracy                           0.09     10000\n",
            "   macro avg       0.10      0.09      0.09     10000\n",
            "weighted avg       0.10      0.09      0.09     10000\n",
            "\n"
          ]
        }
      ]
    }
  ]
}