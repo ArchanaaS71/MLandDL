{
  "nbformat": 4,
  "nbformat_minor": 0,
  "metadata": {
    "colab": {
      "provenance": []
    },
    "kernelspec": {
      "name": "python3",
      "display_name": "Python 3"
    },
    "language_info": {
      "name": "python"
    }
  },
  "cells": [
    {
      "cell_type": "code",
      "execution_count": null,
      "metadata": {
        "id": "MN3kwxu5gC8R"
      },
      "outputs": [],
      "source": [
        "import numpy as np\n",
        "import pandas as pd\n",
        "import matplotlib.pyplot as plt"
      ]
    },
    {
      "cell_type": "code",
      "source": [
        "test = pd.read_csv('https://raw.githubusercontent.com/ezioauditore-tech/AI/main/datasets/Titanic/test.csv')\n",
        "train = pd.read_csv('https://raw.githubusercontent.com/ezioauditore-tech/AI/main/datasets/Titanic/train.csv')"
      ],
      "metadata": {
        "id": "colPdlZYhFno"
      },
      "execution_count": null,
      "outputs": []
    },
    {
      "cell_type": "code",
      "source": [
        "train.set_index(\"PassengerId\",inplace=True)\n",
        "test.set_index(\"PassengerId\",inplace=True)"
      ],
      "metadata": {
        "id": "qFcEnCpdgm09"
      },
      "execution_count": null,
      "outputs": []
    },
    {
      "cell_type": "code",
      "source": [
        "train,test"
      ],
      "metadata": {
        "colab": {
          "base_uri": "https://localhost:8080/"
        },
        "id": "LHdHszRVhqJp",
        "outputId": "57e921f1-88b6-4703-b231-4c1ad7efc7f2"
      },
      "execution_count": null,
      "outputs": [
        {
          "output_type": "execute_result",
          "data": {
            "text/plain": [
              "(             Survived  Pclass  \\\n",
              " PassengerId                     \n",
              " 1                   0       3   \n",
              " 2                   1       1   \n",
              " 3                   1       3   \n",
              " 4                   1       1   \n",
              " 5                   0       3   \n",
              " ...               ...     ...   \n",
              " 887                 0       2   \n",
              " 888                 1       1   \n",
              " 889                 0       3   \n",
              " 890                 1       1   \n",
              " 891                 0       3   \n",
              " \n",
              "                                                           Name     Sex   Age  \\\n",
              " PassengerId                                                                    \n",
              " 1                                      Braund, Mr. Owen Harris    male  22.0   \n",
              " 2            Cumings, Mrs. John Bradley (Florence Briggs Th...  female  38.0   \n",
              " 3                                       Heikkinen, Miss. Laina  female  26.0   \n",
              " 4                 Futrelle, Mrs. Jacques Heath (Lily May Peel)  female  35.0   \n",
              " 5                                     Allen, Mr. William Henry    male  35.0   \n",
              " ...                                                        ...     ...   ...   \n",
              " 887                                      Montvila, Rev. Juozas    male  27.0   \n",
              " 888                               Graham, Miss. Margaret Edith  female  19.0   \n",
              " 889                   Johnston, Miss. Catherine Helen \"Carrie\"  female   NaN   \n",
              " 890                                      Behr, Mr. Karl Howell    male  26.0   \n",
              " 891                                        Dooley, Mr. Patrick    male  32.0   \n",
              " \n",
              "              SibSp  Parch            Ticket     Fare Cabin Embarked  \n",
              " PassengerId                                                          \n",
              " 1                1      0         A/5 21171   7.2500   NaN        S  \n",
              " 2                1      0          PC 17599  71.2833   C85        C  \n",
              " 3                0      0  STON/O2. 3101282   7.9250   NaN        S  \n",
              " 4                1      0            113803  53.1000  C123        S  \n",
              " 5                0      0            373450   8.0500   NaN        S  \n",
              " ...            ...    ...               ...      ...   ...      ...  \n",
              " 887              0      0            211536  13.0000   NaN        S  \n",
              " 888              0      0            112053  30.0000   B42        S  \n",
              " 889              1      2        W./C. 6607  23.4500   NaN        S  \n",
              " 890              0      0            111369  30.0000  C148        C  \n",
              " 891              0      0            370376   7.7500   NaN        Q  \n",
              " \n",
              " [891 rows x 11 columns],\n",
              "              Pclass                                          Name     Sex  \\\n",
              " PassengerId                                                                 \n",
              " 892               3                              Kelly, Mr. James    male   \n",
              " 893               3              Wilkes, Mrs. James (Ellen Needs)  female   \n",
              " 894               2                     Myles, Mr. Thomas Francis    male   \n",
              " 895               3                              Wirz, Mr. Albert    male   \n",
              " 896               3  Hirvonen, Mrs. Alexander (Helga E Lindqvist)  female   \n",
              " ...             ...                                           ...     ...   \n",
              " 1305              3                            Spector, Mr. Woolf    male   \n",
              " 1306              1                  Oliva y Ocana, Dona. Fermina  female   \n",
              " 1307              3                  Saether, Mr. Simon Sivertsen    male   \n",
              " 1308              3                           Ware, Mr. Frederick    male   \n",
              " 1309              3                      Peter, Master. Michael J    male   \n",
              " \n",
              "               Age  SibSp  Parch              Ticket      Fare Cabin Embarked  \n",
              " PassengerId                                                                   \n",
              " 892          34.5      0      0              330911    7.8292   NaN        Q  \n",
              " 893          47.0      1      0              363272    7.0000   NaN        S  \n",
              " 894          62.0      0      0              240276    9.6875   NaN        Q  \n",
              " 895          27.0      0      0              315154    8.6625   NaN        S  \n",
              " 896          22.0      1      1             3101298   12.2875   NaN        S  \n",
              " ...           ...    ...    ...                 ...       ...   ...      ...  \n",
              " 1305          NaN      0      0           A.5. 3236    8.0500   NaN        S  \n",
              " 1306         39.0      0      0            PC 17758  108.9000  C105        C  \n",
              " 1307         38.5      0      0  SOTON/O.Q. 3101262    7.2500   NaN        S  \n",
              " 1308          NaN      0      0              359309    8.0500   NaN        S  \n",
              " 1309          NaN      1      1                2668   22.3583   NaN        C  \n",
              " \n",
              " [418 rows x 10 columns])"
            ]
          },
          "metadata": {},
          "execution_count": 63
        }
      ]
    },
    {
      "cell_type": "code",
      "source": [
        "y_train=train[\"Survived\"]"
      ],
      "metadata": {
        "id": "xhdHq3DViS5p"
      },
      "execution_count": null,
      "outputs": []
    },
    {
      "cell_type": "code",
      "source": [
        "train.drop(labels=\"Survived\",axis=1,inplace=True)"
      ],
      "metadata": {
        "id": "9DRr0ESaiYr4"
      },
      "execution_count": null,
      "outputs": []
    },
    {
      "cell_type": "code",
      "source": [
        "train.shape"
      ],
      "metadata": {
        "colab": {
          "base_uri": "https://localhost:8080/"
        },
        "id": "18rGsUCYii9Q",
        "outputId": "800f082c-0ba2-4e6e-96bd-735add212c27"
      },
      "execution_count": null,
      "outputs": [
        {
          "output_type": "execute_result",
          "data": {
            "text/plain": [
              "(891, 10)"
            ]
          },
          "metadata": {},
          "execution_count": 66
        }
      ]
    },
    {
      "cell_type": "markdown",
      "source": [
        "As the size of dataset is not sufficient to run the other"
      ],
      "metadata": {
        "id": "z4DVVWpqixnh"
      }
    },
    {
      "cell_type": "code",
      "source": [
        "df=train.append(test)"
      ],
      "metadata": {
        "colab": {
          "base_uri": "https://localhost:8080/"
        },
        "id": "jDn1F8ifirAu",
        "outputId": "0e3af447-13bf-4c8a-d604-bfad9c29a298"
      },
      "execution_count": null,
      "outputs": [
        {
          "output_type": "stream",
          "name": "stderr",
          "text": [
            "<ipython-input-67-70b3393577bd>:1: FutureWarning: The frame.append method is deprecated and will be removed from pandas in a future version. Use pandas.concat instead.\n",
            "  df=train.append(test)\n"
          ]
        }
      ]
    },
    {
      "cell_type": "code",
      "source": [
        "df.columns"
      ],
      "metadata": {
        "colab": {
          "base_uri": "https://localhost:8080/"
        },
        "id": "upJudnToi7U4",
        "outputId": "1846f3ec-06df-42eb-d365-7db3606cc38d"
      },
      "execution_count": null,
      "outputs": [
        {
          "output_type": "execute_result",
          "data": {
            "text/plain": [
              "Index(['Pclass', 'Name', 'Sex', 'Age', 'SibSp', 'Parch', 'Ticket', 'Fare',\n",
              "       'Cabin', 'Embarked'],\n",
              "      dtype='object')"
            ]
          },
          "metadata": {},
          "execution_count": 68
        }
      ]
    },
    {
      "cell_type": "code",
      "source": [
        "columns_to_drop = ['Name', 'Age', 'SibSp', 'Parch', 'Ticket','Cabin','Embarked']\n",
        "df.drop(columns_to_drop,inplace=True,axis=1)"
      ],
      "metadata": {
        "id": "ffAixcCFqPbQ"
      },
      "execution_count": null,
      "outputs": []
    },
    {
      "cell_type": "code",
      "source": [
        "df_dummies=pd.get_dummies(df,columns=['Sex'])"
      ],
      "metadata": {
        "id": "_dZI10UZqstH"
      },
      "execution_count": null,
      "outputs": []
    },
    {
      "cell_type": "code",
      "source": [
        "df_dummies.shape"
      ],
      "metadata": {
        "colab": {
          "base_uri": "https://localhost:8080/"
        },
        "id": "PrUf8ddpq1We",
        "outputId": "9bf3cb89-aba1-46f4-e323-6a5e675bd5d9"
      },
      "execution_count": null,
      "outputs": [
        {
          "output_type": "execute_result",
          "data": {
            "text/plain": [
              "(1309, 4)"
            ]
          },
          "metadata": {},
          "execution_count": 71
        }
      ]
    },
    {
      "cell_type": "code",
      "source": [
        "df_dummies.isnull().sum()"
      ],
      "metadata": {
        "colab": {
          "base_uri": "https://localhost:8080/"
        },
        "id": "MjYFsWPbq3TI",
        "outputId": "70a7bb0e-1c62-4bac-bae1-9094b873bcc2"
      },
      "execution_count": null,
      "outputs": [
        {
          "output_type": "execute_result",
          "data": {
            "text/plain": [
              "Pclass        0\n",
              "Fare          1\n",
              "Sex_female    0\n",
              "Sex_male      0\n",
              "dtype: int64"
            ]
          },
          "metadata": {},
          "execution_count": 72
        }
      ]
    },
    {
      "cell_type": "code",
      "source": [
        "df_dummies.fillna(value=0.0,inplace=True)"
      ],
      "metadata": {
        "id": "trJgzHxGrGp1"
      },
      "execution_count": null,
      "outputs": []
    },
    {
      "cell_type": "code",
      "source": [
        "df_dummies"
      ],
      "metadata": {
        "colab": {
          "base_uri": "https://localhost:8080/",
          "height": 455
        },
        "id": "7Mm7PdjzrcnR",
        "outputId": "a9b2b772-adf9-47c9-b498-b266150dd4ad"
      },
      "execution_count": null,
      "outputs": [
        {
          "output_type": "execute_result",
          "data": {
            "text/plain": [
              "             Pclass      Fare  Sex_female  Sex_male\n",
              "PassengerId                                        \n",
              "1                 3    7.2500           0         1\n",
              "2                 1   71.2833           1         0\n",
              "3                 3    7.9250           1         0\n",
              "4                 1   53.1000           1         0\n",
              "5                 3    8.0500           0         1\n",
              "...             ...       ...         ...       ...\n",
              "1305              3    8.0500           0         1\n",
              "1306              1  108.9000           1         0\n",
              "1307              3    7.2500           0         1\n",
              "1308              3    8.0500           0         1\n",
              "1309              3   22.3583           0         1\n",
              "\n",
              "[1309 rows x 4 columns]"
            ],
            "text/html": [
              "\n",
              "  <div id=\"df-981fc9b2-362f-4e84-8b9c-a2f79a301a9b\" class=\"colab-df-container\">\n",
              "    <div>\n",
              "<style scoped>\n",
              "    .dataframe tbody tr th:only-of-type {\n",
              "        vertical-align: middle;\n",
              "    }\n",
              "\n",
              "    .dataframe tbody tr th {\n",
              "        vertical-align: top;\n",
              "    }\n",
              "\n",
              "    .dataframe thead th {\n",
              "        text-align: right;\n",
              "    }\n",
              "</style>\n",
              "<table border=\"1\" class=\"dataframe\">\n",
              "  <thead>\n",
              "    <tr style=\"text-align: right;\">\n",
              "      <th></th>\n",
              "      <th>Pclass</th>\n",
              "      <th>Fare</th>\n",
              "      <th>Sex_female</th>\n",
              "      <th>Sex_male</th>\n",
              "    </tr>\n",
              "    <tr>\n",
              "      <th>PassengerId</th>\n",
              "      <th></th>\n",
              "      <th></th>\n",
              "      <th></th>\n",
              "      <th></th>\n",
              "    </tr>\n",
              "  </thead>\n",
              "  <tbody>\n",
              "    <tr>\n",
              "      <th>1</th>\n",
              "      <td>3</td>\n",
              "      <td>7.2500</td>\n",
              "      <td>0</td>\n",
              "      <td>1</td>\n",
              "    </tr>\n",
              "    <tr>\n",
              "      <th>2</th>\n",
              "      <td>1</td>\n",
              "      <td>71.2833</td>\n",
              "      <td>1</td>\n",
              "      <td>0</td>\n",
              "    </tr>\n",
              "    <tr>\n",
              "      <th>3</th>\n",
              "      <td>3</td>\n",
              "      <td>7.9250</td>\n",
              "      <td>1</td>\n",
              "      <td>0</td>\n",
              "    </tr>\n",
              "    <tr>\n",
              "      <th>4</th>\n",
              "      <td>1</td>\n",
              "      <td>53.1000</td>\n",
              "      <td>1</td>\n",
              "      <td>0</td>\n",
              "    </tr>\n",
              "    <tr>\n",
              "      <th>5</th>\n",
              "      <td>3</td>\n",
              "      <td>8.0500</td>\n",
              "      <td>0</td>\n",
              "      <td>1</td>\n",
              "    </tr>\n",
              "    <tr>\n",
              "      <th>...</th>\n",
              "      <td>...</td>\n",
              "      <td>...</td>\n",
              "      <td>...</td>\n",
              "      <td>...</td>\n",
              "    </tr>\n",
              "    <tr>\n",
              "      <th>1305</th>\n",
              "      <td>3</td>\n",
              "      <td>8.0500</td>\n",
              "      <td>0</td>\n",
              "      <td>1</td>\n",
              "    </tr>\n",
              "    <tr>\n",
              "      <th>1306</th>\n",
              "      <td>1</td>\n",
              "      <td>108.9000</td>\n",
              "      <td>1</td>\n",
              "      <td>0</td>\n",
              "    </tr>\n",
              "    <tr>\n",
              "      <th>1307</th>\n",
              "      <td>3</td>\n",
              "      <td>7.2500</td>\n",
              "      <td>0</td>\n",
              "      <td>1</td>\n",
              "    </tr>\n",
              "    <tr>\n",
              "      <th>1308</th>\n",
              "      <td>3</td>\n",
              "      <td>8.0500</td>\n",
              "      <td>0</td>\n",
              "      <td>1</td>\n",
              "    </tr>\n",
              "    <tr>\n",
              "      <th>1309</th>\n",
              "      <td>3</td>\n",
              "      <td>22.3583</td>\n",
              "      <td>0</td>\n",
              "      <td>1</td>\n",
              "    </tr>\n",
              "  </tbody>\n",
              "</table>\n",
              "<p>1309 rows × 4 columns</p>\n",
              "</div>\n",
              "    <div class=\"colab-df-buttons\">\n",
              "\n",
              "  <div class=\"colab-df-container\">\n",
              "    <button class=\"colab-df-convert\" onclick=\"convertToInteractive('df-981fc9b2-362f-4e84-8b9c-a2f79a301a9b')\"\n",
              "            title=\"Convert this dataframe to an interactive table.\"\n",
              "            style=\"display:none;\">\n",
              "\n",
              "  <svg xmlns=\"http://www.w3.org/2000/svg\" height=\"24px\" viewBox=\"0 -960 960 960\">\n",
              "    <path d=\"M120-120v-720h720v720H120Zm60-500h600v-160H180v160Zm220 220h160v-160H400v160Zm0 220h160v-160H400v160ZM180-400h160v-160H180v160Zm440 0h160v-160H620v160ZM180-180h160v-160H180v160Zm440 0h160v-160H620v160Z\"/>\n",
              "  </svg>\n",
              "    </button>\n",
              "\n",
              "  <style>\n",
              "    .colab-df-container {\n",
              "      display:flex;\n",
              "      gap: 12px;\n",
              "    }\n",
              "\n",
              "    .colab-df-convert {\n",
              "      background-color: #E8F0FE;\n",
              "      border: none;\n",
              "      border-radius: 50%;\n",
              "      cursor: pointer;\n",
              "      display: none;\n",
              "      fill: #1967D2;\n",
              "      height: 32px;\n",
              "      padding: 0 0 0 0;\n",
              "      width: 32px;\n",
              "    }\n",
              "\n",
              "    .colab-df-convert:hover {\n",
              "      background-color: #E2EBFA;\n",
              "      box-shadow: 0px 1px 2px rgba(60, 64, 67, 0.3), 0px 1px 3px 1px rgba(60, 64, 67, 0.15);\n",
              "      fill: #174EA6;\n",
              "    }\n",
              "\n",
              "    .colab-df-buttons div {\n",
              "      margin-bottom: 4px;\n",
              "    }\n",
              "\n",
              "    [theme=dark] .colab-df-convert {\n",
              "      background-color: #3B4455;\n",
              "      fill: #D2E3FC;\n",
              "    }\n",
              "\n",
              "    [theme=dark] .colab-df-convert:hover {\n",
              "      background-color: #434B5C;\n",
              "      box-shadow: 0px 1px 3px 1px rgba(0, 0, 0, 0.15);\n",
              "      filter: drop-shadow(0px 1px 2px rgba(0, 0, 0, 0.3));\n",
              "      fill: #FFFFFF;\n",
              "    }\n",
              "  </style>\n",
              "\n",
              "    <script>\n",
              "      const buttonEl =\n",
              "        document.querySelector('#df-981fc9b2-362f-4e84-8b9c-a2f79a301a9b button.colab-df-convert');\n",
              "      buttonEl.style.display =\n",
              "        google.colab.kernel.accessAllowed ? 'block' : 'none';\n",
              "\n",
              "      async function convertToInteractive(key) {\n",
              "        const element = document.querySelector('#df-981fc9b2-362f-4e84-8b9c-a2f79a301a9b');\n",
              "        const dataTable =\n",
              "          await google.colab.kernel.invokeFunction('convertToInteractive',\n",
              "                                                    [key], {});\n",
              "        if (!dataTable) return;\n",
              "\n",
              "        const docLinkHtml = 'Like what you see? Visit the ' +\n",
              "          '<a target=\"_blank\" href=https://colab.research.google.com/notebooks/data_table.ipynb>data table notebook</a>'\n",
              "          + ' to learn more about interactive tables.';\n",
              "        element.innerHTML = '';\n",
              "        dataTable['output_type'] = 'display_data';\n",
              "        await google.colab.output.renderOutput(dataTable, element);\n",
              "        const docLink = document.createElement('div');\n",
              "        docLink.innerHTML = docLinkHtml;\n",
              "        element.appendChild(docLink);\n",
              "      }\n",
              "    </script>\n",
              "  </div>\n",
              "\n",
              "\n",
              "<div id=\"df-a74f933f-5f25-4f76-86c9-d5735c9496b2\">\n",
              "  <button class=\"colab-df-quickchart\" onclick=\"quickchart('df-a74f933f-5f25-4f76-86c9-d5735c9496b2')\"\n",
              "            title=\"Suggest charts\"\n",
              "            style=\"display:none;\">\n",
              "\n",
              "<svg xmlns=\"http://www.w3.org/2000/svg\" height=\"24px\"viewBox=\"0 0 24 24\"\n",
              "     width=\"24px\">\n",
              "    <g>\n",
              "        <path d=\"M19 3H5c-1.1 0-2 .9-2 2v14c0 1.1.9 2 2 2h14c1.1 0 2-.9 2-2V5c0-1.1-.9-2-2-2zM9 17H7v-7h2v7zm4 0h-2V7h2v10zm4 0h-2v-4h2v4z\"/>\n",
              "    </g>\n",
              "</svg>\n",
              "  </button>\n",
              "\n",
              "<style>\n",
              "  .colab-df-quickchart {\n",
              "      --bg-color: #E8F0FE;\n",
              "      --fill-color: #1967D2;\n",
              "      --hover-bg-color: #E2EBFA;\n",
              "      --hover-fill-color: #174EA6;\n",
              "      --disabled-fill-color: #AAA;\n",
              "      --disabled-bg-color: #DDD;\n",
              "  }\n",
              "\n",
              "  [theme=dark] .colab-df-quickchart {\n",
              "      --bg-color: #3B4455;\n",
              "      --fill-color: #D2E3FC;\n",
              "      --hover-bg-color: #434B5C;\n",
              "      --hover-fill-color: #FFFFFF;\n",
              "      --disabled-bg-color: #3B4455;\n",
              "      --disabled-fill-color: #666;\n",
              "  }\n",
              "\n",
              "  .colab-df-quickchart {\n",
              "    background-color: var(--bg-color);\n",
              "    border: none;\n",
              "    border-radius: 50%;\n",
              "    cursor: pointer;\n",
              "    display: none;\n",
              "    fill: var(--fill-color);\n",
              "    height: 32px;\n",
              "    padding: 0;\n",
              "    width: 32px;\n",
              "  }\n",
              "\n",
              "  .colab-df-quickchart:hover {\n",
              "    background-color: var(--hover-bg-color);\n",
              "    box-shadow: 0 1px 2px rgba(60, 64, 67, 0.3), 0 1px 3px 1px rgba(60, 64, 67, 0.15);\n",
              "    fill: var(--button-hover-fill-color);\n",
              "  }\n",
              "\n",
              "  .colab-df-quickchart-complete:disabled,\n",
              "  .colab-df-quickchart-complete:disabled:hover {\n",
              "    background-color: var(--disabled-bg-color);\n",
              "    fill: var(--disabled-fill-color);\n",
              "    box-shadow: none;\n",
              "  }\n",
              "\n",
              "  .colab-df-spinner {\n",
              "    border: 2px solid var(--fill-color);\n",
              "    border-color: transparent;\n",
              "    border-bottom-color: var(--fill-color);\n",
              "    animation:\n",
              "      spin 1s steps(1) infinite;\n",
              "  }\n",
              "\n",
              "  @keyframes spin {\n",
              "    0% {\n",
              "      border-color: transparent;\n",
              "      border-bottom-color: var(--fill-color);\n",
              "      border-left-color: var(--fill-color);\n",
              "    }\n",
              "    20% {\n",
              "      border-color: transparent;\n",
              "      border-left-color: var(--fill-color);\n",
              "      border-top-color: var(--fill-color);\n",
              "    }\n",
              "    30% {\n",
              "      border-color: transparent;\n",
              "      border-left-color: var(--fill-color);\n",
              "      border-top-color: var(--fill-color);\n",
              "      border-right-color: var(--fill-color);\n",
              "    }\n",
              "    40% {\n",
              "      border-color: transparent;\n",
              "      border-right-color: var(--fill-color);\n",
              "      border-top-color: var(--fill-color);\n",
              "    }\n",
              "    60% {\n",
              "      border-color: transparent;\n",
              "      border-right-color: var(--fill-color);\n",
              "    }\n",
              "    80% {\n",
              "      border-color: transparent;\n",
              "      border-right-color: var(--fill-color);\n",
              "      border-bottom-color: var(--fill-color);\n",
              "    }\n",
              "    90% {\n",
              "      border-color: transparent;\n",
              "      border-bottom-color: var(--fill-color);\n",
              "    }\n",
              "  }\n",
              "</style>\n",
              "\n",
              "  <script>\n",
              "    async function quickchart(key) {\n",
              "      const quickchartButtonEl =\n",
              "        document.querySelector('#' + key + ' button');\n",
              "      quickchartButtonEl.disabled = true;  // To prevent multiple clicks.\n",
              "      quickchartButtonEl.classList.add('colab-df-spinner');\n",
              "      try {\n",
              "        const charts = await google.colab.kernel.invokeFunction(\n",
              "            'suggestCharts', [key], {});\n",
              "      } catch (error) {\n",
              "        console.error('Error during call to suggestCharts:', error);\n",
              "      }\n",
              "      quickchartButtonEl.classList.remove('colab-df-spinner');\n",
              "      quickchartButtonEl.classList.add('colab-df-quickchart-complete');\n",
              "    }\n",
              "    (() => {\n",
              "      let quickchartButtonEl =\n",
              "        document.querySelector('#df-a74f933f-5f25-4f76-86c9-d5735c9496b2 button');\n",
              "      quickchartButtonEl.style.display =\n",
              "        google.colab.kernel.accessAllowed ? 'block' : 'none';\n",
              "    })();\n",
              "  </script>\n",
              "</div>\n",
              "    </div>\n",
              "  </div>\n"
            ]
          },
          "metadata": {},
          "execution_count": 74
        }
      ]
    },
    {
      "cell_type": "code",
      "source": [
        "x_train=df_dummies[0:891]\n",
        "x_test=df_dummies[891:]"
      ],
      "metadata": {
        "id": "M37cD_cQr17d"
      },
      "execution_count": null,
      "outputs": []
    },
    {
      "cell_type": "code",
      "source": [
        "from sklearn.preprocessing import MinMaxScaler\n",
        "scaler= MinMaxScaler()\n",
        "x_train_scale=scaler.fit_transform(x_train)\n",
        "x_test_scale=scaler.transform(x_test)"
      ],
      "metadata": {
        "id": "FxP9LiTrrjeD"
      },
      "execution_count": null,
      "outputs": []
    },
    {
      "cell_type": "code",
      "source": [
        "x_train.isnull().sum()"
      ],
      "metadata": {
        "colab": {
          "base_uri": "https://localhost:8080/"
        },
        "id": "_qbdLLw9w3NN",
        "outputId": "cf8d437a-7be5-4a04-8a5d-5dfcc4e0a134"
      },
      "execution_count": null,
      "outputs": [
        {
          "output_type": "execute_result",
          "data": {
            "text/plain": [
              "Pclass        0\n",
              "Fare          0\n",
              "Sex_female    0\n",
              "Sex_male      0\n",
              "dtype: int64"
            ]
          },
          "metadata": {},
          "execution_count": 77
        }
      ]
    },
    {
      "cell_type": "code",
      "source": [
        "x_test.isnull().sum()"
      ],
      "metadata": {
        "colab": {
          "base_uri": "https://localhost:8080/"
        },
        "id": "ka6DV9pIw7Rb",
        "outputId": "f8ff7dc6-bf96-40db-dc2b-c9720b950c2e"
      },
      "execution_count": null,
      "outputs": [
        {
          "output_type": "execute_result",
          "data": {
            "text/plain": [
              "Pclass        0\n",
              "Fare          0\n",
              "Sex_female    0\n",
              "Sex_male      0\n",
              "dtype: int64"
            ]
          },
          "metadata": {},
          "execution_count": 78
        }
      ]
    },
    {
      "cell_type": "code",
      "source": [
        "from sklearn.model_selection import train_test_split\n",
        "x_train_sub,x_test_sub,y_train_sub,y_test_sub=train_test_split(x_train_scale,y_train,test_size=0.2,random_state=42)"
      ],
      "metadata": {
        "id": "cJO0A5PCsOB9"
      },
      "execution_count": null,
      "outputs": []
    },
    {
      "cell_type": "code",
      "source": [
        "from sklearn.ensemble import GradientBoostingClassifier\n",
        "learning_rate=[0.05,0.1,0.25,0.5,0.75,1]\n",
        "for learning_rate in learning_rate:\n",
        "  gb = GradientBoostingClassifier(learning_rate=learning_rate,n_estimators=20,max_features=5)\n",
        "  gb.fit(x_train_sub,y_train_sub)\n",
        "  print(\"Learning Rate:\",learning_rate)\n",
        "  print(\"Accuracy score (Training): {0:.3f}\".format(gb.score(x_train_sub,y_train_sub)))\n",
        "  print(\"Accuracy score (Testing): {0:.3f}\".format(gb.score(x_test_sub,y_test_sub)))\n",
        "  print()"
      ],
      "metadata": {
        "colab": {
          "base_uri": "https://localhost:8080/"
        },
        "id": "bJyBVWPhtP_F",
        "outputId": "269bb428-9ced-40b0-d561-8cf67ddb06c9"
      },
      "execution_count": null,
      "outputs": [
        {
          "output_type": "stream",
          "name": "stdout",
          "text": [
            "Learning Rate: 0.05\n",
            "Accuracy score (Training): 0.808\n",
            "Accuracy score (Testing): 0.760\n",
            "\n",
            "Learning Rate: 0.1\n",
            "Accuracy score (Training): 0.838\n",
            "Accuracy score (Testing): 0.804\n",
            "\n",
            "Learning Rate: 0.25\n",
            "Accuracy score (Training): 0.854\n",
            "Accuracy score (Testing): 0.804\n",
            "\n",
            "Learning Rate: 0.5\n",
            "Accuracy score (Training): 0.881\n",
            "Accuracy score (Testing): 0.821\n",
            "\n",
            "Learning Rate: 0.75\n",
            "Accuracy score (Training): 0.881\n",
            "Accuracy score (Testing): 0.804\n",
            "\n",
            "Learning Rate: 1\n",
            "Accuracy score (Training): 0.895\n",
            "Accuracy score (Testing): 0.832\n",
            "\n"
          ]
        }
      ]
    },
    {
      "cell_type": "code",
      "source": [
        "from sklearn.ensemble import AdaBoostClassifier\n",
        "learning_rate=[0.05,0.1,0.25,0.5,0.75,1]\n",
        "for learning_rate in learning_rate:\n",
        "  ab = AdaBoostClassifier(learning_rate=learning_rate,n_estimators=100,random_state=42)\n",
        "  ab.fit(x_train_sub,y_train_sub)\n",
        "  print(\"Learning Rate:\",learning_rate)\n",
        "  print(\"Accuracy score (Training): {0:.3f}\".format(ab.score(x_train_sub,y_train_sub)))\n",
        "  print(\"Accuracy score (Testing): {0:.3f}\".format(ab.score(x_test_sub,y_test_sub)))\n",
        "  print()"
      ],
      "metadata": {
        "colab": {
          "base_uri": "https://localhost:8080/"
        },
        "id": "1Nv5gF-4t5hQ",
        "outputId": "da406a7f-9a2b-49c1-acaf-b0627ee43d3d"
      },
      "execution_count": null,
      "outputs": [
        {
          "output_type": "stream",
          "name": "stdout",
          "text": [
            "Learning Rate: 0.05\n",
            "Accuracy score (Training): 0.792\n",
            "Accuracy score (Testing): 0.782\n",
            "\n",
            "Learning Rate: 0.1\n",
            "Accuracy score (Training): 0.792\n",
            "Accuracy score (Testing): 0.782\n",
            "\n",
            "Learning Rate: 0.25\n",
            "Accuracy score (Training): 0.796\n",
            "Accuracy score (Testing): 0.788\n",
            "\n",
            "Learning Rate: 0.5\n",
            "Accuracy score (Training): 0.801\n",
            "Accuracy score (Testing): 0.788\n",
            "\n",
            "Learning Rate: 0.75\n",
            "Accuracy score (Training): 0.809\n",
            "Accuracy score (Testing): 0.793\n",
            "\n",
            "Learning Rate: 1\n",
            "Accuracy score (Training): 0.816\n",
            "Accuracy score (Testing): 0.799\n",
            "\n"
          ]
        }
      ]
    },
    {
      "cell_type": "code",
      "source": [
        "from sklearn.ensemble import AdaBoostClassifier\n",
        "ab = AdaBoostClassifier(n_estimators=100,algorithm='SAMME',random_state=42)\n",
        "ab.fit(x_train_sub,y_train_sub)\n",
        "print(\"Accuracy score (Training): {0:.3f}\".format(ab.score(x_train_sub,y_train_sub)))\n",
        "print(\"Accuracy score (Testing): {0:.3f}\".format(ab.score(x_test_sub,y_test_sub)))"
      ],
      "metadata": {
        "colab": {
          "base_uri": "https://localhost:8080/"
        },
        "id": "ErPH71W0x5ws",
        "outputId": "33018127-6217-423d-c742-68514111da09"
      },
      "execution_count": null,
      "outputs": [
        {
          "output_type": "stream",
          "name": "stdout",
          "text": [
            "Accuracy score (Training): 0.792\n",
            "Accuracy score (Testing): 0.782\n"
          ]
        }
      ]
    }
  ]
}