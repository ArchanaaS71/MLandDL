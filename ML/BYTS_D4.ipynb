{
  "nbformat": 4,
  "nbformat_minor": 0,
  "metadata": {
    "colab": {
      "provenance": []
    },
    "kernelspec": {
      "name": "python3",
      "display_name": "Python 3"
    },
    "language_info": {
      "name": "python"
    }
  },
  "cells": [
    {
      "cell_type": "code",
      "execution_count": null,
      "metadata": {
        "id": "pFY_JBqXsxgV"
      },
      "outputs": [],
      "source": [
        "#DATA-> domain knowledge -> data clean() -> EDA(charts,graphs)  -> feature engineering(standardization, normalisation)-> feature selection(corelation,pearson score,causation)  ->\n",
        "#train - test split(80-20)-->model(define the model)-->model compile(define loss function , optimizers defined,metrices - accuracy,f1 score,MSE),model fit(model+data=batc size,epoch,) ->\n",
        "#test\n"
      ]
    },
    {
      "cell_type": "code",
      "source": [
        "#Hyperparameter tuning [Grid Search] --> weights export\n",
        "\n"
      ],
      "metadata": {
        "id": "cSwuarux2Iq5"
      },
      "execution_count": null,
      "outputs": []
    },
    {
      "cell_type": "markdown",
      "source": [
        "model fit will change as we change the parameter of the equation:\n",
        "Y=MX+C\\\n",
        "Here the value of m anc c can be changed\n",
        "\n"
      ],
      "metadata": {
        "id": "bj_TgLwYzx2T"
      }
    },
    {
      "cell_type": "code",
      "source": [
        "#multiply learning rate fo smooth uptaking\n",
        "#learning rate - rate of change and its direction\n"
      ],
      "metadata": {
        "id": "mZYW0ueU0bHo"
      },
      "execution_count": null,
      "outputs": []
    },
    {
      "cell_type": "code",
      "source": [
        "import tensorflow as tf\n"
      ],
      "metadata": {
        "id": "GLqo8XPPOUOp"
      },
      "execution_count": null,
      "outputs": []
    },
    {
      "cell_type": "code",
      "source": [
        "x = tf.variables(3,0)\n",
        "x"
      ],
      "metadata": {
        "id": "d6m3a2IDOg-I",
        "outputId": "79004bcf-929b-4061-f5f4-f64a6136f860",
        "colab": {
          "base_uri": "https://localhost:8080/",
          "height": 175
        }
      },
      "execution_count": null,
      "outputs": [
        {
          "output_type": "error",
          "ename": "AttributeError",
          "evalue": "ignored",
          "traceback": [
            "\u001b[0;31m---------------------------------------------------------------------------\u001b[0m",
            "\u001b[0;31mAttributeError\u001b[0m                            Traceback (most recent call last)",
            "\u001b[0;32m<ipython-input-2-c5e3ad1c0f10>\u001b[0m in \u001b[0;36m<cell line: 1>\u001b[0;34m()\u001b[0m\n\u001b[0;32m----> 1\u001b[0;31m \u001b[0mx\u001b[0m \u001b[0;34m=\u001b[0m \u001b[0mtf\u001b[0m\u001b[0;34m.\u001b[0m\u001b[0mvariables\u001b[0m\u001b[0;34m(\u001b[0m\u001b[0;36m3\u001b[0m\u001b[0;34m,\u001b[0m\u001b[0;36m0\u001b[0m\u001b[0;34m)\u001b[0m\u001b[0;34m\u001b[0m\u001b[0;34m\u001b[0m\u001b[0m\n\u001b[0m",
            "\u001b[0;31mAttributeError\u001b[0m: module 'tensorflow' has no attribute 'variables'"
          ]
        }
      ]
    },
    {
      "cell_type": "code",
      "source": [],
      "metadata": {
        "id": "oW6W-C4TOlNB"
      },
      "execution_count": null,
      "outputs": []
    }
  ]
}