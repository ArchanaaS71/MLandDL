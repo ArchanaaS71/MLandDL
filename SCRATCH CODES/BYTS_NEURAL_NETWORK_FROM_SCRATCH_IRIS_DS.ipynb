{
  "nbformat": 4,
  "nbformat_minor": 0,
  "metadata": {
    "colab": {
      "provenance": []
    },
    "kernelspec": {
      "name": "python3",
      "display_name": "Python 3"
    },
    "language_info": {
      "name": "python"
    }
  },
  "cells": [
    {
      "cell_type": "code",
      "execution_count": null,
      "metadata": {
        "id": "ho6zsSrCcOOm"
      },
      "outputs": [],
      "source": [
        "import numpy as np\n",
        "from sklearn import datasets\n",
        "from sklearn.model_selection import train_test_split\n",
        "from sklearn.preprocessing import StandardScaler, OneHotEncoder"
      ]
    },
    {
      "cell_type": "code",
      "source": [
        "iris = datasets.load_iris()\n",
        "X = iris.data\n",
        "y = iris.target.reshape(-1, 1)"
      ],
      "metadata": {
        "id": "Yp_uK-P5cYRX"
      },
      "execution_count": null,
      "outputs": []
    },
    {
      "cell_type": "code",
      "source": [
        "encoder = OneHotEncoder(sparse=False)\n",
        "y_onehot = encoder.fit_transform(y)"
      ],
      "metadata": {
        "colab": {
          "base_uri": "https://localhost:8080/"
        },
        "id": "NDoWTyG-csuF",
        "outputId": "1ca686b1-f0d9-48ef-8f3f-0fdc56fa1650"
      },
      "execution_count": null,
      "outputs": [
        {
          "output_type": "stream",
          "name": "stderr",
          "text": [
            "/usr/local/lib/python3.10/dist-packages/sklearn/preprocessing/_encoders.py:868: FutureWarning: `sparse` was renamed to `sparse_output` in version 1.2 and will be removed in 1.4. `sparse_output` is ignored unless you leave `sparse` to its default value.\n",
            "  warnings.warn(\n"
          ]
        }
      ]
    },
    {
      "cell_type": "code",
      "source": [
        "X_train, X_test, y_train, y_test = train_test_split(X, y_onehot, test_size=0.2, random_state=42)\n"
      ],
      "metadata": {
        "id": "QuLlOLFVc0c0"
      },
      "execution_count": null,
      "outputs": []
    },
    {
      "cell_type": "code",
      "source": [
        "scaler = StandardScaler()\n",
        "X_train = scaler.fit_transform(X_train)\n",
        "X_test = scaler.transform(X_test)"
      ],
      "metadata": {
        "id": "UcmaXcPHc3m1"
      },
      "execution_count": null,
      "outputs": []
    },
    {
      "cell_type": "code",
      "source": [
        "input_size = X_train.shape[1]\n",
        "hidden_size = 20\n",
        "output_size = y_train.shape[1]\n",
        "learning_rate = 0.01\n",
        "epochs = 2000\n",
        "batch_size=32\n",
        "reg_lambda = 0.01"
      ],
      "metadata": {
        "id": "hQuykM9_c60J"
      },
      "execution_count": null,
      "outputs": []
    },
    {
      "cell_type": "code",
      "source": [
        "np.random.seed(42)\n",
        "weights_input_hidden = np.random.randn(input_size, hidden_size)\n",
        "biases_input_hidden = np.zeros((1, hidden_size))\n",
        "weights_hidden_output = np.random.randn(hidden_size, output_size)\n",
        "biases_hidden_output = np.zeros((1, output_size))"
      ],
      "metadata": {
        "id": "BOCtloNbc93L"
      },
      "execution_count": null,
      "outputs": []
    },
    {
      "cell_type": "code",
      "source": [
        "def sigmoid(x):\n",
        "    return 1 / (1 + np.exp(-x))\n"
      ],
      "metadata": {
        "id": "IwNxJ54kdBAL"
      },
      "execution_count": null,
      "outputs": []
    },
    {
      "cell_type": "code",
      "source": [
        "def softmax(x):\n",
        "    exp_x = np.exp(x - np.max(x, axis=1, keepdims=True))\n",
        "    return exp_x / np.sum(exp_x, axis=1, keepdims=True)"
      ],
      "metadata": {
        "id": "6hFaaiTMdDFP"
      },
      "execution_count": null,
      "outputs": []
    },
    {
      "cell_type": "code",
      "source": [
        "for epoch in range(epochs):\n",
        "    # Mini-batch training\n",
        "    indices = np.random.choice(len(X_train), batch_size, replace=False)\n",
        "    X_batch = X_train[indices]\n",
        "    y_batch = y_train[indices]\n",
        "    hidden_input = np.dot(X_batch, weights_input_hidden) + biases_input_hidden\n",
        "    hidden_output = sigmoid(hidden_input)\n",
        "    output_layer_input = np.dot(hidden_output, weights_hidden_output) + biases_hidden_output\n",
        "    predicted_output = softmax(output_layer_input)\n",
        "\n",
        "     # Compute loss with L2 regularization\n",
        "    loss = -np.sum(y_batch * np.log(predicted_output)) / len(y_batch)\n",
        "    loss += (reg_lambda / (2 * len(y_batch))) * (np.sum(weights_input_hidden**2) + np.sum(weights_hidden_output**2))\n",
        "\n",
        "    # Backpropagation\n",
        "    output_error = predicted_output - y_batch\n",
        "    hidden_layer_error = np.dot(output_error, weights_hidden_output.T) * (hidden_output * (1 - hidden_output))\n",
        "\n",
        "    # Update weights and biases with regularization\n",
        "    weights_hidden_output -= (learning_rate / len(y_batch)) * (np.dot(hidden_output.T, output_error) + reg_lambda * weights_hidden_output)\n",
        "    biases_hidden_output -= (learning_rate / len(y_batch)) * np.sum(output_error, axis=0, keepdims=True)\n",
        "    weights_input_hidden -= (learning_rate / len(y_batch)) * (np.dot(X_batch.T, hidden_layer_error) + reg_lambda * weights_input_hidden)\n",
        "    biases_input_hidden -= (learning_rate / len(y_batch)) * np.sum(hidden_layer_error, axis=0, keepdims=True)\n",
        "\n",
        "    # Print loss every 100 epochs\n",
        "    if epoch % 100 == 0:\n",
        "        print(f\"Epoch {epoch}, Loss: {loss}\")\n"
      ],
      "metadata": {
        "colab": {
          "base_uri": "https://localhost:8080/"
        },
        "id": "7gCJNQIZeaQp",
        "outputId": "f77a0b37-5221-49af-fd79-dfbe0c11524f"
      },
      "execution_count": null,
      "outputs": [
        {
          "output_type": "stream",
          "name": "stdout",
          "text": [
            "Epoch 0, Loss: 1.3732013954293103\n",
            "Epoch 100, Loss: 0.7003784413711017\n",
            "Epoch 200, Loss: 0.592180336250302\n",
            "Epoch 300, Loss: 0.5301219087453586\n",
            "Epoch 400, Loss: 0.4597835359361345\n",
            "Epoch 500, Loss: 0.542301197933876\n",
            "Epoch 600, Loss: 0.43488848070260727\n",
            "Epoch 700, Loss: 0.29846871467815783\n",
            "Epoch 800, Loss: 0.3914211751831234\n",
            "Epoch 900, Loss: 0.3751880427978593\n",
            "Epoch 1000, Loss: 0.2886103030984113\n",
            "Epoch 1100, Loss: 0.31422134079313346\n",
            "Epoch 1200, Loss: 0.2950637580713734\n",
            "Epoch 1300, Loss: 0.27276878512600694\n",
            "Epoch 1400, Loss: 0.26353620225739427\n",
            "Epoch 1500, Loss: 0.2230023270127477\n",
            "Epoch 1600, Loss: 0.22024305444876377\n",
            "Epoch 1700, Loss: 0.2802261262449118\n",
            "Epoch 1800, Loss: 0.32336192591214624\n",
            "Epoch 1900, Loss: 0.18978594227020706\n"
          ]
        }
      ]
    },
    {
      "cell_type": "code",
      "source": [
        "    hidden_input = np.dot(X_batch, weights_input_hidden) + biases_input_hidden\n",
        "    hidden_output = sigmoid(hidden_input)\n",
        "    output_layer_input = np.dot(hidden_output, weights_hidden_output) + biases_hidden_output\n",
        "    predicted_output = softmax(output_layer_input)\n",
        "\n",
        "     # Compute loss with L2 regularization\n",
        "    loss = -np.sum(y_batch * np.log(predicted_output)) / len(y_batch)\n",
        "    loss += (reg_lambda / (2 * len(y_batch))) * (np.sum(weights_input_hidden**2) + np.sum(weights_hidden_output**2))\n",
        "\n",
        "    # Backpropagation\n",
        "    output_error = predicted_output - y_batch\n",
        "    hidden_layer_error = np.dot(output_error, weights_hidden_output.T) * (hidden_output * (1 - hidden_output))\n",
        "\n",
        "    # Update weights and biases with regularization\n",
        "    weights_hidden_output -= (learning_rate / len(y_batch)) * (np.dot(hidden_output.T, output_error) + reg_lambda * weights_hidden_output)\n",
        "    biases_hidden_output -= (learning_rate / len(y_batch)) * np.sum(output_error, axis=0, keepdims=True)\n",
        "    weights_input_hidden -= (learning_rate / len(y_batch)) * (np.dot(X_batch.T, hidden_layer_error) + reg_lambda * weights_input_hidden)\n",
        "    biases_input_hidden -= (learning_rate / len(y_batch)) * np.sum(hidden_layer_error, axis=0, keepdims=True)\n",
        "\n",
        "    # Print loss every 100 epochs\n",
        "    if epoch % 100 == 0:\n",
        "        print(f\"Epoch {epoch}, Loss: {loss}\")"
      ],
      "metadata": {
        "id": "Uqq2x2FWe6Cd"
      },
      "execution_count": null,
      "outputs": []
    },
    {
      "cell_type": "code",
      "source": [
        "hidden_input_test = np.dot(X_test, weights_input_hidden) + biases_input_hidden\n",
        "hidden_output_test = sigmoid(hidden_input_test)\n",
        "output_layer_input_test = np.dot(hidden_output_test, weights_hidden_output) + biases_hidden_output\n",
        "predicted_output_test = softmax(output_layer_input_test)"
      ],
      "metadata": {
        "id": "DjpT4NObegQv"
      },
      "execution_count": null,
      "outputs": []
    },
    {
      "cell_type": "code",
      "source": [
        "predicted_labels = np.argmax(predicted_output_test, axis=1)\n",
        "true_labels = np.argmax(y_test, axis=1)\n",
        "accuracy = np.sum(predicted_labels == true_labels) / len(true_labels)"
      ],
      "metadata": {
        "id": "xRvL6DAteq0V"
      },
      "execution_count": null,
      "outputs": []
    },
    {
      "cell_type": "code",
      "source": [
        "print(f\"Accuracy on test set: {accuracy}\")"
      ],
      "metadata": {
        "colab": {
          "base_uri": "https://localhost:8080/"
        },
        "id": "1uLKiP6westR",
        "outputId": "b7f22891-3b54-4aca-e556-dea2ee3ae1d9"
      },
      "execution_count": null,
      "outputs": [
        {
          "output_type": "stream",
          "name": "stdout",
          "text": [
            "Accuracy on test set: 0.9666666666666667\n"
          ]
        }
      ]
    },
    {
      "cell_type": "code",
      "source": [],
      "metadata": {
        "colab": {
          "base_uri": "https://localhost:8080/",
          "height": 192
        },
        "id": "Lvu2KN41myjX",
        "outputId": "70f9fafe-fb7b-42f6-85f0-b6549f65007f"
      },
      "execution_count": null,
      "outputs": [
        {
          "output_type": "error",
          "ename": "AttributeError",
          "evalue": "ignored",
          "traceback": [
            "\u001b[0;31m---------------------------------------------------------------------------\u001b[0m",
            "\u001b[0;31mAttributeError\u001b[0m                            Traceback (most recent call last)",
            "\u001b[0;32m<ipython-input-75-def5c33cf44f>\u001b[0m in \u001b[0;36m<cell line: 2>\u001b[0;34m()\u001b[0m\n\u001b[1;32m      1\u001b[0m \u001b[0;32mimport\u001b[0m \u001b[0mtensorflow\u001b[0m \u001b[0;32mas\u001b[0m \u001b[0mtf\u001b[0m\u001b[0;34m\u001b[0m\u001b[0;34m\u001b[0m\u001b[0m\n\u001b[0;32m----> 2\u001b[0;31m \u001b[0mtf\u001b[0m\u001b[0;34m.\u001b[0m\u001b[0m_version_\u001b[0m\u001b[0;34m\u001b[0m\u001b[0;34m\u001b[0m\u001b[0m\n\u001b[0m",
            "\u001b[0;31mAttributeError\u001b[0m: module 'tensorflow' has no attribute '_version_'"
          ]
        }
      ]
    }
  ]
}